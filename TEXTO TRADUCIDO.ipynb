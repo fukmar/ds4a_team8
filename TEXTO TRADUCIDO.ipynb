{
 "cells": [
  {
   "cell_type": "markdown",
   "id": "e672a4f5",
   "metadata": {},
   "source": [
    "### 1. EDA - Dataset\n",
    "\n",
    "#### 1.1 Univariate Analysis\n",
    "\n",
    "* Evolution of registrations\n",
    "* Evolution of logins\n",
    "* Evolution of consumption (in and out)\n",
    "* Demographic features (global numbers: age, sex, province, etc)\n",
    "\n",
    "#### 1.2 Multivariate Analysis\n",
    "\n",
    "* Correlation Matrix (Pearson) (relationships between variables before Association Rules)\n",
    "\n",
    "### 2. EDA - Association Rules\n",
    "\n",
    "* Total products\n",
    "* Most frequent items/ itemsets\n",
    "* Most frequent rules\n",
    "* Business rules\n"
   ]
  },
  {
   "cell_type": "markdown",
   "id": "4ef36e67",
   "metadata": {},
   "source": [
    "Importing packages and libraries"
   ]
  },
  {
   "cell_type": "code",
   "execution_count": 1,
   "id": "e1f34c36",
   "metadata": {},
   "outputs": [
    {
     "ename": "ModuleNotFoundError",
     "evalue": "No module named 'mlxtend'",
     "output_type": "error",
     "traceback": [
      "\u001b[0;31m---------------------------------------------------------------------------\u001b[0m",
      "\u001b[0;31mModuleNotFoundError\u001b[0m                       Traceback (most recent call last)",
      "\u001b[0;32m<ipython-input-1-6c08cef0da50>\u001b[0m in \u001b[0;36m<module>\u001b[0;34m\u001b[0m\n\u001b[1;32m      4\u001b[0m \u001b[0;32mimport\u001b[0m \u001b[0mseaborn\u001b[0m \u001b[0;32mas\u001b[0m \u001b[0msns\u001b[0m\u001b[0;34m\u001b[0m\u001b[0;34m\u001b[0m\u001b[0m\n\u001b[1;32m      5\u001b[0m \u001b[0;32mimport\u001b[0m \u001b[0mmath\u001b[0m\u001b[0;34m\u001b[0m\u001b[0;34m\u001b[0m\u001b[0m\n\u001b[0;32m----> 6\u001b[0;31m \u001b[0;32mfrom\u001b[0m \u001b[0mmlxtend\u001b[0m\u001b[0;34m.\u001b[0m\u001b[0mfrequent_patterns\u001b[0m \u001b[0;32mimport\u001b[0m \u001b[0mapriori\u001b[0m\u001b[0;34m\u001b[0m\u001b[0;34m\u001b[0m\u001b[0m\n\u001b[0m\u001b[1;32m      7\u001b[0m \u001b[0;32mfrom\u001b[0m \u001b[0mmlxtend\u001b[0m\u001b[0;34m.\u001b[0m\u001b[0mfrequent_patterns\u001b[0m \u001b[0;32mimport\u001b[0m \u001b[0massociation_rules\u001b[0m\u001b[0;34m\u001b[0m\u001b[0;34m\u001b[0m\u001b[0m\n\u001b[1;32m      8\u001b[0m \u001b[0;32mimport\u001b[0m \u001b[0mboto3\u001b[0m\u001b[0;34m\u001b[0m\u001b[0;34m\u001b[0m\u001b[0m\n",
      "\u001b[0;31mModuleNotFoundError\u001b[0m: No module named 'mlxtend'"
     ]
    }
   ],
   "source": [
    "import pandas as pd\n",
    "import numpy as np\n",
    "import matplotlib.pyplot as plt\n",
    "import seaborn as sns\n",
    "import math\n",
    "from mlxtend.frequent_patterns import apriori\n",
    "from mlxtend.frequent_patterns import association_rules\n",
    "import boto3\n",
    "from datetime import datetime, timedelta\n",
    "import awswrangler as wr\n",
    "pd.set_option('display.max_columns', None) \n",
    "pd.set_option('display.max_rows', 500) \n",
    "sns.set(style=\"whitegrid\")\n",
    "paleta_uala = ['#3E6BFD','#698cff','#9eb5ff','#d5dfff','#3E6BFD']\n",
    "import pingouin as pg \n",
    "import scipy"
   ]
  },
  {
   "cell_type": "markdown",
   "id": "07483fdc",
   "metadata": {},
   "source": [
    "The parquet where the data is stored is loaded:"
   ]
  },
  {
   "cell_type": "code",
   "execution_count": null,
   "id": "b6d122fb",
   "metadata": {},
   "outputs": [],
   "source": [
    "df = wr.s3.read_parquet(f's3://test-uala-arg-datalake-aiml-recommendations/data/stage/all_data_v2/')\n",
    "df.rename(columns={\"nu_sin_categoria_aprob\":\"nu_compras_otras_categorias_aprob\"}, inplace=True)"
   ]
  },
  {
   "cell_type": "code",
   "execution_count": null,
   "id": "72c225bc",
   "metadata": {},
   "outputs": [],
   "source": [
    "df.shape"
   ]
  },
  {
   "cell_type": "markdown",
   "id": "ed632a34",
   "metadata": {},
   "source": [
    "## Data Cleaning"
   ]
  },
  {
   "cell_type": "markdown",
   "id": "a40a26dd",
   "metadata": {},
   "source": [
    "Fetuares with NULL values are checked. "
   ]
  },
  {
   "cell_type": "code",
   "execution_count": null,
   "id": "f2bef8f8",
   "metadata": {},
   "outputs": [],
   "source": [
    "df.isnull().sum()"
   ]
  },
  {
   "cell_type": "code",
   "execution_count": null,
   "id": "506793c5",
   "metadata": {},
   "outputs": [],
   "source": [
    "df[['cobros','cuotificaciones','promociones','transferencia_c2c','transferencia_cvu']] = df[['cobros','cuotificaciones','promociones','transferencia_c2c','transferencia_cvu']].fillna(0)"
   ]
  },
  {
   "cell_type": "code",
   "execution_count": null,
   "id": "82b5ba7f",
   "metadata": {},
   "outputs": [],
   "source": [
    "df = df.dropna()"
   ]
  },
  {
   "cell_type": "markdown",
   "id": "05330427",
   "metadata": {},
   "source": [
    "The data type for the variable \"dt\" is modified and the name is changed."
   ]
  },
  {
   "cell_type": "code",
   "execution_count": null,
   "id": "e83b9d56",
   "metadata": {},
   "outputs": [],
   "source": [
    "df['dt'] = pd.to_datetime(df['dt'])"
   ]
  },
  {
   "cell_type": "code",
   "execution_count": null,
   "id": "02bf2a79",
   "metadata": {},
   "outputs": [],
   "source": [
    "df = df.rename({'dt':'periodo'}, axis=1)"
   ]
  },
  {
   "cell_type": "markdown",
   "id": "56156007",
   "metadata": {},
   "source": [
    "The variable Age is created:"
   ]
  },
  {
   "cell_type": "code",
   "execution_count": null,
   "id": "f575288e",
   "metadata": {},
   "outputs": [],
   "source": [
    "# Last timeframe available\n",
    "max_periodo = df.periodo.max()\n",
    "max_periodo = pd.to_datetime(max_periodo)"
   ]
  },
  {
   "cell_type": "code",
   "execution_count": null,
   "id": "9706f0ab",
   "metadata": {},
   "outputs": [],
   "source": [
    "df.fecha_alta = pd.to_datetime(df.fecha_alta)\n",
    "df.fecha_alta = np.where(df.fecha_alta > max_periodo , max_periodo, df.fecha_alta.dt.date)"
   ]
  },
  {
   "cell_type": "code",
   "execution_count": null,
   "id": "0d88b8fb",
   "metadata": {},
   "outputs": [],
   "source": [
    "df['antiguedad']= max_periodo - df.fecha_alta"
   ]
  },
  {
   "cell_type": "code",
   "execution_count": null,
   "id": "1bf77995",
   "metadata": {},
   "outputs": [],
   "source": [
    "df['antiguedad'] = df['antiguedad'].dt.days"
   ]
  },
  {
   "cell_type": "markdown",
   "id": "113c7a1a",
   "metadata": {},
   "source": [
    "# 1. EDA - Dataset"
   ]
  },
  {
   "cell_type": "markdown",
   "id": "eb24975a",
   "metadata": {},
   "source": [
    "## 1.1 Univariate Analysis"
   ]
  },
  {
   "cell_type": "markdown",
   "id": "8e440d07",
   "metadata": {},
   "source": [
    "### User Base Growth"
   ]
  },
  {
   "cell_type": "code",
   "execution_count": null,
   "id": "8bb56209",
   "metadata": {},
   "outputs": [],
   "source": [
    "temp = (df\n",
    " .groupby(\"periodo\")\n",
    " .account_id\n",
    " .agg('count')\n",
    ")"
   ]
  },
  {
   "cell_type": "code",
   "execution_count": null,
   "id": "0fb8227a",
   "metadata": {},
   "outputs": [],
   "source": [
    "ax = temp.plot(figsize=(12,8), color='#698cff',marker='D', markeredgecolor='darkblue')\n",
    "ax.set_xlabel(\"Periodo\")\n",
    "ax.set_ylabel(\"Cantidad de Usuarios en Millones\")\n",
    "_ = ax.set_title(\"Evolución de Clientes que usaron la App\", fontsize=16)"
   ]
  },
  {
   "cell_type": "markdown",
   "id": "76b10aaf",
   "metadata": {},
   "source": [
    "### Evolution of Registrations"
   ]
  },
  {
   "cell_type": "code",
   "execution_count": null,
   "id": "d4ddeabd",
   "metadata": {},
   "outputs": [],
   "source": [
    "temp = df.copy()\n",
    "temp['periodo_alta'] = pd.to_datetime(df['fecha_alta'], format='%Y/%m').dt.strftime('%Y-%m')\n",
    "\n",
    "temp = (temp\n",
    " .groupby(\"periodo_alta\")\n",
    " .account_id\n",
    " .agg('count')\n",
    ")\n"
   ]
  },
  {
   "cell_type": "code",
   "execution_count": null,
   "id": "ebec5bf6",
   "metadata": {},
   "outputs": [],
   "source": [
    "ax = temp.plot(figsize=(12,8), color='#698cff',marker='D', markeredgecolor='darkblue')\n",
    "ax.set_xlabel(\"Periodo\")\n",
    "ax.set_ylabel(\"Cantidad de Usuarios\")\n",
    "_ = ax.set_title(\"Evolución de Clientes Nuevos\", fontsize=16)"
   ]
  },
  {
   "cell_type": "markdown",
   "id": "f87e6e84",
   "metadata": {},
   "source": [
    "In the plots analyzed above, it is observed that although the number of user registrations decreased during the pandemic, the trend in the use of the app continues to grow."
   ]
  },
  {
   "cell_type": "markdown",
   "id": "41a9a6a0",
   "metadata": {},
   "source": [
    "## Evolution of Average Transaction Amounts"
   ]
  },
  {
   "cell_type": "markdown",
   "id": "dc5bb297",
   "metadata": {},
   "source": [
    "### Cashout"
   ]
  },
  {
   "cell_type": "code",
   "execution_count": null,
   "id": "0bbbe9ac",
   "metadata": {},
   "outputs": [],
   "source": [
    "temp = (df\n",
    " .groupby(\"periodo\", as_index = False)['vl_compras_aprob',\n",
    "                        'vl_withdraw_atm_aprob',\n",
    "                        'vl_investments_deposit_aprob',\n",
    "                        'vl_telerecargas_carga_aprob',\n",
    "                        'vl_user_to_user_aprob', \n",
    "                        'vl_cash_out_cvu_aprob'\n",
    "                       ]\n",
    " .agg('mean')\n",
    ")"
   ]
  },
  {
   "cell_type": "code",
   "execution_count": null,
   "id": "c3d0537b",
   "metadata": {},
   "outputs": [],
   "source": [
    "temp_pivot = temp.melt(var_name = \"cashout\",\n",
    "                     value_name = \"Media_usd\",\n",
    "                     id_vars = [\"periodo\"],\n",
    "                     value_vars = ['vl_compras_aprob',\n",
    "                        'vl_withdraw_atm_aprob',\n",
    "                        'vl_investments_deposit_aprob',\n",
    "                        'vl_telerecargas_carga_aprob',\n",
    "                        'vl_user_to_user_aprob', \n",
    "                        'vl_cash_out_cvu_aprob']) # out a un cbu o cvu"
   ]
  },
  {
   "cell_type": "code",
   "execution_count": null,
   "id": "2c14b996",
   "metadata": {},
   "outputs": [],
   "source": [
    "g = sns.relplot(\n",
    "    data = temp_pivot,\n",
    "    x=\"periodo\", y=\"Media_usd\", col=\"cashout\", hue=\"cashout\",\n",
    "    kind=\"line\", palette= ['#3E6BFD','#698cff','#9eb5ff','#d5dfff','#3E6BFD','#698cff'], linewidth=4, zorder=5,\n",
    "    col_wrap=2, height=3, aspect=3.2, legend=False, facet_kws=dict(sharey=False)\n",
    ")\n"
   ]
  },
  {
   "cell_type": "markdown",
   "id": "cafff632",
   "metadata": {},
   "source": [
    "It is observed in the plot of cashout amounts (average) in USD that there is a positive trend with a peak in December, although it presents different levels depending on the product used."
   ]
  },
  {
   "cell_type": "markdown",
   "id": "41094f7a",
   "metadata": {},
   "source": [
    "### Cashin"
   ]
  },
  {
   "cell_type": "code",
   "execution_count": null,
   "id": "6bb08fa0",
   "metadata": {},
   "outputs": [],
   "source": [
    "temp = (df\n",
    " .groupby(\"periodo\", as_index = False)['vl_cashin_efectivo_sum',\n",
    "                                       'vl_cashin_transferencia_sum']\n",
    " .agg('mean')\n",
    ")"
   ]
  },
  {
   "cell_type": "code",
   "execution_count": null,
   "id": "ec26b496",
   "metadata": {},
   "outputs": [],
   "source": [
    "temp_pivot = temp.melt(var_name = \"cashin\",\n",
    "                     value_name = \"Media_usd\",\n",
    "                     id_vars = [\"periodo\"],\n",
    "                     value_vars = ['vl_cashin_efectivo_sum',\n",
    "                                  'vl_cashin_transferencia_sum'])"
   ]
  },
  {
   "cell_type": "code",
   "execution_count": null,
   "id": "60895d07",
   "metadata": {},
   "outputs": [],
   "source": [
    "g = sns.relplot(\n",
    "    data = temp_pivot,\n",
    "    x=\"periodo\", y=\"Media_usd\", col=\"cashin\", hue=\"cashin\",\n",
    "    kind=\"line\", palette=['#3E6BFD','#698cff'], linewidth=4, zorder=5,\n",
    "    col_wrap=2, height=4, aspect=2.5, legend=False, facet_kws=dict(sharey=False)\n",
    ")"
   ]
  },
  {
   "cell_type": "markdown",
   "id": "7ed057e1",
   "metadata": {},
   "source": [
    "It is observed in the plot of cashin amounts (averages) in USD that there is a positive trend with a peak in December. Being in the case of transactions in cash, the most abrupt rises and falls with respect to transfers."
   ]
  },
  {
   "cell_type": "markdown",
   "id": "c1f10cb4",
   "metadata": {},
   "source": [
    "## Evolution of Logins and Recorded Incidents"
   ]
  },
  {
   "cell_type": "code",
   "execution_count": null,
   "id": "6c4c517d",
   "metadata": {},
   "outputs": [],
   "source": [
    "temp = (df\n",
    " .groupby(\"periodo\", as_index = False)['nu_incidente',\n",
    "                                       'nu_inicio',\n",
    "                                       'nu_bloqueo']\n",
    " .agg('mean')\n",
    " .fillna(0)\n",
    ")\n",
    "\n",
    "temp_pivot = temp.melt(var_name = \"evento\",\n",
    "                       value_name = \"cantidad_media\",\n",
    "                       id_vars = [\"periodo\"],\n",
    "                       value_vars = ['nu_incidente',\n",
    "                                     'nu_inicio',\n",
    "                                    'nu_bloqueo'])"
   ]
  },
  {
   "cell_type": "code",
   "execution_count": null,
   "id": "939e334b",
   "metadata": {},
   "outputs": [],
   "source": [
    "g = sns.relplot(\n",
    "    data = temp_pivot,\n",
    "    x=\"periodo\", y=\"cantidad_media\", col=\"evento\", hue=\"evento\",\n",
    "    kind=\"line\", palette= ['#3E6BFD','#698cff','#9eb5ff'], linewidth=4, zorder=5,\n",
    "    col_wrap=2, height=3, aspect=3.0, legend=False, facet_kws=dict(sharey=False)\n",
    ")"
   ]
  },
  {
   "cell_type": "markdown",
   "id": "e4495261",
   "metadata": {},
   "source": [
    "## Demographic Characteristics of Clients"
   ]
  },
  {
   "cell_type": "markdown",
   "id": "3a7cbf12",
   "metadata": {},
   "source": [
    "**Seniority as a customer**"
   ]
  },
  {
   "cell_type": "code",
   "execution_count": null,
   "id": "30883855",
   "metadata": {},
   "outputs": [],
   "source": [
    "plt.figure(figsize=(20,5))\n",
    "\n",
    "sns.distplot(df.antiguedad, kde=True, hist=True, bins=15, color='#3E6BFD')\n",
    "plt.xlabel('Cantidad de días de antiguedad')\n",
    "plt.ylabel('Frecuencia')\n",
    "plt.title('Distribución de Antigüedad de los Clientes', fontsize=16)\n",
    "plt.show()"
   ]
  },
  {
   "cell_type": "markdown",
   "id": "cef1362e",
   "metadata": {},
   "source": [
    "De la distribución de la antigüedad podemos confirmar que la cantidad de nuevos usuarios se fue reduciendo tocando minimo en el mes de Mayo del 2020 coincidiendo con el inicio de la pandemia en Argentina."
   ]
  },
  {
   "cell_type": "markdown",
   "id": "d81f1d9a",
   "metadata": {},
   "source": [
    "**Age of customers**"
   ]
  },
  {
   "cell_type": "code",
   "execution_count": null,
   "id": "1bc832ef",
   "metadata": {},
   "outputs": [],
   "source": [
    "df['fecha_nacimiento'] = pd.to_datetime(df['fecha_nacimiento'], format='%Y/%m/%d')\n",
    "df['edad']=[math.trunc((datetime.now()-i).days/365)  for i in df['fecha_nacimiento']]\n",
    "plt.figure(figsize=(20,5))\n",
    "\n",
    "sns.distplot(df.edad, kde=True, hist=True, bins=15, color='#698cff')\n",
    "plt.xlabel('edad')\n",
    "plt.ylabel('Frecuencia')\n",
    "plt.title('Distribución de la Edad de los Clientes', fontsize=16)\n",
    "\n",
    "plt.show()"
   ]
  },
  {
   "cell_type": "markdown",
   "id": "9fe826af",
   "metadata": {},
   "source": [
    "The age distribution graph presents a skewed to the right, concentrating the user base in the age range from 18 to 30 years."
   ]
  },
  {
   "cell_type": "markdown",
   "id": "8fc5571d",
   "metadata": {},
   "source": [
    "**Areas where users reside**"
   ]
  },
  {
   "cell_type": "code",
   "execution_count": null,
   "id": "f245c856",
   "metadata": {},
   "outputs": [],
   "source": [
    "df['zona']=df.provincia.str.lower()\n",
    "df.loc[-df.provincia.isin(['santa fe','cordoba','buenos aires','capital federal',\n",
    "                                                            'gran buenos aires','mendoza','tucuman','salta',\n",
    "                                                           'misiones']),\\\n",
    "                         'zona']='Others'\n",
    "plt.figure(figsize=(20,5))\n",
    "sns.countplot(x=df.zona, palette=paleta_uala)\n",
    "plt.title('Distribución de las Zonas donde residen los Clientes', fontsize=16)\n",
    "\n",
    "plt.show()"
   ]
  },
  {
   "cell_type": "markdown",
   "id": "7aea7ac5",
   "metadata": {},
   "source": [
    "The plot presents the most populated areas in Argentina versus the rest. Within it, it can be observed that the distribution of users of Ualá is concentrated in the province of Buenos Aires and the category 'Others' presents a high density since it summarizes the number of users of the rest of the country's provinces."
   ]
  },
  {
   "cell_type": "markdown",
   "id": "475cc2bf",
   "metadata": {},
   "source": [
    "## Phone Company and User Operating System"
   ]
  },
  {
   "cell_type": "markdown",
   "id": "89b06325",
   "metadata": {},
   "source": [
    "Phone Company"
   ]
  },
  {
   "cell_type": "code",
   "execution_count": null,
   "id": "a7285327",
   "metadata": {},
   "outputs": [],
   "source": [
    "temp = df.copy()\n",
    "\n",
    "condlist=[\n",
    "    temp.fl_carrier_claro == 1,\n",
    "    temp.fl_carrier_movistar == 1,\n",
    "    temp.fl_carrier_personal == 1,\n",
    "    temp.fl_carrier_tuenti ==1\n",
    "    \n",
    "]\n",
    "\n",
    "choicelist=['Claro','Movistar','Personal','Tuenti']\n",
    "temp['cd_empresa_tel']=np.select(condlist,choicelist)\n",
    "temp['cd_empresa_tel']=(np.where(temp['cd_empresa_tel']=='0','otros',temp['cd_empresa_tel']))"
   ]
  },
  {
   "cell_type": "code",
   "execution_count": null,
   "id": "4e57c48b",
   "metadata": {},
   "outputs": [],
   "source": [
    "b = temp.groupby(['periodo','cd_empresa_tel']).account_id.count().reset_index(name='cantidad_clientes')\n",
    "b = b[b.cd_empresa_tel != 'otros']\n",
    "b['periodo']= b['periodo'].dt.date"
   ]
  },
  {
   "cell_type": "code",
   "execution_count": null,
   "id": "a21667ac",
   "metadata": {},
   "outputs": [],
   "source": [
    "b_pivot = pd.pivot_table(\n",
    "    b, \n",
    "    values=\"cantidad_clientes\",\n",
    "    index=\"periodo\",\n",
    "    columns=\"cd_empresa_tel\", \n",
    "    aggfunc='sum'\n",
    ")\n",
    "b_pivot.head(1)"
   ]
  },
  {
   "cell_type": "code",
   "execution_count": null,
   "id": "08fa1906",
   "metadata": {},
   "outputs": [],
   "source": [
    "paleta_uala = ['#3E6BFD','#698cff','#9eb5ff','#d5dfff','#3E6BFD']\n",
    "\n",
    "#import matplotlib.dates as mdates\n",
    "ax = b_pivot.plot(kind=\"bar\", color= paleta_uala, width=0.9)\n",
    "fig = ax.get_figure()\n",
    "fig.set_size_inches(12, 8)\n",
    "\n",
    "plt.title('Distribución de Empresas Telefónicas que utilizan los Clientes', fontsize=16)\n",
    "ax.set_xlabel(\"periodo\")\n",
    "ax.set_ylabel(\"Cantidad de Clientes\")"
   ]
  },
  {
   "cell_type": "markdown",
   "id": "9c70e2f4",
   "metadata": {},
   "source": [
    "Of the users who present which telephone company they use, there is a concentration distributed in three companies: Personal, Claro and Movistar."
   ]
  },
  {
   "cell_type": "markdown",
   "id": "db28af3c",
   "metadata": {},
   "source": [
    "Operating System"
   ]
  },
  {
   "cell_type": "code",
   "execution_count": null,
   "id": "7b2e089b",
   "metadata": {},
   "outputs": [],
   "source": [
    "temp[\"Android_OS\"] = np.where(temp.fl_os_android==0,'Android','IOS')\n",
    "temp_pie = temp.groupby([\"Android_OS\"])[\"account_id\"].count().reset_index(name=\"Cantidad_Clientes\")\n",
    "\n",
    "ax = temp_pie.plot.pie(y=\"Cantidad_Clientes\", labels=temp_pie.Android_OS, autopct=\"%1.2f%%\", figsize=(10, 8), colors=['#698cff','#9eb5ff'])\n",
    "_ = ax.set_title(\"Proporción de Clientes con cada Sistema Operativo\", fontsize=16)"
   ]
  },
  {
   "cell_type": "markdown",
   "id": "9ee62097",
   "metadata": {},
   "source": [
    "The plot shows that most of the users have Android operating system."
   ]
  },
  {
   "cell_type": "markdown",
   "id": "5fd3725d",
   "metadata": {},
   "source": [
    "## 1.2 Multivariate Analysis"
   ]
  },
  {
   "cell_type": "markdown",
   "id": "9002c2f7",
   "metadata": {},
   "source": [
    "### Correlation Matrix"
   ]
  },
  {
   "cell_type": "markdown",
   "id": "9d70fb71",
   "metadata": {},
   "source": [
    "Se realizó una matriz de correlación de Pearson para evaluar con mas detalle el grado de correlación lineal de las variables y visualizar mas interesantes para nuestro análisis."
   ]
  },
  {
   "cell_type": "code",
   "execution_count": null,
   "id": "506e2df5",
   "metadata": {},
   "outputs": [],
   "source": [
    "# We select the variables that we do not want to have within the correlation matrix\n",
    "a = df.columns.isin(['account_id','year_month','os_name','external_id','periodo','fecha_alta','provincia','sexo','fecha_nacimiento','zona'])\n",
    "a_comple = df.columns[~a]\n",
    "\n",
    "# We create a new df without the variables we choose\n",
    "df_ = df.loc[:,a_comple]"
   ]
  },
  {
   "cell_type": "markdown",
   "id": "011dc02f",
   "metadata": {},
   "source": [
    "For this analysis, the strongest linear correlations were ruled out, that is, greater than 90% and less than 0.5%, to simplify the bivariate analysis considering the large number of variables that the dataset presents."
   ]
  },
  {
   "cell_type": "code",
   "execution_count": null,
   "id": "f1c837fd",
   "metadata": {},
   "outputs": [],
   "source": [
    "# Correlation matrix (absolute values)\n",
    "temp = df_.copy()\n",
    "corr_matrix = temp.corr().abs()\n",
    "\n",
    "# We select upper triangle\n",
    "upper = corr_matrix.where(np.triu(np.ones(corr_matrix.shape), k=1).astype(np.bool))\n",
    "\n",
    "# We remove variables with correlations greater than the 90% percentile and less than the 0.5%.\n",
    "to_drop = [column for column in upper.columns if any(upper[column] > 0.9)]\n",
    "to_drop2 = [column for column in upper.columns if any(upper[column] < 0.005)]\n",
    "\n",
    "# We delete those lists\n",
    "temp.drop(to_drop+to_drop2, axis=1, inplace=True)\n",
    "\n",
    "temp.shape"
   ]
  },
  {
   "cell_type": "code",
   "execution_count": null,
   "id": "cca88d00",
   "metadata": {},
   "outputs": [],
   "source": [
    "# Correlation Matrix\n",
    "matriz = temp.corr()\n",
    "#matriz.style.background_gradient(cmap='coolwarm')"
   ]
  },
  {
   "cell_type": "markdown",
   "id": "77439ec4",
   "metadata": {},
   "source": [
    "Heatmaps"
   ]
  },
  {
   "cell_type": "code",
   "execution_count": null,
   "id": "ad62837d",
   "metadata": {},
   "outputs": [],
   "source": [
    "plt.figure(figsize=(16, 6))\n",
    "# define the mask to set the values in the upper triangle to True\n",
    "mask = np.triu(np.ones_like(matriz, dtype=np.bool))\n",
    "heatmap = sns.heatmap(matriz, mask=mask, vmin=-1, vmax=1, annot=True, cmap=paleta_uala)\n",
    "heatmap.set_title('Triangle Correlation Heatmap', fontdict={'fontsize':18}, pad=16);"
   ]
  },
  {
   "cell_type": "markdown",
   "id": "23494971",
   "metadata": {},
   "source": [
    "From the previous heatmap, the following correlations stand out:\n",
    "* inversiones -> \ttransferencia_cvu\n",
    "* transferencia_c2c -> nu_compras_otras_categorias_aprob\t\n",
    "* nu_cashin_inversiones_qty -> nu_consumption_pos_aprob\n",
    "* nu_tcc_r_aprob -> nu_incidente\n",
    "* nu_inicio -> transferencia_cvu, nu_cashin_inversiones_qty, nu_tcc_r_aprob, nu_consumption_pos_aprob, nu_compras_otras_categorias_aprob, nu_incidente"
   ]
  },
  {
   "cell_type": "markdown",
   "id": "866c5057",
   "metadata": {},
   "source": [
    "## Bivariate Relationships"
   ]
  },
  {
   "cell_type": "code",
   "execution_count": null,
   "id": "413bd8dd",
   "metadata": {},
   "outputs": [],
   "source": [
    "g=sns.pairplot(\n",
    "    temp,\n",
    "    x_vars=[\"inversiones\", \"transferencia_cvu\", \"transferencia_c2c\", \"nu_compras_otras_categorias_aprob\", \n",
    "\"nu_cashin_inversiones_qty\", \"nu_consumption_pos_aprob\", \"nu_tcc_r_aprob\", \"nu_incidente\", \"nu_inicio\"],\n",
    "    y_vars=[\"inversiones\", \"transferencia_cvu\", \"transferencia_c2c\", \"nu_compras_otras_categorias_aprob\", \n",
    "\"nu_cashin_inversiones_qty\", \"nu_consumption_pos_aprob\", \"nu_tcc_r_aprob\", \"nu_incidente\", \"nu_inicio\"], \n",
    "    #height = 6,\n",
    "    #aspect=0.5\n",
    ")\n",
    "g.fig.set_figheight(20)\n",
    "g.fig.set_figwidth(25)\n",
    "plt.show()"
   ]
  },
  {
   "cell_type": "markdown",
   "id": "009e4ad5",
   "metadata": {},
   "source": [
    "The linear relationship of the following variables is graphically confirmed:\n",
    "\n",
    "* transferencia_cvu con nu_compras_otras_categ\n",
    "* nu_inicio con cahin_inv\n",
    "* nu_inicio con tcc_r_aprob\n",
    "* transferencia_cvu con transferencia_c2c"
   ]
  },
  {
   "cell_type": "markdown",
   "id": "386b8c85",
   "metadata": {},
   "source": [
    "# Rules Apriori"
   ]
  },
  {
   "cell_type": "markdown",
   "id": "4105a78c",
   "metadata": {},
   "source": [
    "In order to understand cross-selling within Ualá's products, an algorithm of Association Rules (Apriori) is run to measure the frequency of use of the product basket offered by the company.\n",
    "\n",
    "Features that you do not want to have within the array are eliminated. Futhermore, to give priority to the most recent transactionality of the users, the last month available in the dataset is analyzed:"
   ]
  },
  {
   "cell_type": "code",
   "execution_count": null,
   "id": "2bf170e8",
   "metadata": {},
   "outputs": [],
   "source": [
    "df_=df[df['periodo']=='2021-03'].copy()\n",
    "a = df_.columns.isin(['year_month','os_name','external_id','periodo','fecha_alta','provincia','sexo','fecha_nacimiento','zona','edad'])\n",
    "a_comple = df_.columns[~a]\n",
    "\n",
    "df_ = df_.loc[:,a_comple]"
   ]
  },
  {
   "cell_type": "code",
   "execution_count": null,
   "id": "d4774997",
   "metadata": {},
   "outputs": [],
   "source": [
    "data_pivot = pd.melt(df_, \n",
    "                     id_vars='account_id', \n",
    "                     var_name='producto', \n",
    "                     value_name='value')"
   ]
  },
  {
   "cell_type": "code",
   "execution_count": null,
   "id": "00778943",
   "metadata": {},
   "outputs": [],
   "source": [
    "data_pivot = data_pivot[data_pivot.value > 0]"
   ]
  },
  {
   "cell_type": "code",
   "execution_count": null,
   "id": "d2ad119f",
   "metadata": {},
   "outputs": [],
   "source": [
    "data_pivot.head()"
   ]
  },
  {
   "cell_type": "code",
   "execution_count": null,
   "id": "e3bdd3de",
   "metadata": {},
   "outputs": [],
   "source": [
    "data_matriz = (data_pivot\n",
    "               .groupby(['account_id', 'producto'])['value']\n",
    "               .sum().unstack().reset_index().fillna(0)\n",
    "               .set_index('account_id'))"
   ]
  },
  {
   "cell_type": "code",
   "execution_count": null,
   "id": "e9cff773",
   "metadata": {},
   "outputs": [],
   "source": [
    "def encode_units(x):\n",
    "    if x <= 0:\n",
    "        return 0\n",
    "    if x >= 1:\n",
    "        return 1\n",
    "\n",
    "data_matriz = data_matriz.applymap(encode_units)"
   ]
  },
  {
   "cell_type": "markdown",
   "id": "b37a5e6e",
   "metadata": {},
   "source": [
    "The transactions related to the products of interest are selected below to recommend to users:"
   ]
  },
  {
   "cell_type": "code",
   "execution_count": null,
   "id": "b86306a8",
   "metadata": {},
   "outputs": [],
   "source": [
    "data_matriz_test = data_matriz[[\n",
    " 'nu_cashin_prestamos_qty',\n",
    " 'nu_cashin_adquirencia_qty',\n",
    " 'nu_investments_deposit_aprob',\n",
    " 'nu_telerecargas_carga_aprob',\n",
    " 'nu_compras_otras_categorias_aprob',\n",
    " 'nu_compras_aprob',\n",
    " 'nu_entretenimiento_aprob',\n",
    " 'nu_servicios_débitos_automaticos_aprob',\n",
    " 'nu_supermercados_alimentos_aprob']]"
   ]
  },
  {
   "cell_type": "code",
   "execution_count": null,
   "id": "e64f3249",
   "metadata": {},
   "outputs": [],
   "source": [
    "data_matriz_test= data_matriz"
   ]
  },
  {
   "cell_type": "code",
   "execution_count": null,
   "id": "f96b38f0",
   "metadata": {},
   "outputs": [],
   "source": [
    "itemsets = apriori(data_matriz_test, min_support=0.01, use_colnames=True)"
   ]
  },
  {
   "cell_type": "code",
   "execution_count": null,
   "id": "079128a0",
   "metadata": {},
   "outputs": [],
   "source": [
    "rules = association_rules(itemsets, metric=\"lift\", min_threshold=1)"
   ]
  },
  {
   "cell_type": "code",
   "execution_count": null,
   "id": "5046c87a",
   "metadata": {},
   "outputs": [],
   "source": [
    "itemsets"
   ]
  },
  {
   "cell_type": "code",
   "execution_count": null,
   "id": "f340ba1f",
   "metadata": {},
   "outputs": [],
   "source": [
    "rules"
   ]
  },
  {
   "cell_type": "markdown",
   "id": "f1e2037d",
   "metadata": {},
   "source": [
    "It is observed that the investment product is the most present in the cross-selling of the product basket, both in the role of antecedent and consequent.\n",
    "This can act as a basis for future evaluation of the models to be applied and the population of users to be analyzed."
   ]
  }
 ],
 "metadata": {
  "kernelspec": {
   "display_name": "conda_python3",
   "language": "python",
   "name": "conda_python3"
  },
  "language_info": {
   "codemirror_mode": {
    "name": "ipython",
    "version": 3
   },
   "file_extension": ".py",
   "mimetype": "text/x-python",
   "name": "python",
   "nbconvert_exporter": "python",
   "pygments_lexer": "ipython3",
   "version": "3.6.13"
  }
 },
 "nbformat": 4,
 "nbformat_minor": 5
}
