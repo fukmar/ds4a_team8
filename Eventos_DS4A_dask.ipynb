{
 "cells": [
  {
   "cell_type": "code",
   "execution_count": 1,
   "id": "d345aa01",
   "metadata": {},
   "outputs": [],
   "source": [
    "import pandas as pd\n",
    "import boto3\n",
    "import numpy as np"
   ]
  },
  {
   "cell_type": "code",
   "execution_count": 2,
   "id": "9a4c38f9",
   "metadata": {},
   "outputs": [],
   "source": [
    "df_eventos=pd.read_csv('eventos_amplitude.csv')"
   ]
  },
  {
   "cell_type": "code",
   "execution_count": 3,
   "id": "4fc4588a",
   "metadata": {},
   "outputs": [],
   "source": [
    "# EVENTOS CON LOS QUE VAMOS A TRABAJAR\n",
    "\n",
    "bucket_amplitude_data='churn-ds-stage'\n",
    "key='ar/amplitude/tb_ar_amplitude_events_stage/'\n",
    "\n",
    "eventos_amplitude={\n",
    "   'cuotificaciones': [i for i in df_eventos.event_type if i.find('cuoti_sigue_seleccion_consumos')>=0 or i.find('cuoti_selecciona_elegircuo')>=0 or i == 'cuoti_ingresa_clave' ],\n",
    "   'prestamos' : [i for i in df_eventos.event_type if i == 'prestamos_selecciona_simular_prestamo' or i == 'prestamos_espera' or i == 'prestamos_ingresa_clave'],\n",
    "   'inversiones' : [i for i in df_eventos.event_type if i.find('click_inversiones')>=0 or i == 'inversiones_suscribir'],\n",
    "   'promociones' : [i for i in df_eventos.event_type if i.find('general_ingresa_promoc')>=0],\n",
    "   'recargas' : [i for i in df_eventos.event_type if i.find('recargas_click_empezar')>=0 or i.find('recargas_click_repetir')>=0 or i.find('recarga_confirmada')>=0],\n",
    "   'transferencias_c2c' : [i for i in df_eventos.event_type if i.find('transferencia_selecciona_tieneuala')>=0 or i.find('transferencia_validar_identidad')>=0],\n",
    "   'transferencias_cvu' : [i for i in df_eventos.event_type if i.find('transferencia_selecciona_notieneuala')>=0 or i.find('transferencia_validar_identidad')>=0],\n",
    "   'cobros' : [i for i in df_eventos.event_type if i.find('cobros_acepta_tyc')>=0 or i.find('general_ingresa_cobros')>=0 or i.find('cobros_elige_link')>=0 or i.find('cobros_elige_mpos')>=0],\n",
    "   'pago_servicios' : [i for i in df_eventos.event_type if i.find('pagos_empezar')>=0 or i.find('pago_confirmado')>=0]\n",
    "  }\n",
    "\n",
    "s3=boto3.resource('s3')"
   ]
  },
  {
   "cell_type": "code",
   "execution_count": 4,
   "id": "e7fa45ce",
   "metadata": {},
   "outputs": [
    {
     "data": {
      "text/plain": [
       "{'cuotificaciones': ['cuoti_ingresa_clave',\n",
       "  'cuoti_selecciona_elegircuotas',\n",
       "  'cuoti_sigue_seleccion_consumos'],\n",
       " 'prestamos': ['prestamos_espera',\n",
       "  'prestamos_selecciona_simular_prestamo',\n",
       "  'prestamos_ingresa_clave'],\n",
       " 'inversiones': ['inversiones_suscribir', 'click_inversiones'],\n",
       " 'promociones': ['general_ingresa_promociones'],\n",
       " 'recargas': ['recargas_click_empezar',\n",
       "  'recarga_confirmada',\n",
       "  'recargas_click_repetir'],\n",
       " 'transferencias_c2c': ['transferencia_validar_identidad',\n",
       "  'transferencia_selecciona_tieneuala'],\n",
       " 'transferencias_cvu': ['transferencia_selecciona_notieneuala',\n",
       "  'transferencia_validar_identidad'],\n",
       " 'cobros': ['general_ingresa_cobros',\n",
       "  'cobros_acepta_tyc',\n",
       "  'cobros_elige_link',\n",
       "  'cobros_elige_mpos'],\n",
       " 'pago_servicios': ['pago_confirmado', 'pagos_empezar']}"
      ]
     },
     "execution_count": 4,
     "metadata": {},
     "output_type": "execute_result"
    }
   ],
   "source": [
    "eventos_amplitude"
   ]
  },
  {
   "cell_type": "code",
   "execution_count": 9,
   "id": "1f53fb09",
   "metadata": {},
   "outputs": [],
   "source": [
    "bucket=s3.Bucket(bucket_amplitude_data)"
   ]
  },
  {
   "cell_type": "code",
   "execution_count": 10,
   "id": "f1588f7d",
   "metadata": {},
   "outputs": [],
   "source": [
    "# BUSCAR LOS ARCHIVOS DEL BUCKET \n",
    "files_bucket=list(bucket.objects.all())"
   ]
  },
  {
   "cell_type": "code",
   "execution_count": 11,
   "id": "730dfd60",
   "metadata": {},
   "outputs": [],
   "source": [
    "# BUSCAR LOS ARCHIVOS DE AMPLITUDE\n",
    "files_amplitude=[i.key for i in files_bucket if i.key.find(key)>=0 and i.key.find('.parquet')>=0]"
   ]
  },
  {
   "cell_type": "code",
   "execution_count": 12,
   "id": "bdc16757",
   "metadata": {},
   "outputs": [],
   "source": [
    "# FECHA DE LOS ARCHIVOS DE AMPLITUDE\n",
    "file_amplitude_fecha=pd.to_datetime([i[i.find('dt=')+3:i.find('dt=')+13] for i in files_amplitude])"
   ]
  },
  {
   "cell_type": "code",
   "execution_count": 13,
   "id": "f20951f7",
   "metadata": {},
   "outputs": [
    {
     "data": {
      "text/html": [
       "<div>\n",
       "<style scoped>\n",
       "    .dataframe tbody tr th:only-of-type {\n",
       "        vertical-align: middle;\n",
       "    }\n",
       "\n",
       "    .dataframe tbody tr th {\n",
       "        vertical-align: top;\n",
       "    }\n",
       "\n",
       "    .dataframe thead th {\n",
       "        text-align: right;\n",
       "    }\n",
       "</style>\n",
       "<table border=\"1\" class=\"dataframe\">\n",
       "  <thead>\n",
       "    <tr style=\"text-align: right;\">\n",
       "      <th></th>\n",
       "      <th>file</th>\n",
       "      <th>fecha</th>\n",
       "    </tr>\n",
       "  </thead>\n",
       "  <tbody>\n",
       "    <tr>\n",
       "      <th>0</th>\n",
       "      <td>ar/amplitude/tb_ar_amplitude_events_stage/dt=2...</td>\n",
       "      <td>2020-05-01</td>\n",
       "    </tr>\n",
       "    <tr>\n",
       "      <th>1</th>\n",
       "      <td>ar/amplitude/tb_ar_amplitude_events_stage/dt=2...</td>\n",
       "      <td>2020-05-01</td>\n",
       "    </tr>\n",
       "    <tr>\n",
       "      <th>2</th>\n",
       "      <td>ar/amplitude/tb_ar_amplitude_events_stage/dt=2...</td>\n",
       "      <td>2020-05-01</td>\n",
       "    </tr>\n",
       "    <tr>\n",
       "      <th>3</th>\n",
       "      <td>ar/amplitude/tb_ar_amplitude_events_stage/dt=2...</td>\n",
       "      <td>2020-05-01</td>\n",
       "    </tr>\n",
       "    <tr>\n",
       "      <th>4</th>\n",
       "      <td>ar/amplitude/tb_ar_amplitude_events_stage/dt=2...</td>\n",
       "      <td>2020-05-01</td>\n",
       "    </tr>\n",
       "  </tbody>\n",
       "</table>\n",
       "</div>"
      ],
      "text/plain": [
       "                                                file      fecha\n",
       "0  ar/amplitude/tb_ar_amplitude_events_stage/dt=2... 2020-05-01\n",
       "1  ar/amplitude/tb_ar_amplitude_events_stage/dt=2... 2020-05-01\n",
       "2  ar/amplitude/tb_ar_amplitude_events_stage/dt=2... 2020-05-01\n",
       "3  ar/amplitude/tb_ar_amplitude_events_stage/dt=2... 2020-05-01\n",
       "4  ar/amplitude/tb_ar_amplitude_events_stage/dt=2... 2020-05-01"
      ]
     },
     "execution_count": 13,
     "metadata": {},
     "output_type": "execute_result"
    }
   ],
   "source": [
    "df_file_amplitude=pd.DataFrame({'file':files_amplitude,\n",
    "                               'fecha':file_amplitude_fecha})\n",
    "df_file_amplitude.head()"
   ]
  },
  {
   "cell_type": "code",
   "execution_count": 14,
   "id": "56963d00",
   "metadata": {},
   "outputs": [
    {
     "data": {
      "text/plain": [
       "Timestamp('2020-05-01 00:00:00')"
      ]
     },
     "execution_count": 14,
     "metadata": {},
     "output_type": "execute_result"
    }
   ],
   "source": [
    "#Fecha inicial\n",
    "df_file_amplitude.fecha.min()"
   ]
  },
  {
   "cell_type": "code",
   "execution_count": 15,
   "id": "22a948ae",
   "metadata": {},
   "outputs": [
    {
     "data": {
      "text/plain": [
       "Timestamp('2021-03-31 00:00:00')"
      ]
     },
     "execution_count": 15,
     "metadata": {},
     "output_type": "execute_result"
    }
   ],
   "source": [
    "#Fecha final\n",
    "df_file_amplitude.fecha.max()"
   ]
  },
  {
   "cell_type": "code",
   "execution_count": 16,
   "id": "b3c5983b",
   "metadata": {},
   "outputs": [],
   "source": [
    "file_ventana_total=df_file_amplitude.loc[(df_file_amplitude.fecha>='2020-05-01') &  \n",
    "                                      (df_file_amplitude.fecha<='2021-03-31'),:]"
   ]
  },
  {
   "cell_type": "code",
   "execution_count": 26,
   "id": "2d278d9d",
   "metadata": {},
   "outputs": [],
   "source": [
    "falsa_ventana=df_file_amplitude.loc[(df_file_amplitude.fecha>='2020-06-01') &  \n",
    "                                      (df_file_amplitude.fecha<='2020-06-03'),:]"
   ]
  },
  {
   "cell_type": "code",
   "execution_count": 27,
   "id": "bc1113a2",
   "metadata": {},
   "outputs": [
    {
     "data": {
      "text/html": [
       "<div>\n",
       "<style scoped>\n",
       "    .dataframe tbody tr th:only-of-type {\n",
       "        vertical-align: middle;\n",
       "    }\n",
       "\n",
       "    .dataframe tbody tr th {\n",
       "        vertical-align: top;\n",
       "    }\n",
       "\n",
       "    .dataframe thead th {\n",
       "        text-align: right;\n",
       "    }\n",
       "</style>\n",
       "<table border=\"1\" class=\"dataframe\">\n",
       "  <thead>\n",
       "    <tr style=\"text-align: right;\">\n",
       "      <th></th>\n",
       "      <th>file</th>\n",
       "      <th>fecha</th>\n",
       "    </tr>\n",
       "  </thead>\n",
       "  <tbody>\n",
       "    <tr>\n",
       "      <th>743</th>\n",
       "      <td>ar/amplitude/tb_ar_amplitude_events_stage/dt=2...</td>\n",
       "      <td>2020-06-01</td>\n",
       "    </tr>\n",
       "    <tr>\n",
       "      <th>744</th>\n",
       "      <td>ar/amplitude/tb_ar_amplitude_events_stage/dt=2...</td>\n",
       "      <td>2020-06-01</td>\n",
       "    </tr>\n",
       "    <tr>\n",
       "      <th>745</th>\n",
       "      <td>ar/amplitude/tb_ar_amplitude_events_stage/dt=2...</td>\n",
       "      <td>2020-06-01</td>\n",
       "    </tr>\n",
       "    <tr>\n",
       "      <th>746</th>\n",
       "      <td>ar/amplitude/tb_ar_amplitude_events_stage/dt=2...</td>\n",
       "      <td>2020-06-01</td>\n",
       "    </tr>\n",
       "    <tr>\n",
       "      <th>747</th>\n",
       "      <td>ar/amplitude/tb_ar_amplitude_events_stage/dt=2...</td>\n",
       "      <td>2020-06-01</td>\n",
       "    </tr>\n",
       "    <tr>\n",
       "      <th>...</th>\n",
       "      <td>...</td>\n",
       "      <td>...</td>\n",
       "    </tr>\n",
       "    <tr>\n",
       "      <th>810</th>\n",
       "      <td>ar/amplitude/tb_ar_amplitude_events_stage/dt=2...</td>\n",
       "      <td>2020-06-03</td>\n",
       "    </tr>\n",
       "    <tr>\n",
       "      <th>811</th>\n",
       "      <td>ar/amplitude/tb_ar_amplitude_events_stage/dt=2...</td>\n",
       "      <td>2020-06-03</td>\n",
       "    </tr>\n",
       "    <tr>\n",
       "      <th>812</th>\n",
       "      <td>ar/amplitude/tb_ar_amplitude_events_stage/dt=2...</td>\n",
       "      <td>2020-06-03</td>\n",
       "    </tr>\n",
       "    <tr>\n",
       "      <th>813</th>\n",
       "      <td>ar/amplitude/tb_ar_amplitude_events_stage/dt=2...</td>\n",
       "      <td>2020-06-03</td>\n",
       "    </tr>\n",
       "    <tr>\n",
       "      <th>814</th>\n",
       "      <td>ar/amplitude/tb_ar_amplitude_events_stage/dt=2...</td>\n",
       "      <td>2020-06-03</td>\n",
       "    </tr>\n",
       "  </tbody>\n",
       "</table>\n",
       "<p>72 rows × 2 columns</p>\n",
       "</div>"
      ],
      "text/plain": [
       "                                                  file      fecha\n",
       "743  ar/amplitude/tb_ar_amplitude_events_stage/dt=2... 2020-06-01\n",
       "744  ar/amplitude/tb_ar_amplitude_events_stage/dt=2... 2020-06-01\n",
       "745  ar/amplitude/tb_ar_amplitude_events_stage/dt=2... 2020-06-01\n",
       "746  ar/amplitude/tb_ar_amplitude_events_stage/dt=2... 2020-06-01\n",
       "747  ar/amplitude/tb_ar_amplitude_events_stage/dt=2... 2020-06-01\n",
       "..                                                 ...        ...\n",
       "810  ar/amplitude/tb_ar_amplitude_events_stage/dt=2... 2020-06-03\n",
       "811  ar/amplitude/tb_ar_amplitude_events_stage/dt=2... 2020-06-03\n",
       "812  ar/amplitude/tb_ar_amplitude_events_stage/dt=2... 2020-06-03\n",
       "813  ar/amplitude/tb_ar_amplitude_events_stage/dt=2... 2020-06-03\n",
       "814  ar/amplitude/tb_ar_amplitude_events_stage/dt=2... 2020-06-03\n",
       "\n",
       "[72 rows x 2 columns]"
      ]
     },
     "execution_count": 27,
     "metadata": {},
     "output_type": "execute_result"
    }
   ],
   "source": [
    "falsa_ventana"
   ]
  },
  {
   "cell_type": "code",
   "execution_count": 19,
   "id": "ac39cbda",
   "metadata": {},
   "outputs": [
    {
     "data": {
      "text/plain": [
       "(24, 2)"
      ]
     },
     "execution_count": 19,
     "metadata": {},
     "output_type": "execute_result"
    }
   ],
   "source": [
    "file_ventana_total[file_ventana_total.fecha=='2021-03-31'].shape"
   ]
  },
  {
   "cell_type": "markdown",
   "id": "ef6e2e45",
   "metadata": {},
   "source": [
    "**Resumen de Datos del mes**"
   ]
  },
  {
   "cell_type": "code",
   "execution_count": 20,
   "id": "d4636be3",
   "metadata": {},
   "outputs": [
    {
     "name": "stdout",
     "output_type": "stream",
     "text": [
      "cantidad de filas: 7905 cantidad de columnas: 2\n"
     ]
    }
   ],
   "source": [
    "print('cantidad de filas:',file_ventana_total.shape[0],'cantidad de columnas:',file_ventana_total.shape[1])"
   ]
  },
  {
   "cell_type": "code",
   "execution_count": 21,
   "id": "00253721",
   "metadata": {},
   "outputs": [
    {
     "name": "stdout",
     "output_type": "stream",
     "text": [
      "cantidad de dias: 327\n"
     ]
    }
   ],
   "source": [
    "print('cantidad de dias:',len(file_ventana_total.fecha.unique()))"
   ]
  },
  {
   "cell_type": "code",
   "execution_count": 22,
   "id": "c9acc4c1",
   "metadata": {},
   "outputs": [
    {
     "ename": "NameError",
     "evalue": "name 'file_mes_actual' is not defined",
     "output_type": "error",
     "traceback": [
      "\u001b[0;31m---------------------------------------------------------------------------\u001b[0m",
      "\u001b[0;31mNameError\u001b[0m                                 Traceback (most recent call last)",
      "\u001b[0;32m<ipython-input-22-65b8ecd582d3>\u001b[0m in \u001b[0;36m<module>\u001b[0;34m\u001b[0m\n\u001b[0;32m----> 1\u001b[0;31m \u001b[0mprint\u001b[0m\u001b[0;34m(\u001b[0m\u001b[0;34m'Cantidad promedio de archivos por dia:'\u001b[0m\u001b[0;34m,\u001b[0m\u001b[0mfile_mes_actual\u001b[0m\u001b[0;34m.\u001b[0m\u001b[0mshape\u001b[0m\u001b[0;34m[\u001b[0m\u001b[0;36m0\u001b[0m\u001b[0;34m]\u001b[0m\u001b[0;34m/\u001b[0m\u001b[0mlen\u001b[0m\u001b[0;34m(\u001b[0m\u001b[0mfile_mes_actual\u001b[0m\u001b[0;34m.\u001b[0m\u001b[0mfecha\u001b[0m\u001b[0;34m.\u001b[0m\u001b[0munique\u001b[0m\u001b[0;34m(\u001b[0m\u001b[0;34m)\u001b[0m\u001b[0;34m)\u001b[0m\u001b[0;34m)\u001b[0m\u001b[0;34m\u001b[0m\u001b[0;34m\u001b[0m\u001b[0m\n\u001b[0m",
      "\u001b[0;31mNameError\u001b[0m: name 'file_mes_actual' is not defined"
     ]
    }
   ],
   "source": [
    "print('Cantidad promedio de archivos por dia:',file_mes_actual.shape[0]/len(file_mes_actual.fecha.unique()))"
   ]
  },
  {
   "cell_type": "markdown",
   "id": "d945a144",
   "metadata": {},
   "source": [
    "**Consideraciones**\n",
    "\n",
    "1. Seleccionar los eventos que vamos a tomar.\n",
    "2. Ver si se pueden agrupar los eventos.\n",
    "3. Esto no se debe hacer porque no permite tantos procesos en concurrencia.\n",
    "\n",
    "[p1] [p2] [p3] [p4] .. [p644]\n",
    " |    |.    |.   |        |\n",
    "[t1] [t2] [t3] [t4]....[t644]\n",
    " |_  _ _ _ _ _ _ |........|\n",
    "          |\n",
    "  [parquet mensual]\n",
    "  \n",
    "4. Filtro el dataframe con eventos por dia.\n",
    "\n",
    "[p1] [p2] [p3] [p4] .. [p24]\n",
    " |    |.    |.   |        |\n",
    "[t1] [t2] [t3] [t4]....[t24]\n",
    " |_  _ _ _ _ _ _ |........|\n",
    "          |\n",
    "  [parquet diaria 1]   [parquet diaria 2]    [parquet diaria 3]  ---  [parquet diaria 31]\n",
    "          |  -- - - - - - - - | --- - - - - - -  - - | -- - - - - - - - - -- - |\n",
    "                                  [parquete mensual]\n"
   ]
  },
  {
   "cell_type": "markdown",
   "id": "95baad81",
   "metadata": {},
   "source": [
    "**Dask**"
   ]
  },
  {
   "cell_type": "code",
   "execution_count": 24,
   "id": "2a799071",
   "metadata": {},
   "outputs": [],
   "source": [
    "import dask.dataframe as dd\n",
    "import dask.array as da\n",
    "pd.set_option('display.max_columns', None)\n",
    "import gc"
   ]
  },
  {
   "cell_type": "code",
   "execution_count": 28,
   "id": "ae490c1b",
   "metadata": {},
   "outputs": [],
   "source": [
    "# los dias\n",
    "dates_file=falsa_ventana.fecha.unique()\n",
    "d=dates_file[0]\n",
    "\n",
    "# lista de archivos\n",
    "l=list(falsa_ventana.loc[falsa_ventana.fecha==d,'file'].values)\n",
    "l=[f's3://{bucket_amplitude_data}/'+i for i in l]\n",
    "\n",
    "#columnas\n",
    "columns_=['user_id','os_name','event_type','device_carrier','event_time']\n",
    "\n",
    "#Eventos a filtrar\n",
    "events_total=[]\n",
    "for i in eventos_amplitude.keys():\n",
    "        events_total.extend(eventos_amplitude[i])"
   ]
  },
  {
   "cell_type": "code",
   "execution_count": 37,
   "id": "ede0504c",
   "metadata": {},
   "outputs": [],
   "source": [
    "events_total=list(set(events_total))"
   ]
  },
  {
   "cell_type": "code",
   "execution_count": 38,
   "id": "8062331c",
   "metadata": {},
   "outputs": [
    {
     "data": {
      "text/plain": [
       "21"
      ]
     },
     "execution_count": 38,
     "metadata": {},
     "output_type": "execute_result"
    }
   ],
   "source": [
    "len(events_total)"
   ]
  },
  {
   "cell_type": "code",
   "execution_count": 81,
   "id": "c64648ce",
   "metadata": {},
   "outputs": [],
   "source": [
    "# GENERAR EL DASK DATAFRAME\n",
    "data_amplitude_diaria=dd.read_parquet(l,columns=columns_,engine='pyarrow')"
   ]
  },
  {
   "cell_type": "code",
   "execution_count": 82,
   "id": "14f17e96",
   "metadata": {},
   "outputs": [],
   "source": [
    "# FILTRAMOS LOS EVENTOS DE AMPLITUDE\n",
    "data_amplitude_diaria=data_amplitude_diaria.loc[data_amplitude_diaria.event_type.isin(events_total),:]"
   ]
  },
  {
   "cell_type": "code",
   "execution_count": 166,
   "id": "87b77580",
   "metadata": {},
   "outputs": [
    {
     "name": "stdout",
     "output_type": "stream",
     "text": [
      "PASO 8: Generar el tamaño de los chunks\n"
     ]
    }
   ],
   "source": [
    "print('PASO 8: Generar el tamaño de los chunks')\n",
    "chunks = tuple(data_amplitude_diaria.map_partitions(len).compute())    "
   ]
  },
  {
   "cell_type": "code",
   "execution_count": 83,
   "id": "0b5df653",
   "metadata": {},
   "outputs": [
    {
     "data": {
      "text/html": [
       "<div>\n",
       "<style scoped>\n",
       "    .dataframe tbody tr th:only-of-type {\n",
       "        vertical-align: middle;\n",
       "    }\n",
       "\n",
       "    .dataframe tbody tr th {\n",
       "        vertical-align: top;\n",
       "    }\n",
       "\n",
       "    .dataframe thead th {\n",
       "        text-align: right;\n",
       "    }\n",
       "</style>\n",
       "<table border=\"1\" class=\"dataframe\">\n",
       "  <thead>\n",
       "    <tr style=\"text-align: right;\">\n",
       "      <th></th>\n",
       "      <th>user_id</th>\n",
       "      <th>os_name</th>\n",
       "      <th>event_type</th>\n",
       "      <th>device_carrier</th>\n",
       "      <th>event_time</th>\n",
       "    </tr>\n",
       "  </thead>\n",
       "  <tbody>\n",
       "    <tr>\n",
       "      <th>1</th>\n",
       "      <td>901aab34-c1e3-4028-af11-546cbbbd598d</td>\n",
       "      <td>android</td>\n",
       "      <td>recarga_confirmada</td>\n",
       "      <td>Claro AR</td>\n",
       "      <td>2020-06-01 20:59:55.893000</td>\n",
       "    </tr>\n",
       "    <tr>\n",
       "      <th>13</th>\n",
       "      <td>94bb12bb-62d6-4e87-9284-0a339b15bf71</td>\n",
       "      <td>android</td>\n",
       "      <td>click_inversiones</td>\n",
       "      <td>Movistar</td>\n",
       "      <td>2020-06-01 20:59:56.341000</td>\n",
       "    </tr>\n",
       "    <tr>\n",
       "      <th>80</th>\n",
       "      <td>3c4d64ee-2149-4326-bb3b-88b110c3d7d2</td>\n",
       "      <td>android</td>\n",
       "      <td>pagos_empezar</td>\n",
       "      <td>Claro AR</td>\n",
       "      <td>2020-06-01 20:59:59.550000</td>\n",
       "    </tr>\n",
       "    <tr>\n",
       "      <th>91</th>\n",
       "      <td>2e27287c-2127-4e51-9905-36f3d2bad686</td>\n",
       "      <td>android</td>\n",
       "      <td>click_inversiones</td>\n",
       "      <td>Tuenti</td>\n",
       "      <td>2020-06-01 20:59:59.995000</td>\n",
       "    </tr>\n",
       "    <tr>\n",
       "      <th>96</th>\n",
       "      <td>7192c5ec-02cb-42c2-81ce-d6dd56370cb8</td>\n",
       "      <td>android</td>\n",
       "      <td>recarga_confirmada</td>\n",
       "      <td>&lt;NA&gt;</td>\n",
       "      <td>2020-06-01 21:00:04.273000</td>\n",
       "    </tr>\n",
       "  </tbody>\n",
       "</table>\n",
       "</div>"
      ],
      "text/plain": [
       "                                 user_id  os_name          event_type  \\\n",
       "1   901aab34-c1e3-4028-af11-546cbbbd598d  android  recarga_confirmada   \n",
       "13  94bb12bb-62d6-4e87-9284-0a339b15bf71  android   click_inversiones   \n",
       "80  3c4d64ee-2149-4326-bb3b-88b110c3d7d2  android       pagos_empezar   \n",
       "91  2e27287c-2127-4e51-9905-36f3d2bad686  android   click_inversiones   \n",
       "96  7192c5ec-02cb-42c2-81ce-d6dd56370cb8  android  recarga_confirmada   \n",
       "\n",
       "   device_carrier                  event_time  \n",
       "1        Claro AR  2020-06-01 20:59:55.893000  \n",
       "13       Movistar  2020-06-01 20:59:56.341000  \n",
       "80       Claro AR  2020-06-01 20:59:59.550000  \n",
       "91         Tuenti  2020-06-01 20:59:59.995000  \n",
       "96           <NA>  2020-06-01 21:00:04.273000  "
      ]
     },
     "execution_count": 83,
     "metadata": {},
     "output_type": "execute_result"
    }
   ],
   "source": [
    "data_amplitude_diaria.compute().head()"
   ]
  },
  {
   "cell_type": "code",
   "execution_count": 91,
   "id": "c09e3f38",
   "metadata": {},
   "outputs": [],
   "source": [
    "data_amplitude_diaria=data_amplitude_diaria.assign(event_cast=data_amplitude_diaria.event_time.str[:13])"
   ]
  },
  {
   "cell_type": "code",
   "execution_count": null,
   "id": "f6e03851",
   "metadata": {},
   "outputs": [],
   "source": [
    "data_group=dd.DataFrameGroupBy(data_amplitude_diaria,by=['user_id','os_name'])"
   ]
  },
  {
   "cell_type": "code",
   "execution_count": 100,
   "id": "d00ba541",
   "metadata": {},
   "outputs": [
    {
     "data": {
      "text/html": [
       "<div>\n",
       "<style scoped>\n",
       "    .dataframe tbody tr th:only-of-type {\n",
       "        vertical-align: middle;\n",
       "    }\n",
       "\n",
       "    .dataframe tbody tr th {\n",
       "        vertical-align: top;\n",
       "    }\n",
       "\n",
       "    .dataframe thead th {\n",
       "        text-align: right;\n",
       "    }\n",
       "</style>\n",
       "<table border=\"1\" class=\"dataframe\">\n",
       "  <thead>\n",
       "    <tr style=\"text-align: right;\">\n",
       "      <th></th>\n",
       "      <th></th>\n",
       "      <th>os_name</th>\n",
       "      <th>device_carrier</th>\n",
       "      <th>event_time</th>\n",
       "      <th>event_cast</th>\n",
       "    </tr>\n",
       "    <tr>\n",
       "      <th>user_id</th>\n",
       "      <th>event_type</th>\n",
       "      <th></th>\n",
       "      <th></th>\n",
       "      <th></th>\n",
       "      <th></th>\n",
       "    </tr>\n",
       "  </thead>\n",
       "  <tbody>\n",
       "    <tr>\n",
       "      <th>0005571a-5d34-4f01-af08-dca0397b5824</th>\n",
       "      <th>click_inversiones</th>\n",
       "      <td>1</td>\n",
       "      <td>1</td>\n",
       "      <td>1</td>\n",
       "      <td>1</td>\n",
       "    </tr>\n",
       "    <tr>\n",
       "      <th>0005c5f3-43cb-4bb9-bc13-15a5baf67ed7</th>\n",
       "      <th>click_inversiones</th>\n",
       "      <td>6</td>\n",
       "      <td>6</td>\n",
       "      <td>6</td>\n",
       "      <td>6</td>\n",
       "    </tr>\n",
       "    <tr>\n",
       "      <th rowspan=\"2\" valign=\"top\">00089d76-24a0-4824-99dd-ab3d5fae9839</th>\n",
       "      <th>click_inversiones</th>\n",
       "      <td>1</td>\n",
       "      <td>1</td>\n",
       "      <td>1</td>\n",
       "      <td>1</td>\n",
       "    </tr>\n",
       "    <tr>\n",
       "      <th>inversiones_suscribir</th>\n",
       "      <td>1</td>\n",
       "      <td>1</td>\n",
       "      <td>1</td>\n",
       "      <td>1</td>\n",
       "    </tr>\n",
       "    <tr>\n",
       "      <th>000b4772-e4e0-4249-b632-0cadef1e95a5</th>\n",
       "      <th>click_inversiones</th>\n",
       "      <td>5</td>\n",
       "      <td>5</td>\n",
       "      <td>5</td>\n",
       "      <td>5</td>\n",
       "    </tr>\n",
       "  </tbody>\n",
       "</table>\n",
       "</div>"
      ],
      "text/plain": [
       "                                                            os_name  \\\n",
       "user_id                              event_type                       \n",
       "0005571a-5d34-4f01-af08-dca0397b5824 click_inversiones            1   \n",
       "0005c5f3-43cb-4bb9-bc13-15a5baf67ed7 click_inversiones            6   \n",
       "00089d76-24a0-4824-99dd-ab3d5fae9839 click_inversiones            1   \n",
       "                                     inversiones_suscribir        1   \n",
       "000b4772-e4e0-4249-b632-0cadef1e95a5 click_inversiones            5   \n",
       "\n",
       "                                                            device_carrier  \\\n",
       "user_id                              event_type                              \n",
       "0005571a-5d34-4f01-af08-dca0397b5824 click_inversiones                   1   \n",
       "0005c5f3-43cb-4bb9-bc13-15a5baf67ed7 click_inversiones                   6   \n",
       "00089d76-24a0-4824-99dd-ab3d5fae9839 click_inversiones                   1   \n",
       "                                     inversiones_suscribir               1   \n",
       "000b4772-e4e0-4249-b632-0cadef1e95a5 click_inversiones                   5   \n",
       "\n",
       "                                                            event_time  \\\n",
       "user_id                              event_type                          \n",
       "0005571a-5d34-4f01-af08-dca0397b5824 click_inversiones               1   \n",
       "0005c5f3-43cb-4bb9-bc13-15a5baf67ed7 click_inversiones               6   \n",
       "00089d76-24a0-4824-99dd-ab3d5fae9839 click_inversiones               1   \n",
       "                                     inversiones_suscribir           1   \n",
       "000b4772-e4e0-4249-b632-0cadef1e95a5 click_inversiones               5   \n",
       "\n",
       "                                                            event_cast  \n",
       "user_id                              event_type                         \n",
       "0005571a-5d34-4f01-af08-dca0397b5824 click_inversiones               1  \n",
       "0005c5f3-43cb-4bb9-bc13-15a5baf67ed7 click_inversiones               6  \n",
       "00089d76-24a0-4824-99dd-ab3d5fae9839 click_inversiones               1  \n",
       "                                     inversiones_suscribir           1  \n",
       "000b4772-e4e0-4249-b632-0cadef1e95a5 click_inversiones               5  "
      ]
     },
     "execution_count": 100,
     "metadata": {},
     "output_type": "execute_result"
    }
   ],
   "source": [
    "data_amplitude_diaria.groupby(['user_id','event_cast']).agg('count').compute().head()"
   ]
  },
  {
   "cell_type": "code",
   "execution_count": 102,
   "id": "462d19cf",
   "metadata": {},
   "outputs": [],
   "source": [
    "data_amplitude_diaria2 = data_amplitude_diaria.categorize(\"event_type\")\n",
    "data_amplitude_diaria3 = data_amplitude_diaria2.pivot_table(index='user_id', columns=\"event_type\",aggfunc='count')\n"
   ]
  },
  {
   "cell_type": "code",
   "execution_count": 103,
   "id": "911e934a",
   "metadata": {},
   "outputs": [
    {
     "ename": "ValueError",
     "evalue": "Location based indexing can only have [integer, integer slice (START point is INCLUDED, END point is EXCLUDED), listlike of integers, boolean array] types",
     "output_type": "error",
     "traceback": [
      "\u001b[0;31m---------------------------------------------------------------------------\u001b[0m",
      "\u001b[0;31mValueError\u001b[0m                                Traceback (most recent call last)",
      "\u001b[0;32m~/anaconda3/envs/python3/lib/python3.6/site-packages/pandas/core/indexing.py\u001b[0m in \u001b[0;36m_has_valid_tuple\u001b[0;34m(self, key)\u001b[0m\n\u001b[1;32m    701\u001b[0m             \u001b[0;32mtry\u001b[0m\u001b[0;34m:\u001b[0m\u001b[0;34m\u001b[0m\u001b[0;34m\u001b[0m\u001b[0m\n\u001b[0;32m--> 702\u001b[0;31m                 \u001b[0mself\u001b[0m\u001b[0;34m.\u001b[0m\u001b[0m_validate_key\u001b[0m\u001b[0;34m(\u001b[0m\u001b[0mk\u001b[0m\u001b[0;34m,\u001b[0m \u001b[0mi\u001b[0m\u001b[0;34m)\u001b[0m\u001b[0;34m\u001b[0m\u001b[0;34m\u001b[0m\u001b[0m\n\u001b[0m\u001b[1;32m    703\u001b[0m             \u001b[0;32mexcept\u001b[0m \u001b[0mValueError\u001b[0m \u001b[0;32mas\u001b[0m \u001b[0merr\u001b[0m\u001b[0;34m:\u001b[0m\u001b[0;34m\u001b[0m\u001b[0;34m\u001b[0m\u001b[0m\n",
      "\u001b[0;32m~/anaconda3/envs/python3/lib/python3.6/site-packages/pandas/core/indexing.py\u001b[0m in \u001b[0;36m_validate_key\u001b[0;34m(self, key, axis)\u001b[0m\n\u001b[1;32m   1368\u001b[0m         \u001b[0;32melse\u001b[0m\u001b[0;34m:\u001b[0m\u001b[0;34m\u001b[0m\u001b[0;34m\u001b[0m\u001b[0m\n\u001b[0;32m-> 1369\u001b[0;31m             \u001b[0;32mraise\u001b[0m \u001b[0mValueError\u001b[0m\u001b[0;34m(\u001b[0m\u001b[0;34mf\"Can only index by location with a [{self._valid_types}]\"\u001b[0m\u001b[0;34m)\u001b[0m\u001b[0;34m\u001b[0m\u001b[0;34m\u001b[0m\u001b[0m\n\u001b[0m\u001b[1;32m   1370\u001b[0m \u001b[0;34m\u001b[0m\u001b[0m\n",
      "\u001b[0;31mValueError\u001b[0m: Can only index by location with a [integer, integer slice (START point is INCLUDED, END point is EXCLUDED), listlike of integers, boolean array]",
      "\nThe above exception was the direct cause of the following exception:\n",
      "\u001b[0;31mValueError\u001b[0m                                Traceback (most recent call last)",
      "\u001b[0;32m<ipython-input-103-c75641a915e8>\u001b[0m in \u001b[0;36m<module>\u001b[0;34m\u001b[0m\n\u001b[0;32m----> 1\u001b[0;31m \u001b[0mdata_amplitude_diaria3\u001b[0m\u001b[0;34m.\u001b[0m\u001b[0mcompute\u001b[0m\u001b[0;34m(\u001b[0m\u001b[0;34m)\u001b[0m\u001b[0;34m.\u001b[0m\u001b[0mhead\u001b[0m\u001b[0;34m(\u001b[0m\u001b[0;34m)\u001b[0m\u001b[0;34m\u001b[0m\u001b[0;34m\u001b[0m\u001b[0m\n\u001b[0m",
      "\u001b[0;32m~/anaconda3/envs/python3/lib/python3.6/site-packages/dask/base.py\u001b[0m in \u001b[0;36mcompute\u001b[0;34m(self, **kwargs)\u001b[0m\n\u001b[1;32m    279\u001b[0m         \u001b[0mdask\u001b[0m\u001b[0;34m.\u001b[0m\u001b[0mbase\u001b[0m\u001b[0;34m.\u001b[0m\u001b[0mcompute\u001b[0m\u001b[0;34m\u001b[0m\u001b[0;34m\u001b[0m\u001b[0m\n\u001b[1;32m    280\u001b[0m         \"\"\"\n\u001b[0;32m--> 281\u001b[0;31m         \u001b[0;34m(\u001b[0m\u001b[0mresult\u001b[0m\u001b[0;34m,\u001b[0m\u001b[0;34m)\u001b[0m \u001b[0;34m=\u001b[0m \u001b[0mcompute\u001b[0m\u001b[0;34m(\u001b[0m\u001b[0mself\u001b[0m\u001b[0;34m,\u001b[0m \u001b[0mtraverse\u001b[0m\u001b[0;34m=\u001b[0m\u001b[0;32mFalse\u001b[0m\u001b[0;34m,\u001b[0m \u001b[0;34m**\u001b[0m\u001b[0mkwargs\u001b[0m\u001b[0;34m)\u001b[0m\u001b[0;34m\u001b[0m\u001b[0;34m\u001b[0m\u001b[0m\n\u001b[0m\u001b[1;32m    282\u001b[0m         \u001b[0;32mreturn\u001b[0m \u001b[0mresult\u001b[0m\u001b[0;34m\u001b[0m\u001b[0;34m\u001b[0m\u001b[0m\n\u001b[1;32m    283\u001b[0m \u001b[0;34m\u001b[0m\u001b[0m\n",
      "\u001b[0;32m~/anaconda3/envs/python3/lib/python3.6/site-packages/dask/base.py\u001b[0m in \u001b[0;36mcompute\u001b[0;34m(*args, **kwargs)\u001b[0m\n\u001b[1;32m    561\u001b[0m         \u001b[0mpostcomputes\u001b[0m\u001b[0;34m.\u001b[0m\u001b[0mappend\u001b[0m\u001b[0;34m(\u001b[0m\u001b[0mx\u001b[0m\u001b[0;34m.\u001b[0m\u001b[0m__dask_postcompute__\u001b[0m\u001b[0;34m(\u001b[0m\u001b[0;34m)\u001b[0m\u001b[0;34m)\u001b[0m\u001b[0;34m\u001b[0m\u001b[0;34m\u001b[0m\u001b[0m\n\u001b[1;32m    562\u001b[0m \u001b[0;34m\u001b[0m\u001b[0m\n\u001b[0;32m--> 563\u001b[0;31m     \u001b[0mresults\u001b[0m \u001b[0;34m=\u001b[0m \u001b[0mschedule\u001b[0m\u001b[0;34m(\u001b[0m\u001b[0mdsk\u001b[0m\u001b[0;34m,\u001b[0m \u001b[0mkeys\u001b[0m\u001b[0;34m,\u001b[0m \u001b[0;34m**\u001b[0m\u001b[0mkwargs\u001b[0m\u001b[0;34m)\u001b[0m\u001b[0;34m\u001b[0m\u001b[0;34m\u001b[0m\u001b[0m\n\u001b[0m\u001b[1;32m    564\u001b[0m     \u001b[0;32mreturn\u001b[0m \u001b[0mrepack\u001b[0m\u001b[0;34m(\u001b[0m\u001b[0;34m[\u001b[0m\u001b[0mf\u001b[0m\u001b[0;34m(\u001b[0m\u001b[0mr\u001b[0m\u001b[0;34m,\u001b[0m \u001b[0;34m*\u001b[0m\u001b[0ma\u001b[0m\u001b[0;34m)\u001b[0m \u001b[0;32mfor\u001b[0m \u001b[0mr\u001b[0m\u001b[0;34m,\u001b[0m \u001b[0;34m(\u001b[0m\u001b[0mf\u001b[0m\u001b[0;34m,\u001b[0m \u001b[0ma\u001b[0m\u001b[0;34m)\u001b[0m \u001b[0;32min\u001b[0m \u001b[0mzip\u001b[0m\u001b[0;34m(\u001b[0m\u001b[0mresults\u001b[0m\u001b[0;34m,\u001b[0m \u001b[0mpostcomputes\u001b[0m\u001b[0;34m)\u001b[0m\u001b[0;34m]\u001b[0m\u001b[0;34m)\u001b[0m\u001b[0;34m\u001b[0m\u001b[0;34m\u001b[0m\u001b[0m\n\u001b[1;32m    565\u001b[0m \u001b[0;34m\u001b[0m\u001b[0m\n",
      "\u001b[0;32m~/anaconda3/envs/python3/lib/python3.6/site-packages/dask/threaded.py\u001b[0m in \u001b[0;36mget\u001b[0;34m(dsk, result, cache, num_workers, pool, **kwargs)\u001b[0m\n\u001b[1;32m     82\u001b[0m         \u001b[0mget_id\u001b[0m\u001b[0;34m=\u001b[0m\u001b[0m_thread_get_id\u001b[0m\u001b[0;34m,\u001b[0m\u001b[0;34m\u001b[0m\u001b[0;34m\u001b[0m\u001b[0m\n\u001b[1;32m     83\u001b[0m         \u001b[0mpack_exception\u001b[0m\u001b[0;34m=\u001b[0m\u001b[0mpack_exception\u001b[0m\u001b[0;34m,\u001b[0m\u001b[0;34m\u001b[0m\u001b[0;34m\u001b[0m\u001b[0m\n\u001b[0;32m---> 84\u001b[0;31m         \u001b[0;34m**\u001b[0m\u001b[0mkwargs\u001b[0m\u001b[0;34m\u001b[0m\u001b[0;34m\u001b[0m\u001b[0m\n\u001b[0m\u001b[1;32m     85\u001b[0m     )\n\u001b[1;32m     86\u001b[0m \u001b[0;34m\u001b[0m\u001b[0m\n",
      "\u001b[0;32m~/anaconda3/envs/python3/lib/python3.6/site-packages/dask/local.py\u001b[0m in \u001b[0;36mget_async\u001b[0;34m(apply_async, num_workers, dsk, result, cache, get_id, rerun_exceptions_locally, pack_exception, raise_exception, callbacks, dumps, loads, **kwargs)\u001b[0m\n\u001b[1;32m    485\u001b[0m                         \u001b[0m_execute_task\u001b[0m\u001b[0;34m(\u001b[0m\u001b[0mtask\u001b[0m\u001b[0;34m,\u001b[0m \u001b[0mdata\u001b[0m\u001b[0;34m)\u001b[0m  \u001b[0;31m# Re-execute locally\u001b[0m\u001b[0;34m\u001b[0m\u001b[0;34m\u001b[0m\u001b[0m\n\u001b[1;32m    486\u001b[0m                     \u001b[0;32melse\u001b[0m\u001b[0;34m:\u001b[0m\u001b[0;34m\u001b[0m\u001b[0;34m\u001b[0m\u001b[0m\n\u001b[0;32m--> 487\u001b[0;31m                         \u001b[0mraise_exception\u001b[0m\u001b[0;34m(\u001b[0m\u001b[0mexc\u001b[0m\u001b[0;34m,\u001b[0m \u001b[0mtb\u001b[0m\u001b[0;34m)\u001b[0m\u001b[0;34m\u001b[0m\u001b[0;34m\u001b[0m\u001b[0m\n\u001b[0m\u001b[1;32m    488\u001b[0m                 \u001b[0mres\u001b[0m\u001b[0;34m,\u001b[0m \u001b[0mworker_id\u001b[0m \u001b[0;34m=\u001b[0m \u001b[0mloads\u001b[0m\u001b[0;34m(\u001b[0m\u001b[0mres_info\u001b[0m\u001b[0;34m)\u001b[0m\u001b[0;34m\u001b[0m\u001b[0;34m\u001b[0m\u001b[0m\n\u001b[1;32m    489\u001b[0m                 \u001b[0mstate\u001b[0m\u001b[0;34m[\u001b[0m\u001b[0;34m\"cache\"\u001b[0m\u001b[0;34m]\u001b[0m\u001b[0;34m[\u001b[0m\u001b[0mkey\u001b[0m\u001b[0;34m]\u001b[0m \u001b[0;34m=\u001b[0m \u001b[0mres\u001b[0m\u001b[0;34m\u001b[0m\u001b[0;34m\u001b[0m\u001b[0m\n",
      "\u001b[0;32m~/anaconda3/envs/python3/lib/python3.6/site-packages/dask/local.py\u001b[0m in \u001b[0;36mreraise\u001b[0;34m(exc, tb)\u001b[0m\n\u001b[1;32m    315\u001b[0m     \u001b[0;32mif\u001b[0m \u001b[0mexc\u001b[0m\u001b[0;34m.\u001b[0m\u001b[0m__traceback__\u001b[0m \u001b[0;32mis\u001b[0m \u001b[0;32mnot\u001b[0m \u001b[0mtb\u001b[0m\u001b[0;34m:\u001b[0m\u001b[0;34m\u001b[0m\u001b[0;34m\u001b[0m\u001b[0m\n\u001b[1;32m    316\u001b[0m         \u001b[0;32mraise\u001b[0m \u001b[0mexc\u001b[0m\u001b[0;34m.\u001b[0m\u001b[0mwith_traceback\u001b[0m\u001b[0;34m(\u001b[0m\u001b[0mtb\u001b[0m\u001b[0;34m)\u001b[0m\u001b[0;34m\u001b[0m\u001b[0;34m\u001b[0m\u001b[0m\n\u001b[0;32m--> 317\u001b[0;31m     \u001b[0;32mraise\u001b[0m \u001b[0mexc\u001b[0m\u001b[0;34m\u001b[0m\u001b[0;34m\u001b[0m\u001b[0m\n\u001b[0m\u001b[1;32m    318\u001b[0m \u001b[0;34m\u001b[0m\u001b[0m\n\u001b[1;32m    319\u001b[0m \u001b[0;34m\u001b[0m\u001b[0m\n",
      "\u001b[0;32m~/anaconda3/envs/python3/lib/python3.6/site-packages/dask/local.py\u001b[0m in \u001b[0;36mexecute_task\u001b[0;34m(key, task_info, dumps, loads, get_id, pack_exception)\u001b[0m\n\u001b[1;32m    220\u001b[0m     \u001b[0;32mtry\u001b[0m\u001b[0;34m:\u001b[0m\u001b[0;34m\u001b[0m\u001b[0;34m\u001b[0m\u001b[0m\n\u001b[1;32m    221\u001b[0m         \u001b[0mtask\u001b[0m\u001b[0;34m,\u001b[0m \u001b[0mdata\u001b[0m \u001b[0;34m=\u001b[0m \u001b[0mloads\u001b[0m\u001b[0;34m(\u001b[0m\u001b[0mtask_info\u001b[0m\u001b[0;34m)\u001b[0m\u001b[0;34m\u001b[0m\u001b[0;34m\u001b[0m\u001b[0m\n\u001b[0;32m--> 222\u001b[0;31m         \u001b[0mresult\u001b[0m \u001b[0;34m=\u001b[0m \u001b[0m_execute_task\u001b[0m\u001b[0;34m(\u001b[0m\u001b[0mtask\u001b[0m\u001b[0;34m,\u001b[0m \u001b[0mdata\u001b[0m\u001b[0;34m)\u001b[0m\u001b[0;34m\u001b[0m\u001b[0;34m\u001b[0m\u001b[0m\n\u001b[0m\u001b[1;32m    223\u001b[0m         \u001b[0mid\u001b[0m \u001b[0;34m=\u001b[0m \u001b[0mget_id\u001b[0m\u001b[0;34m(\u001b[0m\u001b[0;34m)\u001b[0m\u001b[0;34m\u001b[0m\u001b[0;34m\u001b[0m\u001b[0m\n\u001b[1;32m    224\u001b[0m         \u001b[0mresult\u001b[0m \u001b[0;34m=\u001b[0m \u001b[0mdumps\u001b[0m\u001b[0;34m(\u001b[0m\u001b[0;34m(\u001b[0m\u001b[0mresult\u001b[0m\u001b[0;34m,\u001b[0m \u001b[0mid\u001b[0m\u001b[0;34m)\u001b[0m\u001b[0;34m)\u001b[0m\u001b[0;34m\u001b[0m\u001b[0;34m\u001b[0m\u001b[0m\n",
      "\u001b[0;32m~/anaconda3/envs/python3/lib/python3.6/site-packages/dask/core.py\u001b[0m in \u001b[0;36m_execute_task\u001b[0;34m(arg, cache, dsk)\u001b[0m\n\u001b[1;32m    119\u001b[0m         \u001b[0;31m# temporaries by their reference count and can execute certain\u001b[0m\u001b[0;34m\u001b[0m\u001b[0;34m\u001b[0m\u001b[0;34m\u001b[0m\u001b[0m\n\u001b[1;32m    120\u001b[0m         \u001b[0;31m# operations in-place.\u001b[0m\u001b[0;34m\u001b[0m\u001b[0;34m\u001b[0m\u001b[0;34m\u001b[0m\u001b[0m\n\u001b[0;32m--> 121\u001b[0;31m         \u001b[0;32mreturn\u001b[0m \u001b[0mfunc\u001b[0m\u001b[0;34m(\u001b[0m\u001b[0;34m*\u001b[0m\u001b[0;34m(\u001b[0m\u001b[0m_execute_task\u001b[0m\u001b[0;34m(\u001b[0m\u001b[0ma\u001b[0m\u001b[0;34m,\u001b[0m \u001b[0mcache\u001b[0m\u001b[0;34m)\u001b[0m \u001b[0;32mfor\u001b[0m \u001b[0ma\u001b[0m \u001b[0;32min\u001b[0m \u001b[0margs\u001b[0m\u001b[0;34m)\u001b[0m\u001b[0;34m)\u001b[0m\u001b[0;34m\u001b[0m\u001b[0;34m\u001b[0m\u001b[0m\n\u001b[0m\u001b[1;32m    122\u001b[0m     \u001b[0;32melif\u001b[0m \u001b[0;32mnot\u001b[0m \u001b[0mishashable\u001b[0m\u001b[0;34m(\u001b[0m\u001b[0marg\u001b[0m\u001b[0;34m)\u001b[0m\u001b[0;34m:\u001b[0m\u001b[0;34m\u001b[0m\u001b[0;34m\u001b[0m\u001b[0m\n\u001b[1;32m    123\u001b[0m         \u001b[0;32mreturn\u001b[0m \u001b[0marg\u001b[0m\u001b[0;34m\u001b[0m\u001b[0;34m\u001b[0m\u001b[0m\n",
      "\u001b[0;32m~/anaconda3/envs/python3/lib/python3.6/site-packages/dask/optimization.py\u001b[0m in \u001b[0;36m__call__\u001b[0;34m(self, *args)\u001b[0m\n\u001b[1;32m    961\u001b[0m         \u001b[0;32mif\u001b[0m \u001b[0;32mnot\u001b[0m \u001b[0mlen\u001b[0m\u001b[0;34m(\u001b[0m\u001b[0margs\u001b[0m\u001b[0;34m)\u001b[0m \u001b[0;34m==\u001b[0m \u001b[0mlen\u001b[0m\u001b[0;34m(\u001b[0m\u001b[0mself\u001b[0m\u001b[0;34m.\u001b[0m\u001b[0minkeys\u001b[0m\u001b[0;34m)\u001b[0m\u001b[0;34m:\u001b[0m\u001b[0;34m\u001b[0m\u001b[0;34m\u001b[0m\u001b[0m\n\u001b[1;32m    962\u001b[0m             \u001b[0;32mraise\u001b[0m \u001b[0mValueError\u001b[0m\u001b[0;34m(\u001b[0m\u001b[0;34m\"Expected %d args, got %d\"\u001b[0m \u001b[0;34m%\u001b[0m \u001b[0;34m(\u001b[0m\u001b[0mlen\u001b[0m\u001b[0;34m(\u001b[0m\u001b[0mself\u001b[0m\u001b[0;34m.\u001b[0m\u001b[0minkeys\u001b[0m\u001b[0;34m)\u001b[0m\u001b[0;34m,\u001b[0m \u001b[0mlen\u001b[0m\u001b[0;34m(\u001b[0m\u001b[0margs\u001b[0m\u001b[0;34m)\u001b[0m\u001b[0;34m)\u001b[0m\u001b[0;34m)\u001b[0m\u001b[0;34m\u001b[0m\u001b[0;34m\u001b[0m\u001b[0m\n\u001b[0;32m--> 963\u001b[0;31m         \u001b[0;32mreturn\u001b[0m \u001b[0mcore\u001b[0m\u001b[0;34m.\u001b[0m\u001b[0mget\u001b[0m\u001b[0;34m(\u001b[0m\u001b[0mself\u001b[0m\u001b[0;34m.\u001b[0m\u001b[0mdsk\u001b[0m\u001b[0;34m,\u001b[0m \u001b[0mself\u001b[0m\u001b[0;34m.\u001b[0m\u001b[0moutkey\u001b[0m\u001b[0;34m,\u001b[0m \u001b[0mdict\u001b[0m\u001b[0;34m(\u001b[0m\u001b[0mzip\u001b[0m\u001b[0;34m(\u001b[0m\u001b[0mself\u001b[0m\u001b[0;34m.\u001b[0m\u001b[0minkeys\u001b[0m\u001b[0;34m,\u001b[0m \u001b[0margs\u001b[0m\u001b[0;34m)\u001b[0m\u001b[0;34m)\u001b[0m\u001b[0;34m)\u001b[0m\u001b[0;34m\u001b[0m\u001b[0;34m\u001b[0m\u001b[0m\n\u001b[0m\u001b[1;32m    964\u001b[0m \u001b[0;34m\u001b[0m\u001b[0m\n\u001b[1;32m    965\u001b[0m     \u001b[0;32mdef\u001b[0m \u001b[0m__reduce__\u001b[0m\u001b[0;34m(\u001b[0m\u001b[0mself\u001b[0m\u001b[0;34m)\u001b[0m\u001b[0;34m:\u001b[0m\u001b[0;34m\u001b[0m\u001b[0;34m\u001b[0m\u001b[0m\n",
      "\u001b[0;32m~/anaconda3/envs/python3/lib/python3.6/site-packages/dask/core.py\u001b[0m in \u001b[0;36mget\u001b[0;34m(dsk, out, cache)\u001b[0m\n\u001b[1;32m    149\u001b[0m     \u001b[0;32mfor\u001b[0m \u001b[0mkey\u001b[0m \u001b[0;32min\u001b[0m \u001b[0mtoposort\u001b[0m\u001b[0;34m(\u001b[0m\u001b[0mdsk\u001b[0m\u001b[0;34m)\u001b[0m\u001b[0;34m:\u001b[0m\u001b[0;34m\u001b[0m\u001b[0;34m\u001b[0m\u001b[0m\n\u001b[1;32m    150\u001b[0m         \u001b[0mtask\u001b[0m \u001b[0;34m=\u001b[0m \u001b[0mdsk\u001b[0m\u001b[0;34m[\u001b[0m\u001b[0mkey\u001b[0m\u001b[0;34m]\u001b[0m\u001b[0;34m\u001b[0m\u001b[0;34m\u001b[0m\u001b[0m\n\u001b[0;32m--> 151\u001b[0;31m         \u001b[0mresult\u001b[0m \u001b[0;34m=\u001b[0m \u001b[0m_execute_task\u001b[0m\u001b[0;34m(\u001b[0m\u001b[0mtask\u001b[0m\u001b[0;34m,\u001b[0m \u001b[0mcache\u001b[0m\u001b[0;34m)\u001b[0m\u001b[0;34m\u001b[0m\u001b[0;34m\u001b[0m\u001b[0m\n\u001b[0m\u001b[1;32m    152\u001b[0m         \u001b[0mcache\u001b[0m\u001b[0;34m[\u001b[0m\u001b[0mkey\u001b[0m\u001b[0;34m]\u001b[0m \u001b[0;34m=\u001b[0m \u001b[0mresult\u001b[0m\u001b[0;34m\u001b[0m\u001b[0;34m\u001b[0m\u001b[0m\n\u001b[1;32m    153\u001b[0m     \u001b[0mresult\u001b[0m \u001b[0;34m=\u001b[0m \u001b[0m_execute_task\u001b[0m\u001b[0;34m(\u001b[0m\u001b[0mout\u001b[0m\u001b[0;34m,\u001b[0m \u001b[0mcache\u001b[0m\u001b[0;34m)\u001b[0m\u001b[0;34m\u001b[0m\u001b[0;34m\u001b[0m\u001b[0m\n",
      "\u001b[0;32m~/anaconda3/envs/python3/lib/python3.6/site-packages/dask/core.py\u001b[0m in \u001b[0;36m_execute_task\u001b[0;34m(arg, cache, dsk)\u001b[0m\n\u001b[1;32m    119\u001b[0m         \u001b[0;31m# temporaries by their reference count and can execute certain\u001b[0m\u001b[0;34m\u001b[0m\u001b[0;34m\u001b[0m\u001b[0;34m\u001b[0m\u001b[0m\n\u001b[1;32m    120\u001b[0m         \u001b[0;31m# operations in-place.\u001b[0m\u001b[0;34m\u001b[0m\u001b[0;34m\u001b[0m\u001b[0;34m\u001b[0m\u001b[0m\n\u001b[0;32m--> 121\u001b[0;31m         \u001b[0;32mreturn\u001b[0m \u001b[0mfunc\u001b[0m\u001b[0;34m(\u001b[0m\u001b[0;34m*\u001b[0m\u001b[0;34m(\u001b[0m\u001b[0m_execute_task\u001b[0m\u001b[0;34m(\u001b[0m\u001b[0ma\u001b[0m\u001b[0;34m,\u001b[0m \u001b[0mcache\u001b[0m\u001b[0;34m)\u001b[0m \u001b[0;32mfor\u001b[0m \u001b[0ma\u001b[0m \u001b[0;32min\u001b[0m \u001b[0margs\u001b[0m\u001b[0;34m)\u001b[0m\u001b[0;34m)\u001b[0m\u001b[0;34m\u001b[0m\u001b[0;34m\u001b[0m\u001b[0m\n\u001b[0m\u001b[1;32m    122\u001b[0m     \u001b[0;32melif\u001b[0m \u001b[0;32mnot\u001b[0m \u001b[0mishashable\u001b[0m\u001b[0;34m(\u001b[0m\u001b[0marg\u001b[0m\u001b[0;34m)\u001b[0m\u001b[0;34m:\u001b[0m\u001b[0;34m\u001b[0m\u001b[0;34m\u001b[0m\u001b[0m\n\u001b[1;32m    123\u001b[0m         \u001b[0;32mreturn\u001b[0m \u001b[0marg\u001b[0m\u001b[0;34m\u001b[0m\u001b[0;34m\u001b[0m\u001b[0m\n",
      "\u001b[0;32m~/anaconda3/envs/python3/lib/python3.6/site-packages/pandas/core/ops/__init__.py\u001b[0m in \u001b[0;36mf\u001b[0;34m(self, other, axis, level, fill_value)\u001b[0m\n\u001b[1;32m    638\u001b[0m             \u001b[0mself\u001b[0m\u001b[0;34m,\u001b[0m \u001b[0mother\u001b[0m\u001b[0;34m,\u001b[0m \u001b[0mop\u001b[0m\u001b[0;34m,\u001b[0m \u001b[0maxis\u001b[0m\u001b[0;34m,\u001b[0m \u001b[0mdefault_axis\u001b[0m\u001b[0;34m,\u001b[0m \u001b[0mfill_value\u001b[0m\u001b[0;34m,\u001b[0m \u001b[0mlevel\u001b[0m\u001b[0;34m\u001b[0m\u001b[0;34m\u001b[0m\u001b[0m\n\u001b[1;32m    639\u001b[0m         ):\n\u001b[0;32m--> 640\u001b[0;31m             \u001b[0;32mreturn\u001b[0m \u001b[0m_frame_arith_method_with_reindex\u001b[0m\u001b[0;34m(\u001b[0m\u001b[0mself\u001b[0m\u001b[0;34m,\u001b[0m \u001b[0mother\u001b[0m\u001b[0;34m,\u001b[0m \u001b[0mop\u001b[0m\u001b[0;34m)\u001b[0m\u001b[0;34m\u001b[0m\u001b[0;34m\u001b[0m\u001b[0m\n\u001b[0m\u001b[1;32m    641\u001b[0m \u001b[0;34m\u001b[0m\u001b[0m\n\u001b[1;32m    642\u001b[0m         \u001b[0;32mif\u001b[0m \u001b[0misinstance\u001b[0m\u001b[0;34m(\u001b[0m\u001b[0mother\u001b[0m\u001b[0;34m,\u001b[0m \u001b[0mABCSeries\u001b[0m\u001b[0;34m)\u001b[0m \u001b[0;32mand\u001b[0m \u001b[0mfill_value\u001b[0m \u001b[0;32mis\u001b[0m \u001b[0;32mnot\u001b[0m \u001b[0;32mNone\u001b[0m\u001b[0;34m:\u001b[0m\u001b[0;34m\u001b[0m\u001b[0;34m\u001b[0m\u001b[0m\n",
      "\u001b[0;32m~/anaconda3/envs/python3/lib/python3.6/site-packages/pandas/core/ops/__init__.py\u001b[0m in \u001b[0;36m_frame_arith_method_with_reindex\u001b[0;34m(left, right, op)\u001b[0m\n\u001b[1;32m    572\u001b[0m     )\n\u001b[1;32m    573\u001b[0m \u001b[0;34m\u001b[0m\u001b[0m\n\u001b[0;32m--> 574\u001b[0;31m     \u001b[0mnew_left\u001b[0m \u001b[0;34m=\u001b[0m \u001b[0mleft\u001b[0m\u001b[0;34m.\u001b[0m\u001b[0miloc\u001b[0m\u001b[0;34m[\u001b[0m\u001b[0;34m:\u001b[0m\u001b[0;34m,\u001b[0m \u001b[0mlcols\u001b[0m\u001b[0;34m]\u001b[0m\u001b[0;34m\u001b[0m\u001b[0;34m\u001b[0m\u001b[0m\n\u001b[0m\u001b[1;32m    575\u001b[0m     \u001b[0mnew_right\u001b[0m \u001b[0;34m=\u001b[0m \u001b[0mright\u001b[0m\u001b[0;34m.\u001b[0m\u001b[0miloc\u001b[0m\u001b[0;34m[\u001b[0m\u001b[0;34m:\u001b[0m\u001b[0;34m,\u001b[0m \u001b[0mrcols\u001b[0m\u001b[0;34m]\u001b[0m\u001b[0;34m\u001b[0m\u001b[0;34m\u001b[0m\u001b[0m\n\u001b[1;32m    576\u001b[0m     \u001b[0mresult\u001b[0m \u001b[0;34m=\u001b[0m \u001b[0mop\u001b[0m\u001b[0;34m(\u001b[0m\u001b[0mnew_left\u001b[0m\u001b[0;34m,\u001b[0m \u001b[0mnew_right\u001b[0m\u001b[0;34m)\u001b[0m\u001b[0;34m\u001b[0m\u001b[0;34m\u001b[0m\u001b[0m\n",
      "\u001b[0;32m~/anaconda3/envs/python3/lib/python3.6/site-packages/pandas/core/indexing.py\u001b[0m in \u001b[0;36m__getitem__\u001b[0;34m(self, key)\u001b[0m\n\u001b[1;32m    871\u001b[0m                     \u001b[0;31m# AttributeError for IntervalTree get_value\u001b[0m\u001b[0;34m\u001b[0m\u001b[0;34m\u001b[0m\u001b[0;34m\u001b[0m\u001b[0m\n\u001b[1;32m    872\u001b[0m                     \u001b[0;32mpass\u001b[0m\u001b[0;34m\u001b[0m\u001b[0;34m\u001b[0m\u001b[0m\n\u001b[0;32m--> 873\u001b[0;31m             \u001b[0;32mreturn\u001b[0m \u001b[0mself\u001b[0m\u001b[0;34m.\u001b[0m\u001b[0m_getitem_tuple\u001b[0m\u001b[0;34m(\u001b[0m\u001b[0mkey\u001b[0m\u001b[0;34m)\u001b[0m\u001b[0;34m\u001b[0m\u001b[0;34m\u001b[0m\u001b[0m\n\u001b[0m\u001b[1;32m    874\u001b[0m         \u001b[0;32melse\u001b[0m\u001b[0;34m:\u001b[0m\u001b[0;34m\u001b[0m\u001b[0;34m\u001b[0m\u001b[0m\n\u001b[1;32m    875\u001b[0m             \u001b[0;31m# we by definition only have the 0th axis\u001b[0m\u001b[0;34m\u001b[0m\u001b[0;34m\u001b[0m\u001b[0;34m\u001b[0m\u001b[0m\n",
      "\u001b[0;32m~/anaconda3/envs/python3/lib/python3.6/site-packages/pandas/core/indexing.py\u001b[0m in \u001b[0;36m_getitem_tuple\u001b[0;34m(self, tup)\u001b[0m\n\u001b[1;32m   1441\u001b[0m     \u001b[0;32mdef\u001b[0m \u001b[0m_getitem_tuple\u001b[0m\u001b[0;34m(\u001b[0m\u001b[0mself\u001b[0m\u001b[0;34m,\u001b[0m \u001b[0mtup\u001b[0m\u001b[0;34m:\u001b[0m \u001b[0mTuple\u001b[0m\u001b[0;34m)\u001b[0m\u001b[0;34m:\u001b[0m\u001b[0;34m\u001b[0m\u001b[0;34m\u001b[0m\u001b[0m\n\u001b[1;32m   1442\u001b[0m \u001b[0;34m\u001b[0m\u001b[0m\n\u001b[0;32m-> 1443\u001b[0;31m         \u001b[0mself\u001b[0m\u001b[0;34m.\u001b[0m\u001b[0m_has_valid_tuple\u001b[0m\u001b[0;34m(\u001b[0m\u001b[0mtup\u001b[0m\u001b[0;34m)\u001b[0m\u001b[0;34m\u001b[0m\u001b[0;34m\u001b[0m\u001b[0m\n\u001b[0m\u001b[1;32m   1444\u001b[0m         \u001b[0;32mtry\u001b[0m\u001b[0;34m:\u001b[0m\u001b[0;34m\u001b[0m\u001b[0;34m\u001b[0m\u001b[0m\n\u001b[1;32m   1445\u001b[0m             \u001b[0;32mreturn\u001b[0m \u001b[0mself\u001b[0m\u001b[0;34m.\u001b[0m\u001b[0m_getitem_lowerdim\u001b[0m\u001b[0;34m(\u001b[0m\u001b[0mtup\u001b[0m\u001b[0;34m)\u001b[0m\u001b[0;34m\u001b[0m\u001b[0;34m\u001b[0m\u001b[0m\n",
      "\u001b[0;32m~/anaconda3/envs/python3/lib/python3.6/site-packages/pandas/core/indexing.py\u001b[0m in \u001b[0;36m_has_valid_tuple\u001b[0;34m(self, key)\u001b[0m\n\u001b[1;32m    705\u001b[0m                     \u001b[0;34m\"Location based indexing can only have \"\u001b[0m\u001b[0;34m\u001b[0m\u001b[0;34m\u001b[0m\u001b[0m\n\u001b[1;32m    706\u001b[0m                     \u001b[0;34mf\"[{self._valid_types}] types\"\u001b[0m\u001b[0;34m\u001b[0m\u001b[0;34m\u001b[0m\u001b[0m\n\u001b[0;32m--> 707\u001b[0;31m                 ) from err\n\u001b[0m\u001b[1;32m    708\u001b[0m \u001b[0;34m\u001b[0m\u001b[0m\n\u001b[1;32m    709\u001b[0m     \u001b[0;32mdef\u001b[0m \u001b[0m_is_nested_tuple_indexer\u001b[0m\u001b[0;34m(\u001b[0m\u001b[0mself\u001b[0m\u001b[0;34m,\u001b[0m \u001b[0mtup\u001b[0m\u001b[0;34m:\u001b[0m \u001b[0mTuple\u001b[0m\u001b[0;34m)\u001b[0m \u001b[0;34m->\u001b[0m \u001b[0mbool\u001b[0m\u001b[0;34m:\u001b[0m\u001b[0;34m\u001b[0m\u001b[0;34m\u001b[0m\u001b[0m\n",
      "\u001b[0;31mValueError\u001b[0m: Location based indexing can only have [integer, integer slice (START point is INCLUDED, END point is EXCLUDED), listlike of integers, boolean array] types"
     ]
    }
   ],
   "source": [
    "data_amplitude_diaria3.compute().head()"
   ]
  },
  {
   "cell_type": "code",
   "execution_count": 167,
   "id": "cfb38220",
   "metadata": {},
   "outputs": [],
   "source": [
    "cond=np.where(data_amplitude_diaria['event_type'].isin(eventos_amplitude['ingreso_clave']),1,0)\n",
    "cond_dask=da.from_array(cond,chunks=chunks)\n",
    "data_amplitude_diaria=data_amplitude_diaria.assign(ingreso_clave=cond_dask)"
   ]
  },
  {
   "cell_type": "code",
   "execution_count": 169,
   "id": "041ad2d9",
   "metadata": {},
   "outputs": [],
   "source": [
    "cond=np.where(data_amplitude_diaria['event_type'].isin(eventos_amplitude['ingreso_app']),1,0)\n",
    "cond_dask=da.from_array(cond,chunks=chunks)\n",
    "data_amplitude_diaria=data_amplitude_diaria.assign(ingreso_app=cond_dask)"
   ]
  },
  {
   "cell_type": "code",
   "execution_count": 75,
   "id": "75cd872b",
   "metadata": {},
   "outputs": [],
   "source": [
    "data_amplitude_diaria_2=data_amplitude_diaria.assign(event_cast=data_amplitude_diaria.event_time.str[:13])"
   ]
  },
  {
   "cell_type": "code",
   "execution_count": 76,
   "id": "b2f63f91",
   "metadata": {},
   "outputs": [
    {
     "data": {
      "text/html": [
       "<div>\n",
       "<style scoped>\n",
       "    .dataframe tbody tr th:only-of-type {\n",
       "        vertical-align: middle;\n",
       "    }\n",
       "\n",
       "    .dataframe tbody tr th {\n",
       "        vertical-align: top;\n",
       "    }\n",
       "\n",
       "    .dataframe thead th {\n",
       "        text-align: right;\n",
       "    }\n",
       "</style>\n",
       "<table border=\"1\" class=\"dataframe\">\n",
       "  <thead>\n",
       "    <tr style=\"text-align: right;\">\n",
       "      <th></th>\n",
       "      <th>user_id</th>\n",
       "      <th>os_name</th>\n",
       "      <th>event_type</th>\n",
       "      <th>device_carrier</th>\n",
       "      <th>event_time</th>\n",
       "      <th>event_cast</th>\n",
       "    </tr>\n",
       "  </thead>\n",
       "  <tbody>\n",
       "    <tr>\n",
       "      <th>1</th>\n",
       "      <td>901aab34-c1e3-4028-af11-546cbbbd598d</td>\n",
       "      <td>android</td>\n",
       "      <td>recarga_confirmada</td>\n",
       "      <td>Claro AR</td>\n",
       "      <td>2020-06-01 20:59:55.893000</td>\n",
       "      <td>2020-06-01 20</td>\n",
       "    </tr>\n",
       "    <tr>\n",
       "      <th>13</th>\n",
       "      <td>94bb12bb-62d6-4e87-9284-0a339b15bf71</td>\n",
       "      <td>android</td>\n",
       "      <td>click_inversiones</td>\n",
       "      <td>Movistar</td>\n",
       "      <td>2020-06-01 20:59:56.341000</td>\n",
       "      <td>2020-06-01 20</td>\n",
       "    </tr>\n",
       "    <tr>\n",
       "      <th>80</th>\n",
       "      <td>3c4d64ee-2149-4326-bb3b-88b110c3d7d2</td>\n",
       "      <td>android</td>\n",
       "      <td>pagos_empezar</td>\n",
       "      <td>Claro AR</td>\n",
       "      <td>2020-06-01 20:59:59.550000</td>\n",
       "      <td>2020-06-01 20</td>\n",
       "    </tr>\n",
       "    <tr>\n",
       "      <th>91</th>\n",
       "      <td>2e27287c-2127-4e51-9905-36f3d2bad686</td>\n",
       "      <td>android</td>\n",
       "      <td>click_inversiones</td>\n",
       "      <td>Tuenti</td>\n",
       "      <td>2020-06-01 20:59:59.995000</td>\n",
       "      <td>2020-06-01 20</td>\n",
       "    </tr>\n",
       "    <tr>\n",
       "      <th>96</th>\n",
       "      <td>7192c5ec-02cb-42c2-81ce-d6dd56370cb8</td>\n",
       "      <td>android</td>\n",
       "      <td>recarga_confirmada</td>\n",
       "      <td>&lt;NA&gt;</td>\n",
       "      <td>2020-06-01 21:00:04.273000</td>\n",
       "      <td>2020-06-01 21</td>\n",
       "    </tr>\n",
       "  </tbody>\n",
       "</table>\n",
       "</div>"
      ],
      "text/plain": [
       "                                 user_id  os_name          event_type  \\\n",
       "1   901aab34-c1e3-4028-af11-546cbbbd598d  android  recarga_confirmada   \n",
       "13  94bb12bb-62d6-4e87-9284-0a339b15bf71  android   click_inversiones   \n",
       "80  3c4d64ee-2149-4326-bb3b-88b110c3d7d2  android       pagos_empezar   \n",
       "91  2e27287c-2127-4e51-9905-36f3d2bad686  android   click_inversiones   \n",
       "96  7192c5ec-02cb-42c2-81ce-d6dd56370cb8  android  recarga_confirmada   \n",
       "\n",
       "   device_carrier                  event_time     event_cast  \n",
       "1        Claro AR  2020-06-01 20:59:55.893000  2020-06-01 20  \n",
       "13       Movistar  2020-06-01 20:59:56.341000  2020-06-01 20  \n",
       "80       Claro AR  2020-06-01 20:59:59.550000  2020-06-01 20  \n",
       "91         Tuenti  2020-06-01 20:59:59.995000  2020-06-01 20  \n",
       "96           <NA>  2020-06-01 21:00:04.273000  2020-06-01 21  "
      ]
     },
     "execution_count": 76,
     "metadata": {},
     "output_type": "execute_result"
    }
   ],
   "source": [
    "data_amplitude_diaria_2.compute().head()"
   ]
  },
  {
   "cell_type": "code",
   "execution_count": null,
   "id": "01680269",
   "metadata": {},
   "outputs": [],
   "source": [
    "rint('PASO 11: Guardar en S3 archivo con datos de amplitude')\n",
    "dd.to_parquet(base_raw,path=f's3://{survival_bucket}/data/raw/amplitude/',\n",
    "              compression='snappy',\n",
    "              write_index=False,\n",
    "              overwrite=False,\n",
    "              append=False,\n",
    "              partition_on=['dt'],\n",
    "              storage_options={\"s3_additional_kwargs\":{\n",
    "                             'ServerSideEncryption': 'aws:kms',\n",
    "                             'SSEKMSKeyId': kms_key_arn}})\n"
   ]
  }
 ],
 "metadata": {
  "kernelspec": {
   "display_name": "conda_python3",
   "language": "python",
   "name": "conda_python3"
  },
  "language_info": {
   "codemirror_mode": {
    "name": "ipython",
    "version": 3
   },
   "file_extension": ".py",
   "mimetype": "text/x-python",
   "name": "python",
   "nbconvert_exporter": "python",
   "pygments_lexer": "ipython3",
   "version": "3.6.13"
  }
 },
 "nbformat": 4,
 "nbformat_minor": 5
}
