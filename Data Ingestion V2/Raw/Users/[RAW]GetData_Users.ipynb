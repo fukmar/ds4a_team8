{
 "cells": [
  {
   "cell_type": "markdown",
   "id": "0b061fbb",
   "metadata": {},
   "source": [
    "# Proceso GLUE Users"
   ]
  },
  {
   "cell_type": "markdown",
   "id": "15f39822",
   "metadata": {},
   "source": [
    "## 1. Cargamos las librerias"
   ]
  },
  {
   "cell_type": "code",
   "execution_count": 74,
   "id": "54c41385",
   "metadata": {},
   "outputs": [],
   "source": [
    "%%capture\n",
    "!pip install -q awswrangler"
   ]
  },
  {
   "cell_type": "code",
   "execution_count": 75,
   "id": "53f554b0",
   "metadata": {},
   "outputs": [],
   "source": [
    "import numpy as np\n",
    "import pandas as pd\n",
    "import boto3\n",
    "import ast\n",
    "from datetime import datetime, timedelta\n",
    "import awswrangler as wr\n",
    "from itertools import chain\n",
    "import gc\n",
    "import sys\n",
    "import time\n",
    "\n",
    "glue = boto3.client('glue')\n",
    "s3 = boto3.resource('s3')\n",
    "ssm = boto3.client('ssm') \n",
    "lakeformation = boto3.client('lakeformation')"
   ]
  },
  {
   "cell_type": "markdown",
   "id": "a6591da6",
   "metadata": {},
   "source": [
    "### 2. Armamos el proceso en \"GLUE GetData Transactions\""
   ]
  },
  {
   "cell_type": "code",
   "execution_count": 124,
   "id": "76c87e31",
   "metadata": {},
   "outputs": [
    {
     "name": "stdout",
     "output_type": "stream",
     "text": [
      "Overwriting get_data_users.py\n"
     ]
    }
   ],
   "source": [
    "%%writefile get_data_users.py\n",
    "\n",
    "\n",
    "import sys\n",
    "import pyspark.sql.functions as func\n",
    "from awsglue.dynamicframe import DynamicFrame\n",
    "from awsglue.transforms import *\n",
    "from awsglue.utils import getResolvedOptions\n",
    "from pyspark.sql.types import *\n",
    "from pyspark.context import SparkContext\n",
    "from awsglue.context import GlueContext\n",
    "from pyspark.sql import SparkSession\n",
    "from awsglue.job import Job\n",
    "import pyspark.sql.functions as F\n",
    "import json\n",
    "import boto3\n",
    "import ast\n",
    "from datetime import datetime, timedelta\n",
    "from dateutil.relativedelta import relativedelta\n",
    "import gc\n",
    "from pyspark.conf import SparkConf\n",
    "import pandas as pd\n",
    "import os\n",
    "from io import BytesIO\n",
    "import awswrangler as wr\n",
    "\n",
    "os.environ['PYSPARK_SUBMIT_ARGS'] = \"--packages=com.amazonaws:aws-java-sdk-bundle:1.11.271,org.apache.hadoop:hadoop-aws:3.1.2 pyspark-shell\"\n",
    "\n",
    "path_equivalencia_gp_uala='s3://test-datascience-adquirencia-fraude/data/auxiliar/account_id_gp.parquet'\n",
    "\n",
    "print('Lectura de parámetros')\n",
    "\n",
    "# ----------------------------------------------------------------------------------\n",
    "print('NOW:', datetime.now())\n",
    "\n",
    "args = getResolvedOptions(sys.argv,\n",
    "                          ['bucket_users_data', \n",
    "                           'today', \n",
    "                           'kms_key_arn', \n",
    "                           'recommendations_bucket'])\n",
    "\n",
    "bucket_users_data = args['bucket_users_data']\n",
    "recommendations_bucket = args['recommendations_bucket']\n",
    "kms_key_id = args['kms_key_arn']\n",
    "today = args['today']\n",
    "\n",
    "#--------------------------------------------------------------------------------------------------------------\n",
    "\n",
    "\n",
    "#https://stackoverflow.com/questions/52932459/accessing-s3-bucket-from-local-pyspark-using-assume-role\n",
    "\n",
    "\n",
    "print('Crear objetos S3-ssm')\n",
    "# ----------------------------------------------------------------------------------\n",
    "s3 = boto3.resource('s3')\n",
    "s3_client = boto3.client('s3')\n",
    "ssm = boto3.client('ssm')\n",
    "\n",
    "#--------------------------------------------------------------------------------------------------------------\n",
    "print('Parámetros:')\n",
    "path_key_users = 'ar/tb_ar_gp_t1010/'\n",
    "#path_key_params = 's3a://uala-arg-datalake-stage-prod/ar/configs/tb_ar_configs_params/be46f255d9c44e59a70edbbf0b815874.snappy.parquet'\n",
    "## FECHAS INTERVALO\n",
    "#print('1. CALCULO DE FECHAS')\n",
    "##Today llevado al primero del mes menos 1 día\n",
    "#today = datetime.strptime(today, '%Y-%m-%d').date().replace(day=1)\n",
    "#last_day=(today-pd.offsets.DateOffset(days=1)).date()\n",
    "##\n",
    "#first_day=(last_day-pd.offsets.DateOffset(days=365)).date()\n",
    "#\n",
    "#print('2. Intevalo de fechas analizada: ',first_day,'y',last_day)\n",
    "\n",
    "def first_and_last(today):\n",
    "    fecha=datetime.strptime(today, '%Y-%m-%d').date()\n",
    "    first_day=fecha.replace(day=1)\n",
    "    next_month = fecha.replace(day=28) + timedelta(days=4)\n",
    "    last_day_of_month = next_month - timedelta(days=next_month.day)\n",
    "    return first_day,last_day_of_month\n",
    "\n",
    "print('Declaración de funciones')\n",
    "def list_objects_function(buckets_, first_day, last_day, keys_, retrieve_last=False):\n",
    "    \n",
    "    sts = boto3.client('sts')\n",
    "    response = sts.assume_role(\n",
    "        RoleArn='arn:aws:iam::514405401387:role/aws-rol-ml-read-stage-prod', #es el rol que existe en produccion por el cual \"nos hacemos pasar\" para acceder a los buckets de s3\n",
    "        RoleSessionName='sesion-dsr-recomendaciones', # nombre que le damos a la sesión\n",
    "        DurationSeconds=3600 # es el tiempo que dura la sesion por default si no especificamos este parámetro.\n",
    "    )\n",
    "\n",
    "    s3 = boto3.client(\n",
    "        's3',\n",
    "        aws_access_key_id=response['Credentials']['AccessKeyId'],\n",
    "        aws_secret_access_key=response['Credentials']['SecretAccessKey'],\n",
    "        aws_session_token=response['Credentials']['SessionToken']\n",
    "    )\n",
    "\n",
    "\n",
    "    paginator = s3.get_paginator('list_objects_v2')\n",
    "    pages = paginator.paginate(Bucket=buckets_, Prefix=keys_)\n",
    "    files_in_bucket=[]\n",
    "    for page in pages:\n",
    "        files_page=[key['Key'] for key in page['Contents']]\n",
    "        files_in_bucket+=files_page\n",
    "        files_objets = [f\"s3a://{buckets_}/\" + i for i in files_in_bucket if\n",
    "                            (keys_ in i)  and (i.find('.parquet') >= 0)]\n",
    "        df_bucket_files = pd.DataFrame({\n",
    "                'key': [i[:(i.find('dt=') + 14)] for i in files_objets],\n",
    "                'path': files_objets,\n",
    "                'date': pd.to_datetime([i[(i.find('dt=') + 3):(i.find('dt=') + 13)] for i in files_objets])\n",
    "            })\n",
    "        files=list(df_bucket_files.loc[df_bucket_files['date'].between(str(first_day),str(last_day)),'path'].values)\n",
    "    return files\n",
    "\n",
    "def list_objects(buckets_, keys_):\n",
    "    \n",
    "    sts = boto3.client('sts')\n",
    "    response = sts.assume_role(\n",
    "        RoleArn='arn:aws:iam::514405401387:role/aws-rol-ml-read-stage-prod', #es el rol que existe en produccion por el cual \"nos hacemos pasar\" para acceder a los buckets de s3\n",
    "        RoleSessionName='sesion-dsr-recomendaciones', # nombre que le damos a la sesión\n",
    "        DurationSeconds=3600 # es el tiempo que dura la sesion por default si no especificamos este parámetro.\n",
    "    )\n",
    "\n",
    "    s3 = boto3.client(\n",
    "        's3',\n",
    "        aws_access_key_id=response['Credentials']['AccessKeyId'],\n",
    "        aws_secret_access_key=response['Credentials']['SecretAccessKey'],\n",
    "        aws_session_token=response['Credentials']['SessionToken']\n",
    "    )\n",
    "\n",
    "\n",
    "    paginator = s3.get_paginator('list_objects_v2')\n",
    "    pages = paginator.paginate(Bucket=buckets_, Prefix=keys_)\n",
    "    files_in_bucket=[]\n",
    "    for page in pages:\n",
    "        files_page=[key['Key'] for key in page['Contents']]\n",
    "        files_in_bucket+=files_page\n",
    "        files_objets = [f\"s3a://{buckets_}/\" + i for i in files_in_bucket if\n",
    "                            (keys_ in i)  and (i.find('.parquet') >= 0)]\n",
    "        df_bucket_files = pd.DataFrame({\n",
    "                'key': [i for i in files_objets],\n",
    "                'path': files_objets\n",
    "            })\n",
    "        files=list(df_bucket_files.loc[:,'path'].values)\n",
    "    return files\n",
    "\n",
    "#-----------------------------------------------------------------------------------------------------------------\n",
    "\n",
    "########## INICIO CONFIG SPARK ###############\n",
    "sts = boto3.client('sts')\n",
    "response = sts.assume_role(\n",
    "    RoleArn='arn:aws:iam::514405401387:role/aws-rol-ml-read-stage-prod', #es el rol que existe en produccion por el cual \"nos hacemos pasar\" para acceder a los buckets de s3\n",
    "    RoleSessionName='sesion-dsr-spark', # nombre que le damos a la sesión\n",
    "    DurationSeconds=3600 # es el tiempo que dura la sesion por default si no especificamos este parámetro.\n",
    ")\n",
    "print('Spark Configuración')\n",
    "spark_conf = SparkConf().setAll([\n",
    "  (\"spark.hadoop.fs.s3.enableServerSideEncryption\", \"true\"),\n",
    "  (\"spark.hadoop.fs.s3.serverSideEncryption.kms.keyId\", kms_key_id)\n",
    "])\n",
    "sc = SparkContext(conf=spark_conf) \n",
    "glueContext = GlueContext(sc)\n",
    "spark = glueContext.spark_session\n",
    "logger = glueContext.get_logger()\n",
    "spark._jsc.hadoopConfiguration().set(\"fs.s3a.aws.credentials.provider\", \"org.apache.hadoop.fs.s3a.TemporaryAWSCredentialsProvider\")\n",
    "spark._jsc.hadoopConfiguration().set(\"fs.s3a.access.key\", response[\"Credentials\"][\"AccessKeyId\"])\n",
    "spark._jsc.hadoopConfiguration().set(\"fs.s3a.secret.key\", response[\"Credentials\"][\"SecretAccessKey\"])\n",
    "spark._jsc.hadoopConfiguration().set(\"fs.s3a.session.token\",  response[\"Credentials\"][\"SessionToken\"])\n",
    "print(f\"Hadoop version = {sc._jvm.org.apache.hadoop.util.VersionInfo.getVersion()}\")\n",
    "########## FIN CONFIG SPARK ###############\n",
    "\n",
    "#-----------------------------------------------------------------------------------------------------------------\n",
    "\n",
    "first_day,last_day = first_and_last(today)\n",
    "print('Primer dia',first_day)\n",
    "print('Ultimo dia',last_day)\n",
    "\n",
    "\n",
    "print('Lectura users')\n",
    "files_objets_users= list_objects(bucket_users_data, path_key_users)\n",
    "print(files_objets_users)\n",
    "print(f'Hay {len(files_objets_users)} archivos de transactions en la carpeta')\n",
    "\n",
    "df_1010 = spark.read.parquet(*files_objets_users).dropDuplicates(['numero_cuenta']).select(['numero_cuenta', 'fecha_alta', 'provincia', 'sexo', 'fecha_nacimiento'])\n",
    "print((df_1010.count(), len(df_1010.columns)))\n",
    "print(df_1010.dtypes)\n",
    "print(df_1010.show())\n",
    "# dtypes\n",
    "df_1010 = (df_1010\n",
    "          .withColumn('numero_cuenta', df_1010.numero_cuenta.cast('string'))\n",
    "          .withColumn('fecha_alta', F.to_date(df_1010.fecha_alta,\"yyyy-MM-dd\"))\n",
    "          .withColumn('fecha_nacimiento', F.to_date(df_1010.fecha_nacimiento,\"yyyy-MM-dd\"))\n",
    "          .withColumn('provincia', df_1010.provincia.cast('int'))\n",
    "         )\n",
    "\n",
    "# Edad y antiguedad\n",
    "df_1010 = (df_1010\n",
    "          .withColumn('edad', F.floor(F.datediff(F.current_date(), F.col('fecha_nacimiento'))/365.25))\n",
    "          .withColumn('antiguedad', F.datediff(F.current_date(), F.col('fecha_alta')))\n",
    "         )\n",
    "          \n",
    "df_1010 = df_1010.drop('fecha_nacimiento','fecha_alta')\n",
    "          \n",
    "df_1010 = df_1010.withColumnRenamed('numero_cuenta','externalid')\n",
    "\n",
    "# Provincia int a str\n",
    "dict_param_province = {0:\"Undefined\",\n",
    "                    1:\"capital federal\",\n",
    "                    2:\"gran buenos aires\",\n",
    "                    3:\"buenos aires\",\n",
    "                    4:\"catamarca\",\n",
    "                    5:\"cordoba\",\n",
    "                    6:\"corrientes\",\n",
    "                    7:\"chaco\",\n",
    "                    8:\"chubut\",\n",
    "                    9:\"entre rios\",\n",
    "                    10:\"formosa\",\n",
    "                    11:\"jujuy\",\n",
    "                    12:\"la pampa\",\n",
    "                    13:\"la rioja\",\n",
    "                    14:\"mendoza\",\n",
    "                    15:\"misiones\",\n",
    "                    16:\"neuquen\",\n",
    "                    17:\"rio negro\",\n",
    "                    18:\"salta\",\n",
    "                    19:\"san juan\",\n",
    "                    20:\"san luis\",\n",
    "                    21:\"santa fe\",\n",
    "                    22:\"santa cruz\",\n",
    "                    23:\"santiago del estero\",\n",
    "                    24:\"tierra del fuego\",\n",
    "                    25:\"tucuman\"}\n",
    "\n",
    "df_1010 = df_1010.withColumn(\"provincia\", df_1010[\"provincia\"].cast(IntegerType()))\n",
    "df_1010 = df_1010.withColumn(\"provincia\", df_1010[\"provincia\"].cast(StringType()))\n",
    "dict_param_province = {str(k):v for k,v in zip(dict_param_province.keys(), dict_param_province.values())}\n",
    "df_1010 = df_1010.na.replace(dict_param_province, 1, \"provincia\")\n",
    "print(spark.sparkContext.getConf().getAll())\n",
    "\n",
    "# JOINEAMOS CON CARDS PARA TENER LA EQUIVALENCIA ENTRE ACCOUNT DE GP Y ACCOUNT DE UALA\n",
    "column_names=['account_uala','account_gp']\n",
    "df_gp_uala=spark.createDataFrame(wr.s3.read_parquet(path_equivalencia_gp_uala)).toDF(*column_names)\n",
    "\n",
    "df_1010=df_1010.join(df_gp_uala,df_1010['externalid']==df_gp_uala['account_gp'],\"inner\").drop('externalid','account_gp')\n",
    "\n",
    "\n",
    "print(df_1010.show())\n",
    "#### NUEVA INSTANCIA boto3 para usar buckets en stage #####\n",
    "s3 = boto3.resource('s3')\n",
    "s3_client = boto3.client('s3')\n",
    "ssm = boto3.client('ssm')\n",
    "\n",
    "df_pandas=df_1010.toPandas()\n",
    "\n",
    "wr.s3.to_parquet(df_pandas,\n",
    "                path='s3://{}/data/raw/users/'.format(recommendations_bucket),\n",
    "                dataset=True,\n",
    "                index=False)\n",
    "\n",
    "print('Ubicación files', f's3://{recommendations_bucket}/data/raw/users/')\n",
    "\n",
    "gc.collect()\n",
    "print('USERS')\n",
    "#print(df_1010.show())\n",
    "print((df_1010.count(), len(df_1010.columns)))\n",
    "print(df_1010.dtypes)\n",
    "print(df_1010.show())"
   ]
  },
  {
   "cell_type": "code",
   "execution_count": 125,
   "id": "51d3e2d6",
   "metadata": {},
   "outputs": [],
   "source": [
    "job_name='test-job_recommendations_users'"
   ]
  },
  {
   "cell_type": "code",
   "execution_count": 126,
   "id": "cfee4991",
   "metadata": {},
   "outputs": [
    {
     "data": {
      "text/plain": [
       "{'JobName': 'test-job_recommendations_users',\n",
       " 'ResponseMetadata': {'RequestId': '57871082-1394-47ac-87e8-168cc27e2851',\n",
       "  'HTTPStatusCode': 200,\n",
       "  'HTTPHeaders': {'date': 'Thu, 22 Jul 2021 19:56:52 GMT',\n",
       "   'content-type': 'application/x-amz-json-1.1',\n",
       "   'content-length': '44',\n",
       "   'connection': 'keep-alive',\n",
       "   'x-amzn-requestid': '57871082-1394-47ac-87e8-168cc27e2851'},\n",
       "  'RetryAttempts': 0}}"
      ]
     },
     "execution_count": 126,
     "metadata": {},
     "output_type": "execute_result"
    }
   ],
   "source": [
    " #borrar job\n",
    "glue.delete_job(\n",
    "    JobName=job_name\n",
    ")"
   ]
  },
  {
   "cell_type": "markdown",
   "id": "668b97d0",
   "metadata": {},
   "source": [
    "## 3. Generamos los parametros"
   ]
  },
  {
   "cell_type": "code",
   "execution_count": 127,
   "id": "66fe511d",
   "metadata": {},
   "outputs": [],
   "source": [
    "today = '2021-01-10'\n",
    "bucket_users_data='uala-arg-datalake-analytics-prod'  ## AFIP, GP, etc\n",
    "#s3://test-datascience-recommendations/data/\n",
    "recommendations_bucket='test-datascience-recommendations'  # Para outputs\n",
    "kms_key_arn='arn:aws:kms:us-east-1:322149183112:key/9cc44b23-c5e9-46cb-9987-0982d21f8d00' ## key para desencriptar"
   ]
  },
  {
   "cell_type": "code",
   "execution_count": 128,
   "id": "d126bea8",
   "metadata": {},
   "outputs": [
    {
     "name": "stdout",
     "output_type": "stream",
     "text": [
      ".py uploaded\n"
     ]
    }
   ],
   "source": [
    "s3 = boto3.resource('s3')\n",
    "\n",
    "# Guardar el archivo .py\n",
    "s3.meta.client.upload_file('get_data_users.py', \n",
    "                           recommendations_bucket, #bucket\n",
    "                           'artifacts/code/users/get_data_users.py' #key+filename\n",
    ")\n",
    "print('.py uploaded')"
   ]
  },
  {
   "cell_type": "markdown",
   "id": "c5ba5e7e",
   "metadata": {},
   "source": [
    "## 4. Creamos el job de GLUE"
   ]
  },
  {
   "cell_type": "code",
   "execution_count": 129,
   "id": "0b71294f",
   "metadata": {},
   "outputs": [],
   "source": [
    "job = glue.create_job(Name=job_name, \n",
    "                      GlueVersion='2.0',\n",
    "                      Role='iam_r_uala_arg_datalake_stage_glue',\n",
    "                      Command={'Name': 'glueetl',\n",
    "                               'ScriptLocation': f's3://{recommendations_bucket}/artifacts/code/users/get_data_users.py'},\n",
    "                      DefaultArguments={\n",
    "                        '--additional-python-modules': 'pip,setuptools,pyarrow==2,awswrangler==2.8.0,numpy==1.19.1,fsspec==0.8.2'},\n",
    "                      MaxCapacity=1\n",
    "                      )"
   ]
  },
  {
   "cell_type": "code",
   "execution_count": 130,
   "id": "349c8ab6",
   "metadata": {},
   "outputs": [],
   "source": [
    "job_run = glue.start_job_run(\n",
    "    JobName = job_name,\n",
    "    Arguments = {\n",
    "        '--today':today,\n",
    "        '--bucket_users_data': bucket_users_data,\n",
    "        '--recommendations_bucket': recommendations_bucket,\n",
    "        '--kms_key_arn': kms_key_arn\n",
    "    } \n",
    ")"
   ]
  },
  {
   "cell_type": "code",
   "execution_count": 131,
   "id": "16764171",
   "metadata": {},
   "outputs": [
    {
     "name": "stdout",
     "output_type": "stream",
     "text": [
      "{'JobRunId': 'jr_7091adabc4b4b7a0e5f21528fa448d02d8616425e220da5aa6d9bcb5c376fe42', 'ResponseMetadata': {'RequestId': 'a17c79d6-b9d0-46a9-aadb-415fd24d4a43', 'HTTPStatusCode': 200, 'HTTPHeaders': {'date': 'Thu, 22 Jul 2021 19:56:55 GMT', 'content-type': 'application/x-amz-json-1.1', 'content-length': '82', 'connection': 'keep-alive', 'x-amzn-requestid': 'a17c79d6-b9d0-46a9-aadb-415fd24d4a43'}, 'RetryAttempts': 0}}\n"
     ]
    }
   ],
   "source": [
    "print(job_run)"
   ]
  },
  {
   "cell_type": "code",
   "execution_count": 132,
   "id": "39aa9f2a",
   "metadata": {},
   "outputs": [
    {
     "name": "stdout",
     "output_type": "stream",
     "text": [
      "Job run: RUNNING\n",
      "Job run: RUNNING\n",
      "Job run: RUNNING\n",
      "Job run: RUNNING\n",
      "Job run: RUNNING\n",
      "Job run: RUNNING\n",
      "Job run: RUNNING\n",
      "Job run: RUNNING\n",
      "Job run: RUNNING\n",
      "Job run: SUCCEEDED\n"
     ]
    }
   ],
   "source": [
    "MAX_WAIT_TIME=time.time() + 60*10 # 1 hour\n",
    "max_time = time.time() + MAX_WAIT_TIME\n",
    "while time.time() < max_time:\n",
    "    response=glue.get_job_run(JobName=job_name, RunId=job_run['JobRunId'])\n",
    "    status = response['JobRun']['JobRunState']\n",
    "    print('Job run: {}'.format(status))\n",
    "    \n",
    "    if status == 'SUCCEEDED' or status == 'FAILED':\n",
    "        break\n",
    "        \n",
    "    time.sleep(45)"
   ]
  },
  {
   "cell_type": "markdown",
   "id": "839dcbe7",
   "metadata": {},
   "source": [
    "## 5. Controlamos la carga de datos en el bucket\n"
   ]
  },
  {
   "cell_type": "code",
   "execution_count": 123,
   "id": "7c9ab54a",
   "metadata": {},
   "outputs": [],
   "source": [
    "df=wr.s3.read_parquet(f's3://test-datascience-adquirencia-fraude/data/auxiliar/df_cotizacion.parquet')"
   ]
  },
  {
   "cell_type": "code",
   "execution_count": 129,
   "id": "7004bb0d",
   "metadata": {},
   "outputs": [
    {
     "data": {
      "text/plain": [
       "['NU_venta_uala']"
      ]
     },
     "execution_count": 129,
     "metadata": {},
     "output_type": "execute_result"
    }
   ],
   "source": [
    "oldColumns = df.columns\n",
    "oldColumns=[\"NU_\" + x for x in oldColumns if not str(x) in [\"nan\",\"asd\",\"fecha\"]]\n",
    "oldColumns"
   ]
  },
  {
   "cell_type": "code",
   "execution_count": 7,
   "id": "12151148",
   "metadata": {},
   "outputs": [
    {
     "name": "stdout",
     "output_type": "stream",
     "text": [
      "primer fecha coti 2002-06-14 00:00:00 ultima fecha coti 2021-07-13 00:00:00\n"
     ]
    }
   ],
   "source": [
    "print(f'primer fecha coti {df.fecha.min()} ultima fecha coti {df.fecha.max()}')"
   ]
  },
  {
   "cell_type": "code",
   "execution_count": 8,
   "id": "b00dc894",
   "metadata": {},
   "outputs": [
    {
     "data": {
      "text/html": [
       "<div>\n",
       "<style scoped>\n",
       "    .dataframe tbody tr th:only-of-type {\n",
       "        vertical-align: middle;\n",
       "    }\n",
       "\n",
       "    .dataframe tbody tr th {\n",
       "        vertical-align: top;\n",
       "    }\n",
       "\n",
       "    .dataframe thead th {\n",
       "        text-align: right;\n",
       "    }\n",
       "</style>\n",
       "<table border=\"1\" class=\"dataframe\">\n",
       "  <thead>\n",
       "    <tr style=\"text-align: right;\">\n",
       "      <th></th>\n",
       "      <th>fecha</th>\n",
       "      <th>venta_uala</th>\n",
       "    </tr>\n",
       "  </thead>\n",
       "  <tbody>\n",
       "    <tr>\n",
       "      <th>0</th>\n",
       "      <td>2002-06-14</td>\n",
       "      <td>3.8690</td>\n",
       "    </tr>\n",
       "    <tr>\n",
       "      <th>1</th>\n",
       "      <td>2002-06-15</td>\n",
       "      <td>3.8690</td>\n",
       "    </tr>\n",
       "    <tr>\n",
       "      <th>2</th>\n",
       "      <td>2002-06-16</td>\n",
       "      <td>3.8690</td>\n",
       "    </tr>\n",
       "    <tr>\n",
       "      <th>3</th>\n",
       "      <td>2002-06-17</td>\n",
       "      <td>3.8690</td>\n",
       "    </tr>\n",
       "    <tr>\n",
       "      <th>4</th>\n",
       "      <td>2002-06-18</td>\n",
       "      <td>3.9008</td>\n",
       "    </tr>\n",
       "  </tbody>\n",
       "</table>\n",
       "</div>"
      ],
      "text/plain": [
       "       fecha  venta_uala\n",
       "0 2002-06-14      3.8690\n",
       "1 2002-06-15      3.8690\n",
       "2 2002-06-16      3.8690\n",
       "3 2002-06-17      3.8690\n",
       "4 2002-06-18      3.9008"
      ]
     },
     "execution_count": 8,
     "metadata": {},
     "output_type": "execute_result"
    }
   ],
   "source": [
    "df.head()"
   ]
  },
  {
   "cell_type": "code",
   "execution_count": null,
   "id": "d985d8a6",
   "metadata": {},
   "outputs": [],
   "source": []
  },
  {
   "cell_type": "code",
   "execution_count": 9,
   "id": "56490373",
   "metadata": {},
   "outputs": [
    {
     "data": {
      "text/plain": [
       "fecha         datetime64[ns]\n",
       "venta_uala           float64\n",
       "dtype: object"
      ]
     },
     "execution_count": 9,
     "metadata": {},
     "output_type": "execute_result"
    }
   ],
   "source": [
    "df.dtypes"
   ]
  },
  {
   "cell_type": "markdown",
   "id": "31f525aa",
   "metadata": {},
   "source": [
    "## 6. Carga histórica\n"
   ]
  },
  {
   "cell_type": "code",
   "execution_count": 66,
   "id": "c30e0ae0",
   "metadata": {},
   "outputs": [],
   "source": [
    "bucket_users_data='uala-arg-datalake-analytics-prod'  ## AFIP, GP, etc\n",
    "recommendations_bucket='test-datascience-recommendations'  # Para outputs\n",
    "kms_key_arn='arn:aws:kms:us-east-1:322149183112:key/9cc44b23-c5e9-46cb-9987-0982d21f8d00' ## key para desencriptar\n",
    "list_fechas=['2020-06-01','2020-07-01','2020-08-01','2020-09-01','2020-10-01','2020-11-01','2020-12-01',\n",
    "            '2021-01-01','2021-02-01','2021-03-01','2021-04-01','2021-05-01']\n",
    "job_name='test-job_recommendations_transactions'\n"
   ]
  },
  {
   "cell_type": "code",
   "execution_count": 67,
   "id": "507ba674",
   "metadata": {},
   "outputs": [
    {
     "name": "stdout",
     "output_type": "stream",
     "text": [
      "Procesando: 2020-06\n",
      "Job run: RUNNING\n",
      "Job run: RUNNING\n",
      "Job run: RUNNING\n",
      "Job run: SUCCEEDED\n",
      "Procesando: 2020-07\n",
      "Job run: RUNNING\n",
      "Job run: RUNNING\n",
      "Job run: RUNNING\n",
      "Job run: SUCCEEDED\n",
      "Procesando: 2020-08\n",
      "Job run: RUNNING\n",
      "Job run: RUNNING\n",
      "Job run: RUNNING\n",
      "Job run: SUCCEEDED\n",
      "Procesando: 2020-09\n",
      "Job run: RUNNING\n",
      "Job run: RUNNING\n",
      "Job run: RUNNING\n",
      "Job run: SUCCEEDED\n",
      "Procesando: 2020-10\n",
      "Job run: RUNNING\n",
      "Job run: RUNNING\n",
      "Job run: RUNNING\n",
      "Job run: RUNNING\n",
      "Job run: RUNNING\n",
      "Job run: SUCCEEDED\n",
      "Procesando: 2020-11\n",
      "Job run: RUNNING\n",
      "Job run: RUNNING\n",
      "Job run: RUNNING\n",
      "Job run: RUNNING\n",
      "Job run: RUNNING\n",
      "Job run: SUCCEEDED\n",
      "Procesando: 2020-12\n",
      "Job run: RUNNING\n",
      "Job run: RUNNING\n",
      "Job run: RUNNING\n",
      "Job run: RUNNING\n",
      "Job run: RUNNING\n",
      "Job run: RUNNING\n",
      "Job run: SUCCEEDED\n",
      "Procesando: 2021-01\n",
      "Job run: RUNNING\n",
      "Job run: RUNNING\n",
      "Job run: RUNNING\n",
      "Job run: RUNNING\n",
      "Job run: RUNNING\n",
      "Job run: SUCCEEDED\n",
      "Procesando: 2021-02\n",
      "Job run: RUNNING\n",
      "Job run: RUNNING\n",
      "Job run: RUNNING\n",
      "Job run: RUNNING\n",
      "Job run: RUNNING\n",
      "Job run: RUNNING\n",
      "Job run: SUCCEEDED\n",
      "Procesando: 2021-03\n",
      "Job run: RUNNING\n",
      "Job run: RUNNING\n",
      "Job run: RUNNING\n",
      "Job run: RUNNING\n",
      "Job run: RUNNING\n",
      "Job run: RUNNING\n",
      "Job run: SUCCEEDED\n",
      "Procesando: 2021-04\n",
      "Job run: RUNNING\n",
      "Job run: RUNNING\n",
      "Job run: RUNNING\n",
      "Job run: RUNNING\n",
      "Job run: RUNNING\n",
      "Job run: RUNNING\n",
      "Job run: SUCCEEDED\n",
      "Procesando: 2021-05\n",
      "Job run: RUNNING\n",
      "Job run: RUNNING\n",
      "Job run: RUNNING\n",
      "Job run: RUNNING\n",
      "Job run: RUNNING\n",
      "Job run: RUNNING\n",
      "Job run: RUNNING\n",
      "Job run: RUNNING\n",
      "Job run: SUCCEEDED\n"
     ]
    }
   ],
   "source": [
    "for value in list_fechas:\n",
    "    print(\"Procesando:\",value[:7])\n",
    "    job_run = glue.start_job_run(\n",
    "        JobName = job_name,\n",
    "        Arguments = {\n",
    "            '--today':value,\n",
    "            '--bucket_users_data': bucket_users_data,\n",
    "            '--recommendations_bucket': recommendations_bucket,\n",
    "            '--kms_key_arn': kms_key_arn\n",
    "        } \n",
    "    )\n",
    "    MAX_WAIT_TIME= 3600 # 1 hour\n",
    "    max_time = time.time() + MAX_WAIT_TIME\n",
    "    while time.time() < max_time:\n",
    "        response=glue.get_job_run(JobName=job_name, RunId=job_run['JobRunId'])\n",
    "        status = response['JobRun']['JobRunState']\n",
    "        print('Job run: {}'.format(status))\n",
    "\n",
    "        if status == 'SUCCEEDED':\n",
    "            time.sleep(60)\n",
    "            break\n",
    "        elif status == 'FAILED':\n",
    "            print (\"Error para fecha:\",value[:7],\" \\n\" )\n",
    "            sys.exit(1)\n",
    "        time.sleep(120)"
   ]
  },
  {
   "cell_type": "code",
   "execution_count": 26,
   "id": "928af14e",
   "metadata": {},
   "outputs": [
    {
     "data": {
      "text/plain": [
       "938132019"
      ]
     },
     "execution_count": 26,
     "metadata": {},
     "output_type": "execute_result"
    }
   ],
   "source": [
    "#pre\n",
    "112085647+91896875+107893286+74785390+79832664+80947544+60897141+72981539+86242174+84235181+86334578"
   ]
  },
  {
   "cell_type": "code",
   "execution_count": 27,
   "id": "3aa03a3d",
   "metadata": {},
   "outputs": [
    {
     "data": {
      "text/plain": [
       "9372437"
      ]
     },
     "execution_count": 27,
     "metadata": {},
     "output_type": "execute_result"
    }
   ],
   "source": [
    "#post\n",
    "1028539+942427+935155+1134141+862378+860491+429003+640624+828413+828413+882853"
   ]
  },
  {
   "cell_type": "code",
   "execution_count": null,
   "id": "68142f21",
   "metadata": {},
   "outputs": [],
   "source": [
    "pre limpieza 60897141  colummas 31\n",
    "post limpieza 429003 colummas 7\n",
    "pre limpieza 72981539 columnas 31\n",
    "post limpieza 640624 columnas 9\n",
    "pre limpieza 86242174 columnas 31\n",
    "post limpieza 828413 columnas 10\n",
    "pre limpieza 84235181 columnas 31\n",
    "post limpieza 828413 columnas 10\n",
    "pre limpieza 86334578 columnas 31\n",
    "post limpieza 882853 columnas 10"
   ]
  },
  {
   "cell_type": "code",
   "execution_count": 55,
   "id": "04b9a049",
   "metadata": {},
   "outputs": [
    {
     "ename": "NoSuchKey",
     "evalue": "An error occurred (NoSuchKey) when calling the GetObject operation: The specified key does not exist.",
     "output_type": "error",
     "traceback": [
      "\u001b[0;31m---------------------------------------------------------------------------\u001b[0m",
      "\u001b[0;31mNoSuchKey\u001b[0m                                 Traceback (most recent call last)",
      "\u001b[0;32m<ipython-input-55-b2e761bcae59>\u001b[0m in \u001b[0;36m<module>\u001b[0;34m\u001b[0m\n\u001b[1;32m     15\u001b[0m \u001b[0;34m\u001b[0m\u001b[0m\n\u001b[1;32m     16\u001b[0m \u001b[0;31m# Get the path to the file\u001b[0m\u001b[0;34m\u001b[0m\u001b[0;34m\u001b[0m\u001b[0;34m\u001b[0m\u001b[0m\n\u001b[0;32m---> 17\u001b[0;31m \u001b[0ms3_response_object\u001b[0m \u001b[0;34m=\u001b[0m \u001b[0ms3\u001b[0m\u001b[0;34m.\u001b[0m\u001b[0mget_object\u001b[0m\u001b[0;34m(\u001b[0m\u001b[0mBucket\u001b[0m\u001b[0;34m=\u001b[0m\u001b[0;34m'uala-arg-datalake-stage-prod'\u001b[0m\u001b[0;34m,\u001b[0m \u001b[0mKey\u001b[0m\u001b[0;34m=\u001b[0m\u001b[0;34m'ar/afip/tb_ar_afip_actividades/dt=2021-03-16/'\u001b[0m\u001b[0;34m)\u001b[0m\u001b[0;34m\u001b[0m\u001b[0;34m\u001b[0m\u001b[0m\n\u001b[0m\u001b[1;32m     18\u001b[0m \u001b[0;34m\u001b[0m\u001b[0m\n\u001b[1;32m     19\u001b[0m \u001b[0;31m# Read your file, i.e. convert it from a stream to bytes using .read()\u001b[0m\u001b[0;34m\u001b[0m\u001b[0;34m\u001b[0m\u001b[0;34m\u001b[0m\u001b[0m\n",
      "\u001b[0;32m~/anaconda3/envs/python3/lib/python3.6/site-packages/botocore/client.py\u001b[0m in \u001b[0;36m_api_call\u001b[0;34m(self, *args, **kwargs)\u001b[0m\n\u001b[1;32m    384\u001b[0m                     \"%s() only accepts keyword arguments.\" % py_operation_name)\n\u001b[1;32m    385\u001b[0m             \u001b[0;31m# The \"self\" in this scope is referring to the BaseClient.\u001b[0m\u001b[0;34m\u001b[0m\u001b[0;34m\u001b[0m\u001b[0;34m\u001b[0m\u001b[0m\n\u001b[0;32m--> 386\u001b[0;31m             \u001b[0;32mreturn\u001b[0m \u001b[0mself\u001b[0m\u001b[0;34m.\u001b[0m\u001b[0m_make_api_call\u001b[0m\u001b[0;34m(\u001b[0m\u001b[0moperation_name\u001b[0m\u001b[0;34m,\u001b[0m \u001b[0mkwargs\u001b[0m\u001b[0;34m)\u001b[0m\u001b[0;34m\u001b[0m\u001b[0;34m\u001b[0m\u001b[0m\n\u001b[0m\u001b[1;32m    387\u001b[0m \u001b[0;34m\u001b[0m\u001b[0m\n\u001b[1;32m    388\u001b[0m         \u001b[0m_api_call\u001b[0m\u001b[0;34m.\u001b[0m\u001b[0m__name__\u001b[0m \u001b[0;34m=\u001b[0m \u001b[0mstr\u001b[0m\u001b[0;34m(\u001b[0m\u001b[0mpy_operation_name\u001b[0m\u001b[0;34m)\u001b[0m\u001b[0;34m\u001b[0m\u001b[0;34m\u001b[0m\u001b[0m\n",
      "\u001b[0;32m~/anaconda3/envs/python3/lib/python3.6/site-packages/botocore/client.py\u001b[0m in \u001b[0;36m_make_api_call\u001b[0;34m(self, operation_name, api_params)\u001b[0m\n\u001b[1;32m    703\u001b[0m             \u001b[0merror_code\u001b[0m \u001b[0;34m=\u001b[0m \u001b[0mparsed_response\u001b[0m\u001b[0;34m.\u001b[0m\u001b[0mget\u001b[0m\u001b[0;34m(\u001b[0m\u001b[0;34m\"Error\"\u001b[0m\u001b[0;34m,\u001b[0m \u001b[0;34m{\u001b[0m\u001b[0;34m}\u001b[0m\u001b[0;34m)\u001b[0m\u001b[0;34m.\u001b[0m\u001b[0mget\u001b[0m\u001b[0;34m(\u001b[0m\u001b[0;34m\"Code\"\u001b[0m\u001b[0;34m)\u001b[0m\u001b[0;34m\u001b[0m\u001b[0;34m\u001b[0m\u001b[0m\n\u001b[1;32m    704\u001b[0m             \u001b[0merror_class\u001b[0m \u001b[0;34m=\u001b[0m \u001b[0mself\u001b[0m\u001b[0;34m.\u001b[0m\u001b[0mexceptions\u001b[0m\u001b[0;34m.\u001b[0m\u001b[0mfrom_code\u001b[0m\u001b[0;34m(\u001b[0m\u001b[0merror_code\u001b[0m\u001b[0;34m)\u001b[0m\u001b[0;34m\u001b[0m\u001b[0;34m\u001b[0m\u001b[0m\n\u001b[0;32m--> 705\u001b[0;31m             \u001b[0;32mraise\u001b[0m \u001b[0merror_class\u001b[0m\u001b[0;34m(\u001b[0m\u001b[0mparsed_response\u001b[0m\u001b[0;34m,\u001b[0m \u001b[0moperation_name\u001b[0m\u001b[0;34m)\u001b[0m\u001b[0;34m\u001b[0m\u001b[0;34m\u001b[0m\u001b[0m\n\u001b[0m\u001b[1;32m    706\u001b[0m         \u001b[0;32melse\u001b[0m\u001b[0;34m:\u001b[0m\u001b[0;34m\u001b[0m\u001b[0;34m\u001b[0m\u001b[0m\n\u001b[1;32m    707\u001b[0m             \u001b[0;32mreturn\u001b[0m \u001b[0mparsed_response\u001b[0m\u001b[0;34m\u001b[0m\u001b[0;34m\u001b[0m\u001b[0m\n",
      "\u001b[0;31mNoSuchKey\u001b[0m: An error occurred (NoSuchKey) when calling the GetObject operation: The specified key does not exist."
     ]
    }
   ],
   "source": [
    "sts = boto3.client('sts')\n",
    "response = sts.assume_role(\n",
    "    RoleArn='arn:aws:iam::514405401387:role/aws-rol-ml-read-stage-prod', #es el rol que existe en produccion por el cual \"nos hacemos pasar\" para acceder a los buckets de s3\n",
    "    RoleSessionName='sesion-dsr-recomendaciones', # nombre que le damos a la sesión\n",
    "    DurationSeconds=3600 # es el tiempo que dura la sesion por default si no especificamos este parámetro.\n",
    ")\n",
    "\n",
    "s3 = boto3.client(\n",
    "    's3',\n",
    "    aws_access_key_id=response['Credentials']['AccessKeyId'],\n",
    "    aws_secret_access_key=response['Credentials']['SecretAccessKey'],\n",
    "    aws_session_token=response['Credentials']['SessionToken']\n",
    ")\n",
    "\n",
    "\n",
    "# Get the path to the file\n",
    "s3_response_object = s3.get_object(Bucket='uala-arg-datalake-stage-prod', Key='ar/afip/tb_ar_afip_actividades/dt=2021-03-16/')\n",
    "\n",
    "# Read your file, i.e. convert it from a stream to bytes using .read()\n",
    "df = s3_response_object['Body'].read()\n",
    "\n",
    "# Read your file using BytesIO\n",
    "df = pd.read_parquet(BytesIO(df))\n"
   ]
  },
  {
   "cell_type": "code",
   "execution_count": null,
   "id": "b67ac391",
   "metadata": {},
   "outputs": [],
   "source": [
    "import io\n",
    "import pandas as pd\n",
    "\n",
    "\n",
    "sts = boto3.client('sts')\n",
    "response = sts.assume_role(\n",
    "    RoleArn='arn:aws:iam::514405401387:role/aws-rol-ml-read-stage-prod', #es el rol que existe en produccion por el cual \"nos hacemos pasar\" para acceder a los buckets de s3\n",
    "    RoleSessionName='sesion-dsr-recomendaciones', # nombre que le damos a la sesión\n",
    "    DurationSeconds=3600 # es el tiempo que dura la sesion por default si no especificamos este parámetro.\n",
    ")\n",
    "\n",
    "buffer = io.BytesIO()\n",
    "s3 = boto3.resource( 's3',\n",
    "    aws_access_key_id=response['Credentials']['AccessKeyId'],\n",
    "    aws_secret_access_key=response['Credentials']['SecretAccessKey'],\n",
    "    aws_session_token=response['Credentials']['SessionToken']\n",
    ")\n",
    "\n",
    "objeto = s3.Object('ACA EL BUCKET', 'aca/va/el/path.parquet')\n",
    "objeto.download_fileobj(buffer)\n",
    "df = pd.read_parquet(buffer)"
   ]
  },
  {
   "cell_type": "code",
   "execution_count": 80,
   "id": "806650f0",
   "metadata": {},
   "outputs": [],
   "source": [
    "s3=boto3.resource('s3')\n",
    "df=pd.read_csv('s3://test-datascience-recommendations/data/param/param_mcc_category.csv')\n",
    "df.mcc=df.mcc.astype(str)"
   ]
  },
  {
   "cell_type": "code",
   "execution_count": 81,
   "id": "4eb5b51e",
   "metadata": {},
   "outputs": [
    {
     "data": {
      "text/plain": [
       "mcc         object\n",
       "category    object\n",
       "dtype: object"
      ]
     },
     "execution_count": 81,
     "metadata": {},
     "output_type": "execute_result"
    }
   ],
   "source": [
    "df.dtypes"
   ]
  },
  {
   "cell_type": "code",
   "execution_count": 83,
   "id": "beea9dcd",
   "metadata": {},
   "outputs": [
    {
     "data": {
      "text/plain": [
       "5231    1\n",
       "7338    1\n",
       "7012    1\n",
       "7342    1\n",
       "5697    1\n",
       "       ..\n",
       "5945    1\n",
       "5976    1\n",
       "5172    1\n",
       "3035    1\n",
       "5947    1\n",
       "Name: mcc, Length: 344, dtype: int64"
      ]
     },
     "execution_count": 83,
     "metadata": {},
     "output_type": "execute_result"
    }
   ],
   "source": [
    "df.mcc.value_counts().sort_values()"
   ]
  },
  {
   "cell_type": "code",
   "execution_count": null,
   "id": "0a035ad4",
   "metadata": {},
   "outputs": [],
   "source": [
    "today = '2021-01-10'\n",
    "def first_and_last(today):\n",
    "    fecha=datetime.strptime(today, '%Y-%m-%d').date()\n",
    "    first_day=fecha.replace(day=1)\n",
    "    next_month = fecha.replace(day=28) + timedelta(days=4)\n",
    "    last_day_of_month = next_month - timedelta(days=next_month.day)\n",
    "    return first_day,last_day_of_month\n",
    "first_day,last_day = first_and_last(today)\n",
    "\n",
    "keys_='ar/transactions/tb_ar_transactions_events_stage/'\n",
    "\n",
    "sts = boto3.client('sts')\n",
    "response = sts.assume_role(\n",
    "    RoleArn='arn:aws:iam::514405401387:role/aws-rol-ml-read-stage-prod', #es el rol que existe en produccion por el cual \"nos hacemos pasar\" para acceder a los buckets de s3\n",
    "    RoleSessionName='sesion-dsr-recomendaciones', # nombre que le damos a la sesión\n",
    "    DurationSeconds=3600 # es el tiempo que dura la sesion por default si no especificamos este parámetro.\n",
    ")\n",
    "\n",
    "s3 = boto3.client(\n",
    "    's3',\n",
    "    aws_access_key_id=response['Credentials']['AccessKeyId'],\n",
    "    aws_secret_access_key=response['Credentials']['SecretAccessKey'],\n",
    "    aws_session_token=response['Credentials']['SessionToken']\n",
    ")\n",
    "\n",
    "\n",
    "paginator = s3.get_paginator('list_objects_v2')\n",
    "pages = paginator.paginate(Bucket=bucket_users_data, Prefix='ar/transactions/tb_ar_transactions_events_stage/')\n",
    "files_in_bucket=[]\n",
    "for page in pages:\n",
    "    files_page=[key['Key'] for key in page['Contents']]\n",
    "    files_in_bucket+=files_page\n",
    "files_objets = [f\"s3://{bucket_users_data}/\" + i for i in files_in_bucket if\n",
    "                    (keys_ in i)  and (i.find('.parquet') >= 0)]\n",
    "df_bucket_files = pd.DataFrame({\n",
    "        'key': [i[:(i.find('dt=') + 14)] for i in files_objets],\n",
    "        'path': files_objets,\n",
    "        'date': pd.to_datetime([i[(i.find('dt=') + 3):(i.find('dt=') + 13)] for i in files_objets])\n",
    "    })\n",
    "#files=list(df_bucket_files.loc[df_bucket_files['date'].between(str(first_day),str(last_day)),'path'].values)\n",
    "files=list(df_bucket_files.loc[:,'path'].values)\n",
    "files"
   ]
  },
  {
   "cell_type": "code",
   "execution_count": null,
   "id": "3efad268",
   "metadata": {},
   "outputs": [],
   "source": []
  },
  {
   "cell_type": "code",
   "execution_count": 18,
   "id": "843e5d67",
   "metadata": {},
   "outputs": [],
   "source": [
    "sts = boto3.client('sts')\n",
    "response = sts.assume_role(\n",
    "    RoleArn='arn:aws:iam::514405401387:role/aws-rol-ml-read-stage-prod', #es el rol que existe en produccion por el cual \"nos hacemos pasar\" para acceder a los buckets de s3\n",
    "    RoleSessionName='sesion-dsr-recomendaciones', # nombre que le damos a la sesión\n",
    "    DurationSeconds=3600 # es el tiempo que dura la sesion por default si no especificamos este parámetro.\n",
    ")\n",
    "\n",
    "s3 = boto3.client(\n",
    "    's3',\n",
    "    aws_access_key_id=response['Credentials']['AccessKeyId'],\n",
    "    aws_secret_access_key=response['Credentials']['SecretAccessKey'],\n",
    "    aws_session_token=response['Credentials']['SessionToken']\n",
    ")\n",
    "files_bucket=[key['Key'] for key in s3.list_objects(Bucket=bucket_users_data)['Contents']]"
   ]
  },
  {
   "cell_type": "code",
   "execution_count": 22,
   "id": "2bfb2471",
   "metadata": {},
   "outputs": [
    {
     "data": {
      "text/plain": [
       "'ar/amplitude/tb_ar_amplitude_events_stage/'"
      ]
     },
     "execution_count": 22,
     "metadata": {},
     "output_type": "execute_result"
    }
   ],
   "source": [
    "keys_"
   ]
  },
  {
   "cell_type": "code",
   "execution_count": 17,
   "id": "86da3b6a",
   "metadata": {},
   "outputs": [
    {
     "data": {
      "text/plain": [
       "'uala-arg-datalake-stage-prod'"
      ]
     },
     "execution_count": 17,
     "metadata": {},
     "output_type": "execute_result"
    }
   ],
   "source": [
    "bucket_users_data"
   ]
  },
  {
   "cell_type": "code",
   "execution_count": 218,
   "id": "80ffea87",
   "metadata": {},
   "outputs": [],
   "source": [
    "sts = boto3.client('sts')\n",
    "response = sts.assume_role(\n",
    "    RoleArn='arn:aws:iam::514405401387:role/aws-rol-ml-read-stage-prod', #es el rol que existe en produccion por el cual \"nos hacemos pasar\" para acceder a los buckets de s3\n",
    "    RoleSessionName='sesion-dsr-recomendaciones', # nombre que le damos a la sesión\n",
    "    DurationSeconds=3600 # es el tiempo que dura la sesion por default si no especificamos este parámetro.\n",
    ")\n",
    "def get_matching_s3_keys(bucket, prefix, suffix):\n",
    "    \"\"\"\n",
    "    Generate the keys in an S3 bucket.\n",
    "\n",
    "    :param bucket: Name of the S3 bucket.\n",
    "    :param prefix: Only fetch keys that start with this prefix (optional).\n",
    "    :param suffix: Only fetch keys that end with this suffix (optional).\n",
    "    \"\"\"\n",
    "    s3 = boto3.client('s3',\n",
    "    aws_access_key_id=response['Credentials']['AccessKeyId'],\n",
    "    aws_secret_access_key=response['Credentials']['SecretAccessKey'],\n",
    "    aws_session_token=response['Credentials']['SessionToken']\n",
    "                     )\n",
    "    kwargs = {'Bucket': bucket}\n",
    "\n",
    "    # If the prefix is a single string (not a tuple of strings), we can\n",
    "    # do the filtering directly in the S3 API.\n",
    "    if isinstance(prefix, str):\n",
    "        kwargs['Prefix'] = prefix\n",
    "\n",
    "    while True:\n",
    "\n",
    "        # The S3 API response is a large blob of metadata.\n",
    "        # 'Contents' contains information about the listed objects.\n",
    "        resp = s3.list_objects_v2(**kwargs)\n",
    "        for obj in resp['Contents']:\n",
    "            key = obj['Key']\n",
    "            if key.startswith(prefix) and key.endswith(suffix):\n",
    "                yield key\n",
    "\n",
    "        # The S3 API is paginated, returning up to 1000 keys at a time.\n",
    "        # Pass the continuation token into the next response, until we\n",
    "        # reach the final page (when this field is missing).\n",
    "        try:\n",
    "            kwargs['ContinuationToken'] = resp['NextContinuationToken']\n",
    "        except KeyError:\n",
    "            break"
   ]
  },
  {
   "cell_type": "code",
   "execution_count": 223,
   "id": "64d313f9",
   "metadata": {},
   "outputs": [
    {
     "ename": "ClientError",
     "evalue": "An error occurred (AccessDenied) when calling the ListObjectsV2 operation: Access Denied",
     "output_type": "error",
     "traceback": [
      "\u001b[0;31m---------------------------------------------------------------------------\u001b[0m",
      "\u001b[0;31mClientError\u001b[0m                               Traceback (most recent call last)",
      "\u001b[0;32m<ipython-input-223-211de990e092>\u001b[0m in \u001b[0;36m<module>\u001b[0;34m\u001b[0m\n\u001b[0;32m----> 1\u001b[0;31m \u001b[0;32mfor\u001b[0m \u001b[0mkey\u001b[0m \u001b[0;32min\u001b[0m \u001b[0mget_matching_s3_keys\u001b[0m\u001b[0;34m(\u001b[0m\u001b[0mbucket\u001b[0m\u001b[0;34m=\u001b[0m\u001b[0;34m'bukkit'\u001b[0m\u001b[0;34m,\u001b[0m \u001b[0mprefix\u001b[0m\u001b[0;34m=\u001b[0m\u001b[0;34m'images/'\u001b[0m\u001b[0;34m,\u001b[0m \u001b[0msuffix\u001b[0m\u001b[0;34m=\u001b[0m\u001b[0;34m'.parquet'\u001b[0m\u001b[0;34m)\u001b[0m\u001b[0;34m:\u001b[0m\u001b[0;34m\u001b[0m\u001b[0;34m\u001b[0m\u001b[0m\n\u001b[0m\u001b[1;32m      2\u001b[0m     \u001b[0mprint\u001b[0m\u001b[0;34m(\u001b[0m\u001b[0;34m'hola'\u001b[0m\u001b[0;34m)\u001b[0m\u001b[0;34m\u001b[0m\u001b[0;34m\u001b[0m\u001b[0m\n",
      "\u001b[0;32m<ipython-input-218-91d0e10b2c4a>\u001b[0m in \u001b[0;36mget_matching_s3_keys\u001b[0;34m(bucket, prefix, suffix)\u001b[0m\n\u001b[1;32m     19\u001b[0m         \u001b[0;31m# The S3 API response is a large blob of metadata.\u001b[0m\u001b[0;34m\u001b[0m\u001b[0;34m\u001b[0m\u001b[0;34m\u001b[0m\u001b[0m\n\u001b[1;32m     20\u001b[0m         \u001b[0;31m# 'Contents' contains information about the listed objects.\u001b[0m\u001b[0;34m\u001b[0m\u001b[0;34m\u001b[0m\u001b[0;34m\u001b[0m\u001b[0m\n\u001b[0;32m---> 21\u001b[0;31m         \u001b[0mresp\u001b[0m \u001b[0;34m=\u001b[0m \u001b[0ms3\u001b[0m\u001b[0;34m.\u001b[0m\u001b[0mlist_objects_v2\u001b[0m\u001b[0;34m(\u001b[0m\u001b[0;34m**\u001b[0m\u001b[0mkwargs\u001b[0m\u001b[0;34m)\u001b[0m\u001b[0;34m\u001b[0m\u001b[0;34m\u001b[0m\u001b[0m\n\u001b[0m\u001b[1;32m     22\u001b[0m         \u001b[0;32mfor\u001b[0m \u001b[0mobj\u001b[0m \u001b[0;32min\u001b[0m \u001b[0mresp\u001b[0m\u001b[0;34m[\u001b[0m\u001b[0;34m'Contents'\u001b[0m\u001b[0;34m]\u001b[0m\u001b[0;34m:\u001b[0m\u001b[0;34m\u001b[0m\u001b[0;34m\u001b[0m\u001b[0m\n\u001b[1;32m     23\u001b[0m             \u001b[0mkey\u001b[0m \u001b[0;34m=\u001b[0m \u001b[0mobj\u001b[0m\u001b[0;34m[\u001b[0m\u001b[0;34m'Key'\u001b[0m\u001b[0;34m]\u001b[0m\u001b[0;34m\u001b[0m\u001b[0;34m\u001b[0m\u001b[0m\n",
      "\u001b[0;32m~/anaconda3/envs/python3/lib/python3.6/site-packages/botocore/client.py\u001b[0m in \u001b[0;36m_api_call\u001b[0;34m(self, *args, **kwargs)\u001b[0m\n\u001b[1;32m    384\u001b[0m                     \"%s() only accepts keyword arguments.\" % py_operation_name)\n\u001b[1;32m    385\u001b[0m             \u001b[0;31m# The \"self\" in this scope is referring to the BaseClient.\u001b[0m\u001b[0;34m\u001b[0m\u001b[0;34m\u001b[0m\u001b[0;34m\u001b[0m\u001b[0m\n\u001b[0;32m--> 386\u001b[0;31m             \u001b[0;32mreturn\u001b[0m \u001b[0mself\u001b[0m\u001b[0;34m.\u001b[0m\u001b[0m_make_api_call\u001b[0m\u001b[0;34m(\u001b[0m\u001b[0moperation_name\u001b[0m\u001b[0;34m,\u001b[0m \u001b[0mkwargs\u001b[0m\u001b[0;34m)\u001b[0m\u001b[0;34m\u001b[0m\u001b[0;34m\u001b[0m\u001b[0m\n\u001b[0m\u001b[1;32m    387\u001b[0m \u001b[0;34m\u001b[0m\u001b[0m\n\u001b[1;32m    388\u001b[0m         \u001b[0m_api_call\u001b[0m\u001b[0;34m.\u001b[0m\u001b[0m__name__\u001b[0m \u001b[0;34m=\u001b[0m \u001b[0mstr\u001b[0m\u001b[0;34m(\u001b[0m\u001b[0mpy_operation_name\u001b[0m\u001b[0;34m)\u001b[0m\u001b[0;34m\u001b[0m\u001b[0;34m\u001b[0m\u001b[0m\n",
      "\u001b[0;32m~/anaconda3/envs/python3/lib/python3.6/site-packages/botocore/client.py\u001b[0m in \u001b[0;36m_make_api_call\u001b[0;34m(self, operation_name, api_params)\u001b[0m\n\u001b[1;32m    703\u001b[0m             \u001b[0merror_code\u001b[0m \u001b[0;34m=\u001b[0m \u001b[0mparsed_response\u001b[0m\u001b[0;34m.\u001b[0m\u001b[0mget\u001b[0m\u001b[0;34m(\u001b[0m\u001b[0;34m\"Error\"\u001b[0m\u001b[0;34m,\u001b[0m \u001b[0;34m{\u001b[0m\u001b[0;34m}\u001b[0m\u001b[0;34m)\u001b[0m\u001b[0;34m.\u001b[0m\u001b[0mget\u001b[0m\u001b[0;34m(\u001b[0m\u001b[0;34m\"Code\"\u001b[0m\u001b[0;34m)\u001b[0m\u001b[0;34m\u001b[0m\u001b[0;34m\u001b[0m\u001b[0m\n\u001b[1;32m    704\u001b[0m             \u001b[0merror_class\u001b[0m \u001b[0;34m=\u001b[0m \u001b[0mself\u001b[0m\u001b[0;34m.\u001b[0m\u001b[0mexceptions\u001b[0m\u001b[0;34m.\u001b[0m\u001b[0mfrom_code\u001b[0m\u001b[0;34m(\u001b[0m\u001b[0merror_code\u001b[0m\u001b[0;34m)\u001b[0m\u001b[0;34m\u001b[0m\u001b[0;34m\u001b[0m\u001b[0m\n\u001b[0;32m--> 705\u001b[0;31m             \u001b[0;32mraise\u001b[0m \u001b[0merror_class\u001b[0m\u001b[0;34m(\u001b[0m\u001b[0mparsed_response\u001b[0m\u001b[0;34m,\u001b[0m \u001b[0moperation_name\u001b[0m\u001b[0;34m)\u001b[0m\u001b[0;34m\u001b[0m\u001b[0;34m\u001b[0m\u001b[0m\n\u001b[0m\u001b[1;32m    706\u001b[0m         \u001b[0;32melse\u001b[0m\u001b[0;34m:\u001b[0m\u001b[0;34m\u001b[0m\u001b[0;34m\u001b[0m\u001b[0m\n\u001b[1;32m    707\u001b[0m             \u001b[0;32mreturn\u001b[0m \u001b[0mparsed_response\u001b[0m\u001b[0;34m\u001b[0m\u001b[0;34m\u001b[0m\u001b[0m\n",
      "\u001b[0;31mClientError\u001b[0m: An error occurred (AccessDenied) when calling the ListObjectsV2 operation: Access Denied"
     ]
    }
   ],
   "source": [
    "\n",
    "for key in get_matching_s3_keys(bucket='bukkit', prefix='images/', suffix='.parquet'):\n",
    "    print('hola')"
   ]
  },
  {
   "cell_type": "code",
   "execution_count": 221,
   "id": "40508944",
   "metadata": {},
   "outputs": [
    {
     "data": {
      "text/plain": [
       "<generator object get_matching_s3_keys at 0x7f5cbb6900f8>"
      ]
     },
     "execution_count": 221,
     "metadata": {},
     "output_type": "execute_result"
    }
   ],
   "source": [
    "asd"
   ]
  },
  {
   "cell_type": "code",
   "execution_count": 214,
   "id": "3a7944da",
   "metadata": {},
   "outputs": [
    {
     "data": {
      "text/plain": [
       "<generator object keys at 0x7f5cb95baba0>"
      ]
     },
     "execution_count": 214,
     "metadata": {},
     "output_type": "execute_result"
    }
   ],
   "source": [
    "asd"
   ]
  },
  {
   "cell_type": "code",
   "execution_count": null,
   "id": "59845255",
   "metadata": {},
   "outputs": [],
   "source": [
    "files_in_bucket=[key['Key'] for key in s3.list_objects(Bucket=bucket_users_data)['Contents']]\n",
    "files_in_bucket"
   ]
  },
  {
   "cell_type": "code",
   "execution_count": 188,
   "id": "971424a4",
   "metadata": {},
   "outputs": [
    {
     "data": {
      "text/plain": [
       "'ar/amplitude/tb_ar_amplitude_events_stage/'"
      ]
     },
     "execution_count": 188,
     "metadata": {},
     "output_type": "execute_result"
    }
   ],
   "source": [
    "keys_"
   ]
  },
  {
   "cell_type": "code",
   "execution_count": 9,
   "id": "a3c931f9",
   "metadata": {},
   "outputs": [
    {
     "ename": "ClientError",
     "evalue": "An error occurred (AccessDenied) when calling the ListObjectsV2 operation: Access Denied",
     "output_type": "error",
     "traceback": [
      "\u001b[0;31m---------------------------------------------------------------------------\u001b[0m",
      "\u001b[0;31mClientError\u001b[0m                               Traceback (most recent call last)",
      "\u001b[0;32m<ipython-input-9-87703d91f484>\u001b[0m in \u001b[0;36m<module>\u001b[0;34m\u001b[0m\n\u001b[1;32m     14\u001b[0m \u001b[0mpages\u001b[0m \u001b[0;34m=\u001b[0m \u001b[0mpaginator\u001b[0m\u001b[0;34m.\u001b[0m\u001b[0mpaginate\u001b[0m\u001b[0;34m(\u001b[0m\u001b[0mBucket\u001b[0m\u001b[0;34m=\u001b[0m\u001b[0mbucket_amplitude_data\u001b[0m\u001b[0;34m)\u001b[0m\u001b[0;34m\u001b[0m\u001b[0;34m\u001b[0m\u001b[0m\n\u001b[1;32m     15\u001b[0m \u001b[0mfiles_in_bucket\u001b[0m\u001b[0;34m=\u001b[0m\u001b[0;34m[\u001b[0m\u001b[0;34m]\u001b[0m\u001b[0;34m\u001b[0m\u001b[0;34m\u001b[0m\u001b[0m\n\u001b[0;32m---> 16\u001b[0;31m \u001b[0;32mfor\u001b[0m \u001b[0mpage\u001b[0m \u001b[0;32min\u001b[0m \u001b[0mpages\u001b[0m\u001b[0;34m:\u001b[0m\u001b[0;34m\u001b[0m\u001b[0;34m\u001b[0m\u001b[0m\n\u001b[0m\u001b[1;32m     17\u001b[0m     \u001b[0mfiles_page\u001b[0m\u001b[0;34m=\u001b[0m\u001b[0;34m[\u001b[0m\u001b[0mkey\u001b[0m\u001b[0;34m[\u001b[0m\u001b[0;34m'Key'\u001b[0m\u001b[0;34m]\u001b[0m \u001b[0;32mfor\u001b[0m \u001b[0mkey\u001b[0m \u001b[0;32min\u001b[0m \u001b[0ms3\u001b[0m\u001b[0;34m.\u001b[0m\u001b[0mlist_objects\u001b[0m\u001b[0;34m(\u001b[0m\u001b[0mBucket\u001b[0m\u001b[0;34m=\u001b[0m\u001b[0mbucket_amplitude_data\u001b[0m\u001b[0;34m)\u001b[0m\u001b[0;34m[\u001b[0m\u001b[0;34m'Contents'\u001b[0m\u001b[0;34m]\u001b[0m\u001b[0;34m]\u001b[0m\u001b[0;34m\u001b[0m\u001b[0;34m\u001b[0m\u001b[0m\n\u001b[1;32m     18\u001b[0m     \u001b[0mfiles_in_bucket\u001b[0m\u001b[0;34m+=\u001b[0m\u001b[0mfiles_page\u001b[0m\u001b[0;34m\u001b[0m\u001b[0;34m\u001b[0m\u001b[0m\n",
      "\u001b[0;32m~/anaconda3/envs/python3/lib/python3.6/site-packages/botocore/paginate.py\u001b[0m in \u001b[0;36m__iter__\u001b[0;34m(self)\u001b[0m\n\u001b[1;32m    253\u001b[0m         \u001b[0mself\u001b[0m\u001b[0;34m.\u001b[0m\u001b[0m_inject_starting_params\u001b[0m\u001b[0;34m(\u001b[0m\u001b[0mcurrent_kwargs\u001b[0m\u001b[0;34m)\u001b[0m\u001b[0;34m\u001b[0m\u001b[0;34m\u001b[0m\u001b[0m\n\u001b[1;32m    254\u001b[0m         \u001b[0;32mwhile\u001b[0m \u001b[0;32mTrue\u001b[0m\u001b[0;34m:\u001b[0m\u001b[0;34m\u001b[0m\u001b[0;34m\u001b[0m\u001b[0m\n\u001b[0;32m--> 255\u001b[0;31m             \u001b[0mresponse\u001b[0m \u001b[0;34m=\u001b[0m \u001b[0mself\u001b[0m\u001b[0;34m.\u001b[0m\u001b[0m_make_request\u001b[0m\u001b[0;34m(\u001b[0m\u001b[0mcurrent_kwargs\u001b[0m\u001b[0;34m)\u001b[0m\u001b[0;34m\u001b[0m\u001b[0;34m\u001b[0m\u001b[0m\n\u001b[0m\u001b[1;32m    256\u001b[0m             \u001b[0mparsed\u001b[0m \u001b[0;34m=\u001b[0m \u001b[0mself\u001b[0m\u001b[0;34m.\u001b[0m\u001b[0m_extract_parsed_response\u001b[0m\u001b[0;34m(\u001b[0m\u001b[0mresponse\u001b[0m\u001b[0;34m)\u001b[0m\u001b[0;34m\u001b[0m\u001b[0;34m\u001b[0m\u001b[0m\n\u001b[1;32m    257\u001b[0m             \u001b[0;32mif\u001b[0m \u001b[0mfirst_request\u001b[0m\u001b[0;34m:\u001b[0m\u001b[0;34m\u001b[0m\u001b[0;34m\u001b[0m\u001b[0m\n",
      "\u001b[0;32m~/anaconda3/envs/python3/lib/python3.6/site-packages/botocore/paginate.py\u001b[0m in \u001b[0;36m_make_request\u001b[0;34m(self, current_kwargs)\u001b[0m\n\u001b[1;32m    330\u001b[0m \u001b[0;34m\u001b[0m\u001b[0m\n\u001b[1;32m    331\u001b[0m     \u001b[0;32mdef\u001b[0m \u001b[0m_make_request\u001b[0m\u001b[0;34m(\u001b[0m\u001b[0mself\u001b[0m\u001b[0;34m,\u001b[0m \u001b[0mcurrent_kwargs\u001b[0m\u001b[0;34m)\u001b[0m\u001b[0;34m:\u001b[0m\u001b[0;34m\u001b[0m\u001b[0;34m\u001b[0m\u001b[0m\n\u001b[0;32m--> 332\u001b[0;31m         \u001b[0;32mreturn\u001b[0m \u001b[0mself\u001b[0m\u001b[0;34m.\u001b[0m\u001b[0m_method\u001b[0m\u001b[0;34m(\u001b[0m\u001b[0;34m**\u001b[0m\u001b[0mcurrent_kwargs\u001b[0m\u001b[0;34m)\u001b[0m\u001b[0;34m\u001b[0m\u001b[0;34m\u001b[0m\u001b[0m\n\u001b[0m\u001b[1;32m    333\u001b[0m \u001b[0;34m\u001b[0m\u001b[0m\n\u001b[1;32m    334\u001b[0m     \u001b[0;32mdef\u001b[0m \u001b[0m_extract_parsed_response\u001b[0m\u001b[0;34m(\u001b[0m\u001b[0mself\u001b[0m\u001b[0;34m,\u001b[0m \u001b[0mresponse\u001b[0m\u001b[0;34m)\u001b[0m\u001b[0;34m:\u001b[0m\u001b[0;34m\u001b[0m\u001b[0;34m\u001b[0m\u001b[0m\n",
      "\u001b[0;32m~/anaconda3/envs/python3/lib/python3.6/site-packages/botocore/client.py\u001b[0m in \u001b[0;36m_api_call\u001b[0;34m(self, *args, **kwargs)\u001b[0m\n\u001b[1;32m    384\u001b[0m                     \"%s() only accepts keyword arguments.\" % py_operation_name)\n\u001b[1;32m    385\u001b[0m             \u001b[0;31m# The \"self\" in this scope is referring to the BaseClient.\u001b[0m\u001b[0;34m\u001b[0m\u001b[0;34m\u001b[0m\u001b[0;34m\u001b[0m\u001b[0m\n\u001b[0;32m--> 386\u001b[0;31m             \u001b[0;32mreturn\u001b[0m \u001b[0mself\u001b[0m\u001b[0;34m.\u001b[0m\u001b[0m_make_api_call\u001b[0m\u001b[0;34m(\u001b[0m\u001b[0moperation_name\u001b[0m\u001b[0;34m,\u001b[0m \u001b[0mkwargs\u001b[0m\u001b[0;34m)\u001b[0m\u001b[0;34m\u001b[0m\u001b[0;34m\u001b[0m\u001b[0m\n\u001b[0m\u001b[1;32m    387\u001b[0m \u001b[0;34m\u001b[0m\u001b[0m\n\u001b[1;32m    388\u001b[0m         \u001b[0m_api_call\u001b[0m\u001b[0;34m.\u001b[0m\u001b[0m__name__\u001b[0m \u001b[0;34m=\u001b[0m \u001b[0mstr\u001b[0m\u001b[0;34m(\u001b[0m\u001b[0mpy_operation_name\u001b[0m\u001b[0;34m)\u001b[0m\u001b[0;34m\u001b[0m\u001b[0;34m\u001b[0m\u001b[0m\n",
      "\u001b[0;32m~/anaconda3/envs/python3/lib/python3.6/site-packages/botocore/client.py\u001b[0m in \u001b[0;36m_make_api_call\u001b[0;34m(self, operation_name, api_params)\u001b[0m\n\u001b[1;32m    703\u001b[0m             \u001b[0merror_code\u001b[0m \u001b[0;34m=\u001b[0m \u001b[0mparsed_response\u001b[0m\u001b[0;34m.\u001b[0m\u001b[0mget\u001b[0m\u001b[0;34m(\u001b[0m\u001b[0;34m\"Error\"\u001b[0m\u001b[0;34m,\u001b[0m \u001b[0;34m{\u001b[0m\u001b[0;34m}\u001b[0m\u001b[0;34m)\u001b[0m\u001b[0;34m.\u001b[0m\u001b[0mget\u001b[0m\u001b[0;34m(\u001b[0m\u001b[0;34m\"Code\"\u001b[0m\u001b[0;34m)\u001b[0m\u001b[0;34m\u001b[0m\u001b[0;34m\u001b[0m\u001b[0m\n\u001b[1;32m    704\u001b[0m             \u001b[0merror_class\u001b[0m \u001b[0;34m=\u001b[0m \u001b[0mself\u001b[0m\u001b[0;34m.\u001b[0m\u001b[0mexceptions\u001b[0m\u001b[0;34m.\u001b[0m\u001b[0mfrom_code\u001b[0m\u001b[0;34m(\u001b[0m\u001b[0merror_code\u001b[0m\u001b[0;34m)\u001b[0m\u001b[0;34m\u001b[0m\u001b[0;34m\u001b[0m\u001b[0m\n\u001b[0;32m--> 705\u001b[0;31m             \u001b[0;32mraise\u001b[0m \u001b[0merror_class\u001b[0m\u001b[0;34m(\u001b[0m\u001b[0mparsed_response\u001b[0m\u001b[0;34m,\u001b[0m \u001b[0moperation_name\u001b[0m\u001b[0;34m)\u001b[0m\u001b[0;34m\u001b[0m\u001b[0;34m\u001b[0m\u001b[0m\n\u001b[0m\u001b[1;32m    706\u001b[0m         \u001b[0;32melse\u001b[0m\u001b[0;34m:\u001b[0m\u001b[0;34m\u001b[0m\u001b[0;34m\u001b[0m\u001b[0m\n\u001b[1;32m    707\u001b[0m             \u001b[0;32mreturn\u001b[0m \u001b[0mparsed_response\u001b[0m\u001b[0;34m\u001b[0m\u001b[0;34m\u001b[0m\u001b[0m\n",
      "\u001b[0;31mClientError\u001b[0m: An error occurred (AccessDenied) when calling the ListObjectsV2 operation: Access Denied"
     ]
    }
   ],
   "source": [
    "\n",
    "sts = boto3.client('sts')\n",
    "response = sts.assume_role(\n",
    "    RoleArn='arn:aws:iam::514405401387:role/aws-rol-ml-read-stage-prod', #es el rol que existe en produccion por el cual \"nos hacemos pasar\" para acceder a los buckets de s3\n",
    "    RoleSessionName='sesion-dsr-recomendaciones', # nombre que le damos a la sesión\n",
    "    DurationSeconds=3600 # es el tiempo que dura la sesion por default si no especificamos este parámetro.\n",
    ")\n",
    "s3 = boto3.client(\n",
    "    's3',\n",
    "    aws_access_key_id=response['Credentials']['AccessKeyId'],\n",
    "    aws_secret_access_key=response['Credentials']['SecretAccessKey'],\n",
    "    aws_session_token=response['Credentials']['SessionToken']\n",
    ")\n",
    "paginator = s3.get_paginator('list_objects_v2')\n",
    "pages = paginator.paginate(Bucket=bucket_users_data)\n",
    "files_in_bucket=[]\n",
    "for page in pages:\n",
    "    files_page=[key['Key'] for key in s3.list_objects(Bucket=bucket_users_data)['Contents']]\n",
    "    files_in_bucket+=files_page"
   ]
  },
  {
   "cell_type": "code",
   "execution_count": 180,
   "id": "c6912f09",
   "metadata": {},
   "outputs": [
    {
     "data": {
      "text/plain": [
       "'ar/amplitude/tb_ar_amplitude_events_stage/'"
      ]
     },
     "execution_count": 180,
     "metadata": {},
     "output_type": "execute_result"
    }
   ],
   "source": [
    "keys_"
   ]
  },
  {
   "cell_type": "code",
   "execution_count": 168,
   "id": "472960f8",
   "metadata": {},
   "outputs": [
    {
     "data": {
      "text/plain": [
       "'ar/amplitude/tb_ar_amplitude_events_stage/'"
      ]
     },
     "execution_count": 168,
     "metadata": {},
     "output_type": "execute_result"
    }
   ],
   "source": [
    "keys_"
   ]
  },
  {
   "cell_type": "code",
   "execution_count": 47,
   "id": "b40fecac",
   "metadata": {},
   "outputs": [
    {
     "data": {
      "text/plain": [
       "2019-11-20     7\n",
       "2019-11-21    13\n",
       "2019-11-22    18\n",
       "2019-11-23    14\n",
       "2019-11-24    12\n",
       "              ..\n",
       "2021-07-04    24\n",
       "2021-07-05    28\n",
       "2021-07-06    24\n",
       "2021-07-07    24\n",
       "2021-07-08    14\n",
       "Name: date, Length: 597, dtype: int64"
      ]
     },
     "execution_count": 47,
     "metadata": {},
     "output_type": "execute_result"
    }
   ],
   "source": [
    "df_bucket_files.date.value_counts().sort_index()\n"
   ]
  },
  {
   "cell_type": "code",
   "execution_count": 45,
   "id": "fb261294",
   "metadata": {},
   "outputs": [
    {
     "data": {
      "text/plain": [
       "2021-01-01    24\n",
       "2021-01-02    24\n",
       "2021-01-03    24\n",
       "2021-01-04    24\n",
       "2021-01-05    24\n",
       "2021-01-06    24\n",
       "2021-01-07    24\n",
       "2021-01-08    24\n",
       "2021-01-09    24\n",
       "2021-01-10    24\n",
       "2021-01-11    24\n",
       "2021-01-12    24\n",
       "2021-01-13    24\n",
       "2021-01-14    24\n",
       "2021-01-15    24\n",
       "2021-01-16    24\n",
       "2021-01-17    24\n",
       "2021-01-18    24\n",
       "2021-01-19    24\n",
       "2021-01-20    24\n",
       "2021-01-21    24\n",
       "2021-01-22    24\n",
       "2021-01-23    24\n",
       "2021-01-24    24\n",
       "2021-01-25    24\n",
       "2021-01-26    24\n",
       "2021-01-27     8\n",
       "2021-01-28    24\n",
       "2021-01-29    24\n",
       "2021-01-30    24\n",
       "2021-01-31    24\n",
       "Name: date, dtype: int64"
      ]
     },
     "execution_count": 45,
     "metadata": {},
     "output_type": "execute_result"
    }
   ],
   "source": [
    "\n",
    "df_bucket_files[(df_bucket_files.date>='2021-01-01')&(df_bucket_files.date<='2021-01-31')].date.value_counts().sort_index()\n",
    "#df_bucket_files.date.value_counts().sort_index()"
   ]
  },
  {
   "cell_type": "code",
   "execution_count": 37,
   "id": "ec7586cd",
   "metadata": {},
   "outputs": [
    {
     "data": {
      "text/plain": [
       "key             object\n",
       "path            object\n",
       "date    datetime64[ns]\n",
       "dtype: object"
      ]
     },
     "execution_count": 37,
     "metadata": {},
     "output_type": "execute_result"
    }
   ],
   "source": [
    "df_bucket_files.dtypes"
   ]
  },
  {
   "cell_type": "code",
   "execution_count": 11,
   "id": "7ad6f1aa",
   "metadata": {},
   "outputs": [
    {
     "ename": "ClientError",
     "evalue": "An error occurred (AccessDenied) when calling the ListObjects operation: Access Denied",
     "output_type": "error",
     "traceback": [
      "\u001b[0;31m---------------------------------------------------------------------------\u001b[0m",
      "\u001b[0;31mClientError\u001b[0m                               Traceback (most recent call last)",
      "\u001b[0;32m<ipython-input-11-40ce411e042d>\u001b[0m in \u001b[0;36m<module>\u001b[0;34m\u001b[0m\n\u001b[1;32m      2\u001b[0m \u001b[0mpages\u001b[0m \u001b[0;34m=\u001b[0m \u001b[0mpaginator\u001b[0m\u001b[0;34m.\u001b[0m\u001b[0mpaginate\u001b[0m\u001b[0;34m(\u001b[0m\u001b[0mBucket\u001b[0m\u001b[0;34m=\u001b[0m\u001b[0mbucket_amplitude_data\u001b[0m\u001b[0;34m,\u001b[0m \u001b[0mPrefix\u001b[0m\u001b[0;34m=\u001b[0m\u001b[0mkeys_\u001b[0m\u001b[0;34m)\u001b[0m\u001b[0;34m\u001b[0m\u001b[0;34m\u001b[0m\u001b[0m\n\u001b[1;32m      3\u001b[0m \u001b[0mfiles_in_bucket\u001b[0m\u001b[0;34m=\u001b[0m\u001b[0;34m[\u001b[0m\u001b[0;34m]\u001b[0m\u001b[0;34m\u001b[0m\u001b[0;34m\u001b[0m\u001b[0m\n\u001b[0;32m----> 4\u001b[0;31m \u001b[0;32mfor\u001b[0m \u001b[0mpage\u001b[0m \u001b[0;32min\u001b[0m \u001b[0mpages\u001b[0m\u001b[0;34m:\u001b[0m\u001b[0;34m\u001b[0m\u001b[0;34m\u001b[0m\u001b[0m\n\u001b[0m\u001b[1;32m      5\u001b[0m     \u001b[0mfiles_page\u001b[0m\u001b[0;34m=\u001b[0m\u001b[0;34m[\u001b[0m\u001b[0mkey\u001b[0m\u001b[0;34m[\u001b[0m\u001b[0;34m'Key'\u001b[0m\u001b[0;34m]\u001b[0m \u001b[0;32mfor\u001b[0m \u001b[0mkey\u001b[0m \u001b[0;32min\u001b[0m \u001b[0ms3\u001b[0m\u001b[0;34m.\u001b[0m\u001b[0mlist_objects\u001b[0m\u001b[0;34m(\u001b[0m\u001b[0mBucket\u001b[0m\u001b[0;34m=\u001b[0m\u001b[0mbucket_amplitude_data\u001b[0m\u001b[0;34m)\u001b[0m\u001b[0;34m[\u001b[0m\u001b[0;34m'Contents'\u001b[0m\u001b[0;34m]\u001b[0m\u001b[0;34m]\u001b[0m\u001b[0;34m\u001b[0m\u001b[0;34m\u001b[0m\u001b[0m\n\u001b[1;32m      6\u001b[0m     \u001b[0mfiles_in_bucket\u001b[0m\u001b[0;34m+=\u001b[0m\u001b[0mfiles_page\u001b[0m\u001b[0;34m\u001b[0m\u001b[0;34m\u001b[0m\u001b[0m\n",
      "\u001b[0;32m~/anaconda3/envs/python3/lib/python3.6/site-packages/botocore/paginate.py\u001b[0m in \u001b[0;36m__iter__\u001b[0;34m(self)\u001b[0m\n\u001b[1;32m    253\u001b[0m         \u001b[0mself\u001b[0m\u001b[0;34m.\u001b[0m\u001b[0m_inject_starting_params\u001b[0m\u001b[0;34m(\u001b[0m\u001b[0mcurrent_kwargs\u001b[0m\u001b[0;34m)\u001b[0m\u001b[0;34m\u001b[0m\u001b[0;34m\u001b[0m\u001b[0m\n\u001b[1;32m    254\u001b[0m         \u001b[0;32mwhile\u001b[0m \u001b[0;32mTrue\u001b[0m\u001b[0;34m:\u001b[0m\u001b[0;34m\u001b[0m\u001b[0;34m\u001b[0m\u001b[0m\n\u001b[0;32m--> 255\u001b[0;31m             \u001b[0mresponse\u001b[0m \u001b[0;34m=\u001b[0m \u001b[0mself\u001b[0m\u001b[0;34m.\u001b[0m\u001b[0m_make_request\u001b[0m\u001b[0;34m(\u001b[0m\u001b[0mcurrent_kwargs\u001b[0m\u001b[0;34m)\u001b[0m\u001b[0;34m\u001b[0m\u001b[0;34m\u001b[0m\u001b[0m\n\u001b[0m\u001b[1;32m    256\u001b[0m             \u001b[0mparsed\u001b[0m \u001b[0;34m=\u001b[0m \u001b[0mself\u001b[0m\u001b[0;34m.\u001b[0m\u001b[0m_extract_parsed_response\u001b[0m\u001b[0;34m(\u001b[0m\u001b[0mresponse\u001b[0m\u001b[0;34m)\u001b[0m\u001b[0;34m\u001b[0m\u001b[0;34m\u001b[0m\u001b[0m\n\u001b[1;32m    257\u001b[0m             \u001b[0;32mif\u001b[0m \u001b[0mfirst_request\u001b[0m\u001b[0;34m:\u001b[0m\u001b[0;34m\u001b[0m\u001b[0;34m\u001b[0m\u001b[0m\n",
      "\u001b[0;32m~/anaconda3/envs/python3/lib/python3.6/site-packages/botocore/paginate.py\u001b[0m in \u001b[0;36m_make_request\u001b[0;34m(self, current_kwargs)\u001b[0m\n\u001b[1;32m    330\u001b[0m \u001b[0;34m\u001b[0m\u001b[0m\n\u001b[1;32m    331\u001b[0m     \u001b[0;32mdef\u001b[0m \u001b[0m_make_request\u001b[0m\u001b[0;34m(\u001b[0m\u001b[0mself\u001b[0m\u001b[0;34m,\u001b[0m \u001b[0mcurrent_kwargs\u001b[0m\u001b[0;34m)\u001b[0m\u001b[0;34m:\u001b[0m\u001b[0;34m\u001b[0m\u001b[0;34m\u001b[0m\u001b[0m\n\u001b[0;32m--> 332\u001b[0;31m         \u001b[0;32mreturn\u001b[0m \u001b[0mself\u001b[0m\u001b[0;34m.\u001b[0m\u001b[0m_method\u001b[0m\u001b[0;34m(\u001b[0m\u001b[0;34m**\u001b[0m\u001b[0mcurrent_kwargs\u001b[0m\u001b[0;34m)\u001b[0m\u001b[0;34m\u001b[0m\u001b[0;34m\u001b[0m\u001b[0m\n\u001b[0m\u001b[1;32m    333\u001b[0m \u001b[0;34m\u001b[0m\u001b[0m\n\u001b[1;32m    334\u001b[0m     \u001b[0;32mdef\u001b[0m \u001b[0m_extract_parsed_response\u001b[0m\u001b[0;34m(\u001b[0m\u001b[0mself\u001b[0m\u001b[0;34m,\u001b[0m \u001b[0mresponse\u001b[0m\u001b[0;34m)\u001b[0m\u001b[0;34m:\u001b[0m\u001b[0;34m\u001b[0m\u001b[0;34m\u001b[0m\u001b[0m\n",
      "\u001b[0;32m~/anaconda3/envs/python3/lib/python3.6/site-packages/botocore/client.py\u001b[0m in \u001b[0;36m_api_call\u001b[0;34m(self, *args, **kwargs)\u001b[0m\n\u001b[1;32m    384\u001b[0m                     \"%s() only accepts keyword arguments.\" % py_operation_name)\n\u001b[1;32m    385\u001b[0m             \u001b[0;31m# The \"self\" in this scope is referring to the BaseClient.\u001b[0m\u001b[0;34m\u001b[0m\u001b[0;34m\u001b[0m\u001b[0;34m\u001b[0m\u001b[0m\n\u001b[0;32m--> 386\u001b[0;31m             \u001b[0;32mreturn\u001b[0m \u001b[0mself\u001b[0m\u001b[0;34m.\u001b[0m\u001b[0m_make_api_call\u001b[0m\u001b[0;34m(\u001b[0m\u001b[0moperation_name\u001b[0m\u001b[0;34m,\u001b[0m \u001b[0mkwargs\u001b[0m\u001b[0;34m)\u001b[0m\u001b[0;34m\u001b[0m\u001b[0;34m\u001b[0m\u001b[0m\n\u001b[0m\u001b[1;32m    387\u001b[0m \u001b[0;34m\u001b[0m\u001b[0m\n\u001b[1;32m    388\u001b[0m         \u001b[0m_api_call\u001b[0m\u001b[0;34m.\u001b[0m\u001b[0m__name__\u001b[0m \u001b[0;34m=\u001b[0m \u001b[0mstr\u001b[0m\u001b[0;34m(\u001b[0m\u001b[0mpy_operation_name\u001b[0m\u001b[0;34m)\u001b[0m\u001b[0;34m\u001b[0m\u001b[0;34m\u001b[0m\u001b[0m\n",
      "\u001b[0;32m~/anaconda3/envs/python3/lib/python3.6/site-packages/botocore/client.py\u001b[0m in \u001b[0;36m_make_api_call\u001b[0;34m(self, operation_name, api_params)\u001b[0m\n\u001b[1;32m    703\u001b[0m             \u001b[0merror_code\u001b[0m \u001b[0;34m=\u001b[0m \u001b[0mparsed_response\u001b[0m\u001b[0;34m.\u001b[0m\u001b[0mget\u001b[0m\u001b[0;34m(\u001b[0m\u001b[0;34m\"Error\"\u001b[0m\u001b[0;34m,\u001b[0m \u001b[0;34m{\u001b[0m\u001b[0;34m}\u001b[0m\u001b[0;34m)\u001b[0m\u001b[0;34m.\u001b[0m\u001b[0mget\u001b[0m\u001b[0;34m(\u001b[0m\u001b[0;34m\"Code\"\u001b[0m\u001b[0;34m)\u001b[0m\u001b[0;34m\u001b[0m\u001b[0;34m\u001b[0m\u001b[0m\n\u001b[1;32m    704\u001b[0m             \u001b[0merror_class\u001b[0m \u001b[0;34m=\u001b[0m \u001b[0mself\u001b[0m\u001b[0;34m.\u001b[0m\u001b[0mexceptions\u001b[0m\u001b[0;34m.\u001b[0m\u001b[0mfrom_code\u001b[0m\u001b[0;34m(\u001b[0m\u001b[0merror_code\u001b[0m\u001b[0;34m)\u001b[0m\u001b[0;34m\u001b[0m\u001b[0;34m\u001b[0m\u001b[0m\n\u001b[0;32m--> 705\u001b[0;31m             \u001b[0;32mraise\u001b[0m \u001b[0merror_class\u001b[0m\u001b[0;34m(\u001b[0m\u001b[0mparsed_response\u001b[0m\u001b[0;34m,\u001b[0m \u001b[0moperation_name\u001b[0m\u001b[0;34m)\u001b[0m\u001b[0;34m\u001b[0m\u001b[0;34m\u001b[0m\u001b[0m\n\u001b[0m\u001b[1;32m    706\u001b[0m         \u001b[0;32melse\u001b[0m\u001b[0;34m:\u001b[0m\u001b[0;34m\u001b[0m\u001b[0;34m\u001b[0m\u001b[0m\n\u001b[1;32m    707\u001b[0m             \u001b[0;32mreturn\u001b[0m \u001b[0mparsed_response\u001b[0m\u001b[0;34m\u001b[0m\u001b[0;34m\u001b[0m\u001b[0m\n",
      "\u001b[0;31mClientError\u001b[0m: An error occurred (AccessDenied) when calling the ListObjects operation: Access Denied"
     ]
    }
   ],
   "source": [
    "paginator = s3.get_paginator('list_objects')\n",
    "pages = paginator.paginate(Bucket=bucket_users_data, Prefix=keys_)\n",
    "files_in_bucket=[]\n",
    "for page in pages:\n",
    "    files_page=[key['Key'] for key in s3.list_objects(Bucket=bucket_users_data)['Contents']]\n",
    "    files_in_bucket+=files_page"
   ]
  },
  {
   "cell_type": "code",
   "execution_count": 55,
   "id": "d314f863",
   "metadata": {},
   "outputs": [
    {
     "data": {
      "text/plain": [
       "0        s3://uala-arg-datalake-stage-prod/ar/amplitude/tb_ar_amplitude_events_stage/dt=2019-11-20/1e4fdbb9488148c68c9d29622a49edc1.snappy.parquet\n",
       "1        s3://uala-arg-datalake-stage-prod/ar/amplitude/tb_ar_amplitude_events_stage/dt=2019-11-20/375adef7d335448889605a3f7f7614b6.snappy.parquet\n",
       "2        s3://uala-arg-datalake-stage-prod/ar/amplitude/tb_ar_amplitude_events_stage/dt=2019-11-20/8952a93f527449aa8bcc72c015f72c2b.snappy.parquet\n",
       "3        s3://uala-arg-datalake-stage-prod/ar/amplitude/tb_ar_amplitude_events_stage/dt=2019-11-20/ac377b2e101346e6be51fef2bb0e4bb3.snappy.parquet\n",
       "4        s3://uala-arg-datalake-stage-prod/ar/amplitude/tb_ar_amplitude_events_stage/dt=2019-11-20/be8c30ddb4244c9c9854dd230a8d655a.snappy.parquet\n",
       "                                                                           ...                                                                    \n",
       "14234    s3://uala-arg-datalake-stage-prod/ar/amplitude/tb_ar_amplitude_events_stage/dt=2021-07-08/ae0624f3786f440e8202a046024fa05b.snappy.parquet\n",
       "14235    s3://uala-arg-datalake-stage-prod/ar/amplitude/tb_ar_amplitude_events_stage/dt=2021-07-08/b23d065f6564492d9ac1adc82e6f349c.snappy.parquet\n",
       "14236    s3://uala-arg-datalake-stage-prod/ar/amplitude/tb_ar_amplitude_events_stage/dt=2021-07-08/dbd2d71796154b82aa22b427640756f7.snappy.parquet\n",
       "14237    s3://uala-arg-datalake-stage-prod/ar/amplitude/tb_ar_amplitude_events_stage/dt=2021-07-08/e7424666c027400db8eae5b8fda3c3db.snappy.parquet\n",
       "14238    s3://uala-arg-datalake-stage-prod/ar/amplitude/tb_ar_amplitude_events_stage/dt=2021-07-08/f215e75e94bb44aebb0a8e6e4e3ffd1c.snappy.parquet\n",
       "Name: path, Length: 14239, dtype: object"
      ]
     },
     "execution_count": 55,
     "metadata": {},
     "output_type": "execute_result"
    }
   ],
   "source": [
    "pd.set_option('display.max_columns', 500)  # or 1000\n",
    "pd.set_option('display.max_rows', 500)  # or 1000\n",
    "pd.set_option('display.max_colwidth', 199)  # or 199\n",
    "df_bucket_files.path"
   ]
  },
  {
   "cell_type": "code",
   "execution_count": null,
   "id": "342cf274",
   "metadata": {},
   "outputs": [],
   "source": []
  },
  {
   "cell_type": "code",
   "execution_count": null,
   "id": "9a8cae8e",
   "metadata": {},
   "outputs": [],
   "source": []
  },
  {
   "cell_type": "code",
   "execution_count": null,
   "id": "12dfeb5d",
   "metadata": {},
   "outputs": [],
   "source": []
  },
  {
   "cell_type": "code",
   "execution_count": 67,
   "id": "40d82e15",
   "metadata": {},
   "outputs": [],
   "source": [
    "import io\n",
    "import pandas as pd\n",
    "\n",
    "sts = boto3.client('sts')\n",
    "response = sts.assume_role(\n",
    "    RoleArn='arn:aws:iam::514405401387:role/aws-rol-ml-read-stage-prod', #es el rol que existe en produccion por el cual \"nos hacemos pasar\" para acceder a los buckets de s3\n",
    "    RoleSessionName='sesion-dsr-recomendaciones', # nombre que le damos a la sesión\n",
    "    DurationSeconds=3600 # es el tiempo que dura la sesion por default si no especificamos este parámetro.\n",
    ")\n",
    "\n",
    "buffer = io.BytesIO()\n",
    "s3 = boto3.resource( 's3',\n",
    "    aws_access_key_id=response['Credentials']['AccessKeyId'],\n",
    "    aws_secret_access_key=response['Credentials']['SecretAccessKey'],\n",
    "    aws_session_token=response['Credentials']['SessionToken']\n",
    ")\n",
    "\n",
    "objeto = s3.Object('uala-arg-datalake-stage-prod', 'ar/configs/tb_ar_configs_params/be46f255d9c44e59a70edbbf0b815874.snappy.parquet')\n",
    "objeto.download_fileobj(buffer)\n",
    "df = pd.read_parquet(buffer)"
   ]
  },
  {
   "cell_type": "code",
   "execution_count": 80,
   "id": "ccb9b09d",
   "metadata": {},
   "outputs": [
    {
     "data": {
      "text/plain": [
       "<StringArray>\n",
       "[      'account_status', 'card_delivery_status',          'card_status',\n",
       "              'country',             'currency',  'customer_occupation',\n",
       "         'general_type',       'marital_status',                  'mcc',\n",
       "               'origin',             'province',             'rejected',\n",
       "               'states', 'telerecargas_service',   'transaction_status',\n",
       "     'transaction_type']\n",
       "Length: 16, dtype: string"
      ]
     },
     "execution_count": 80,
     "metadata": {},
     "output_type": "execute_result"
    }
   ],
   "source": [
    "df.param_type.unique()"
   ]
  },
  {
   "cell_type": "code",
   "execution_count": 103,
   "id": "1617a818",
   "metadata": {},
   "outputs": [],
   "source": [
    "df=pd.read_parquet('s3://test-datascience-adquirencia-fraude/data/auxiliar/account_id_gp.parquet')"
   ]
  },
  {
   "cell_type": "code",
   "execution_count": 105,
   "id": "08bf9ad1",
   "metadata": {},
   "outputs": [
    {
     "data": {
      "text/plain": [
       "(3223634, 2)"
      ]
     },
     "execution_count": 105,
     "metadata": {},
     "output_type": "execute_result"
    }
   ],
   "source": [
    "df.shape"
   ]
  },
  {
   "cell_type": "code",
   "execution_count": 106,
   "id": "0bbc3e2f",
   "metadata": {},
   "outputs": [
    {
     "data": {
      "text/html": [
       "<div>\n",
       "<style scoped>\n",
       "    .dataframe tbody tr th:only-of-type {\n",
       "        vertical-align: middle;\n",
       "    }\n",
       "\n",
       "    .dataframe tbody tr th {\n",
       "        vertical-align: top;\n",
       "    }\n",
       "\n",
       "    .dataframe thead th {\n",
       "        text-align: right;\n",
       "    }\n",
       "</style>\n",
       "<table border=\"1\" class=\"dataframe\">\n",
       "  <thead>\n",
       "    <tr style=\"text-align: right;\">\n",
       "      <th></th>\n",
       "      <th>accountid</th>\n",
       "      <th>externalid</th>\n",
       "    </tr>\n",
       "  </thead>\n",
       "  <tbody>\n",
       "    <tr>\n",
       "      <th>0</th>\n",
       "      <td>f4e58c17-cf26-4404-9553-8b04d1b8a494</td>\n",
       "      <td>4529048</td>\n",
       "    </tr>\n",
       "    <tr>\n",
       "      <th>1</th>\n",
       "      <td>ea55bc3d-9c81-43d8-baa6-0f7bf5b77bc4</td>\n",
       "      <td>2556736</td>\n",
       "    </tr>\n",
       "    <tr>\n",
       "      <th>2</th>\n",
       "      <td>b762ef35-3409-4678-9af7-87094a527c87</td>\n",
       "      <td>9103947</td>\n",
       "    </tr>\n",
       "    <tr>\n",
       "      <th>3</th>\n",
       "      <td>fdea0f99-e150-4d62-bb2e-3aeb3ae2da90</td>\n",
       "      <td>2533350</td>\n",
       "    </tr>\n",
       "    <tr>\n",
       "      <th>4</th>\n",
       "      <td>2517a9b2-6eed-4cfd-8422-d8b8227afac6</td>\n",
       "      <td>7463979</td>\n",
       "    </tr>\n",
       "  </tbody>\n",
       "</table>\n",
       "</div>"
      ],
      "text/plain": [
       "                              accountid  externalid\n",
       "0  f4e58c17-cf26-4404-9553-8b04d1b8a494     4529048\n",
       "1  ea55bc3d-9c81-43d8-baa6-0f7bf5b77bc4     2556736\n",
       "2  b762ef35-3409-4678-9af7-87094a527c87     9103947\n",
       "3  fdea0f99-e150-4d62-bb2e-3aeb3ae2da90     2533350\n",
       "4  2517a9b2-6eed-4cfd-8422-d8b8227afac6     7463979"
      ]
     },
     "execution_count": 106,
     "metadata": {},
     "output_type": "execute_result"
    }
   ],
   "source": [
    "df.head()"
   ]
  }
 ],
 "metadata": {
  "kernelspec": {
   "display_name": "conda_python3",
   "language": "python",
   "name": "conda_python3"
  },
  "language_info": {
   "codemirror_mode": {
    "name": "ipython",
    "version": 3
   },
   "file_extension": ".py",
   "mimetype": "text/x-python",
   "name": "python",
   "nbconvert_exporter": "python",
   "pygments_lexer": "ipython3",
   "version": "3.6.13"
  }
 },
 "nbformat": 4,
 "nbformat_minor": 5
}
